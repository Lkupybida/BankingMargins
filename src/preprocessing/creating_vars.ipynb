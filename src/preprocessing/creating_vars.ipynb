{
 "cells": [
  {
   "cell_type": "code",
   "execution_count": 10,
   "id": "initial_id",
   "metadata": {
    "collapsed": true,
    "ExecuteTime": {
     "end_time": "2024-04-28T11:44:03.513979Z",
     "start_time": "2024-04-28T11:44:03.512333Z"
    }
   },
   "outputs": [],
   "source": [
    "import matplotlib.pyplot as plt\n",
    "import pandas as pd\n",
    "import os\n",
    "import warnings"
   ]
  },
  {
   "cell_type": "code",
   "execution_count": 12,
   "outputs": [],
   "source": [
    "def divide(file1, file2):\n",
    "    df1 = pd.read_csv(file1)\n",
    "    df2 = pd.read_csv(file2)\n",
    "    \n",
    "    for i in range(1, len(df1)):\n",
    "        for j in range(1, len(df1.columns)):\n",
    "            df1.iloc[i, j] /= df2.iloc[i, j]\n",
    "    \n",
    "    return df1\n",
    "\n",
    "\n",
    "output_file = 'only_sophomores/CR.csv'\n",
    "divide('selected_banks/NPL_sel.csv', 'selected_banks/CL_sel.csv').to_csv(output_file)"
   ],
   "metadata": {
    "collapsed": false,
    "ExecuteTime": {
     "end_time": "2024-04-28T11:44:38.042817Z",
     "start_time": "2024-04-28T11:44:37.987628Z"
    }
   },
   "id": "39ad3e9e97c05ef8"
  },
  {
   "cell_type": "code",
   "execution_count": 11,
   "outputs": [],
   "source": [],
   "metadata": {
    "collapsed": false,
    "ExecuteTime": {
     "end_time": "2024-04-28T11:44:03.586665Z",
     "start_time": "2024-04-28T11:44:03.584656Z"
    }
   },
   "id": "bc774652651e2917"
  }
 ],
 "metadata": {
  "kernelspec": {
   "display_name": "Python 3",
   "language": "python",
   "name": "python3"
  },
  "language_info": {
   "codemirror_mode": {
    "name": "ipython",
    "version": 2
   },
   "file_extension": ".py",
   "mimetype": "text/x-python",
   "name": "python",
   "nbconvert_exporter": "python",
   "pygments_lexer": "ipython2",
   "version": "2.7.6"
  }
 },
 "nbformat": 4,
 "nbformat_minor": 5
}
