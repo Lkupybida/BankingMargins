{
 "cells": [
  {
   "cell_type": "code",
   "execution_count": 1,
   "metadata": {},
   "outputs": [],
   "source": [
    "import pandas as pd\n",
    "import os"
   ]
  },
  {
   "cell_type": "code",
   "execution_count": 6,
   "metadata": {},
   "outputs": [],
   "source": [
    "banks_data = [ i for i in os.listdir(\"./../../data/norollsum\") if i[:-4] not in [\"INF\", \"PR\"]]\n",
    "for var in banks_data:\n",
    "    df = pd.read_csv(f\"./../../data/norollsum/{var}\")\n",
    "    column_names = [i for i in list(df.columns) if i != \"date\"]\n",
    "    df[var[:-4]] = df[column_names].sum(axis=1)\n",
    "    df = df[[\"date\", var[:-4]]]\n",
    "    # break\n",
    "    df.to_csv(f\"./../../data/composite_ser/{var}\", index=False)"
   ]
  }
 ],
 "metadata": {
  "kernelspec": {
   "display_name": "Python 3",
   "language": "python",
   "name": "python3"
  },
  "language_info": {
   "codemirror_mode": {
    "name": "ipython",
    "version": 3
   },
   "file_extension": ".py",
   "mimetype": "text/x-python",
   "name": "python",
   "nbconvert_exporter": "python",
   "pygments_lexer": "ipython3",
   "version": "3.12.3"
  }
 },
 "nbformat": 4,
 "nbformat_minor": 2
}
