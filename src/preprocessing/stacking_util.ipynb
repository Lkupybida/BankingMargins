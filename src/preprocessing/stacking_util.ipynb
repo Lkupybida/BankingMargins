{
 "cells": [
  {
   "cell_type": "code",
   "execution_count": 76,
   "metadata": {},
   "outputs": [],
   "source": [
    "import pandas as pd\n",
    "import os\n",
    "import statsmodels.formula.api as smf"
   ]
  },
  {
   "cell_type": "code",
   "execution_count": 97,
   "metadata": {},
   "outputs": [],
   "source": [
    "bank_names = {\n",
    "    \"cb privatbank\": \"Privat_Bank\",\n",
    "    \"credit agricole bank\": \"Credit_Agricole\",\n",
    "    \"fuib\": \"FUIB\",\n",
    "    \"kredobank\": \"Kredobank\",\n",
    "    \"oschadbank\": \"Oschadbank\",\n",
    "    \"otp bank\": \"OTP\",\n",
    "    \"pivdennyi bank\": \"Pivdennyi\",\n",
    "    \"raiffeisen bank\": \"Raiffeisen\",\n",
    "    \"sense bank\": \"Sense\",\n",
    "    \"ukrsibbank\": \"Ukrsibbank\",\n",
    "    \"universal bank\": \"Universal\"\n",
    "}"
   ]
  },
  {
   "cell_type": "code",
   "execution_count": 116,
   "metadata": {},
   "outputs": [],
   "source": [
    "data_folder = \"./../../data/positive_banks\"\n",
    "\n",
    "inf_df = pd.read_csv(data_folder + \"/INF.csv\", index_col=0)\n",
    "inf_df.index = pd.to_datetime(inf_df.index, format=\"%Y-%m-%d\")\n",
    "pr_df = pd.read_csv(data_folder + \"/PR.csv\", index_col=0)\n",
    "pr_df.index = pd.to_datetime(pr_df.index, format=\"%Y-%m-%d\")\n",
    "\n",
    "stacked = {\"Bank\":[], \"Date\":[], \"INF\":[], \"PR\": []}\n",
    "a = True\n",
    "for i in [j for j in os.listdir(data_folder) if j not in [\"INF.csv\", \"PR.csv\"]]:\n",
    "    var = i[:-4]\n",
    "    stacked[var] = []\n",
    "    df = pd.read_csv(f\"{data_folder}/{i}\", index_col=0)\n",
    "    for date in df.index:\n",
    "        for bank in df.columns:\n",
    "            if a:\n",
    "                stacked[\"Bank\"].append(bank)\n",
    "                stacked[\"Date\"].append(date)\n",
    "                stacked[\"INF\"].append(inf_df[inf_df.index == date][\"inf\"].iloc[0])\n",
    "                stacked[\"PR\"].append(pr_df[pr_df.index == date][\"PR\"].iloc[0])\n",
    "            stacked[var].append(df.loc[date][bank])\n",
    "    a = False\n",
    "\n",
    "# for i in stacked.keys():\n",
    "#     print(i , len(stacked[i]))\n",
    "resulting_df = pd.DataFrame(stacked).replace(bank_names)\n",
    "dummies = pd.get_dummies(resulting_df.Bank, dtype=int)\n",
    "dummies.columns = [f'is_{i}' for i in dummies]\n",
    "for i in dummies:\n",
    "    resulting_df[i] = dummies[i]"
   ]
  },
  {
   "cell_type": "code",
   "execution_count": 117,
   "metadata": {},
   "outputs": [
    {
     "name": "stdout",
     "output_type": "stream",
     "text": [
      "<class 'pandas.core.frame.DataFrame'>\n",
      "RangeIndex: 561 entries, 0 to 560\n",
      "Data columns (total 25 columns):\n",
      " #   Column              Non-Null Count  Dtype  \n",
      "---  ------              --------------  -----  \n",
      " 0   Bank                561 non-null    object \n",
      " 1   Date                561 non-null    object \n",
      " 2   INF                 561 non-null    float64\n",
      " 3   PR                  561 non-null    float64\n",
      " 4   CDR                 561 non-null    float64\n",
      " 5   CR                  561 non-null    float64\n",
      " 6   LAS                 561 non-null    float64\n",
      " 7   NIA                 561 non-null    float64\n",
      " 8   NIM                 561 non-null    float64\n",
      " 9   OE                  561 non-null    float64\n",
      " 10  RA                  561 non-null    float64\n",
      " 11  ROA                 561 non-null    float64\n",
      " 12  SCTA                561 non-null    float64\n",
      " 13  SIZE                561 non-null    float64\n",
      " 14  is_Credit_Agricole  561 non-null    int32  \n",
      " 15  is_FUIB             561 non-null    int32  \n",
      " 16  is_Kredobank        561 non-null    int32  \n",
      " 17  is_OTP              561 non-null    int32  \n",
      " 18  is_Oschadbank       561 non-null    int32  \n",
      " 19  is_Pivdennyi        561 non-null    int32  \n",
      " 20  is_Privat_Bank      561 non-null    int32  \n",
      " 21  is_Raiffeisen       561 non-null    int32  \n",
      " 22  is_Sense            561 non-null    int32  \n",
      " 23  is_Ukrsibbank       561 non-null    int32  \n",
      " 24  is_Universal        561 non-null    int32  \n",
      "dtypes: float64(12), int32(11), object(2)\n",
      "memory usage: 85.6+ KB\n"
     ]
    }
   ],
   "source": [
    "resulting_df.columns\n",
    "resulting_df.info()"
   ]
  },
  {
   "cell_type": "code",
   "execution_count": 124,
   "metadata": {},
   "outputs": [
    {
     "ename": "PatsyError",
     "evalue": "numbers besides '0' and '1' are only allowed with **\n    NIM ~ PR + CDR + INF + LAS + CR + NIA + OE + RA + ROA + SCTA + SIZE +     is_Credit_Agricole + is_FUIB + is_Kredobank + is_OTP + is_Oschadbank + is_Pivdennyi +         is_Privat_Bank + is_Raiffeisen + is_Sense + is_Ukrsibbank + is_Universal\n                     ^^^",
     "output_type": "error",
     "traceback": [
      "\u001b[1;31m---------------------------------------------------------------------------\u001b[0m",
      "\u001b[1;31mPatsyError\u001b[0m                                Traceback (most recent call last)",
      "Cell \u001b[1;32mIn[124], line 9\u001b[0m\n\u001b[0;32m      1\u001b[0m regression_string \u001b[38;5;241m=\u001b[39m \u001b[38;5;124m'\u001b[39m\u001b[38;5;124mNIM ~ PR + CDR + INF + LAS + CR + NIA + OE + RA + ROA + SCTA + SIZE + \u001b[39m\u001b[38;5;130;01m\\\u001b[39;00m\n\u001b[0;32m      2\u001b[0m \u001b[38;5;124m    is_Credit_Agricole + is_FUIB + is_Kredobank + is_OTP + is_Oschadbank + is_Pivdennyi + \u001b[39m\u001b[38;5;130;01m\\\u001b[39;00m\n\u001b[0;32m      3\u001b[0m \u001b[38;5;124m        is_Privat_Bank + is_Raiffeisen + is_Sense + is_Ukrsibbank + is_Universal\u001b[39m\u001b[38;5;124m'\u001b[39m\n\u001b[0;32m      5\u001b[0m \u001b[38;5;66;03m# regression_string = 'NIM ~ PR + CR + LAS + SIZE + \\\u001b[39;00m\n\u001b[0;32m      6\u001b[0m \u001b[38;5;66;03m#     is_Credit_Agricole + is_FUIB + is_Kredobank + is_OTP + is_Oschadbank + is_Pivdennyi + \\\u001b[39;00m\n\u001b[0;32m      7\u001b[0m \u001b[38;5;66;03m#         is_Privat_Bank + is_Raiffeisen + is_Sense + is_Ukrsibbank + is_Universal'\u001b[39;00m\n\u001b[1;32m----> 9\u001b[0m mod3 \u001b[38;5;241m=\u001b[39m \u001b[43msmf\u001b[49m\u001b[38;5;241;43m.\u001b[39;49m\u001b[43mols\u001b[49m\u001b[43m(\u001b[49m\u001b[43mformula\u001b[49m\u001b[38;5;241;43m=\u001b[39;49m\u001b[43mregression_string\u001b[49m\u001b[43m,\u001b[49m\u001b[43m \u001b[49m\u001b[43mdata\u001b[49m\u001b[38;5;241;43m=\u001b[39;49m\u001b[43mresulting_df\u001b[49m\u001b[43m)\u001b[49m\n\u001b[0;32m     10\u001b[0m res3 \u001b[38;5;241m=\u001b[39m mod3\u001b[38;5;241m.\u001b[39mfit()\n\u001b[0;32m     11\u001b[0m \u001b[38;5;28mprint\u001b[39m(res3\u001b[38;5;241m.\u001b[39msummary())\n",
      "File \u001b[1;32mc:\\Users\\ustym\\AppData\\Local\\Programs\\Python\\Python312\\Lib\\site-packages\\statsmodels\\base\\model.py:203\u001b[0m, in \u001b[0;36mModel.from_formula\u001b[1;34m(cls, formula, data, subset, drop_cols, *args, **kwargs)\u001b[0m\n\u001b[0;32m    200\u001b[0m \u001b[38;5;28;01mif\u001b[39;00m missing \u001b[38;5;241m==\u001b[39m \u001b[38;5;124m'\u001b[39m\u001b[38;5;124mnone\u001b[39m\u001b[38;5;124m'\u001b[39m:  \u001b[38;5;66;03m# with patsy it's drop or raise. let's raise.\u001b[39;00m\n\u001b[0;32m    201\u001b[0m     missing \u001b[38;5;241m=\u001b[39m \u001b[38;5;124m'\u001b[39m\u001b[38;5;124mraise\u001b[39m\u001b[38;5;124m'\u001b[39m\n\u001b[1;32m--> 203\u001b[0m tmp \u001b[38;5;241m=\u001b[39m \u001b[43mhandle_formula_data\u001b[49m\u001b[43m(\u001b[49m\u001b[43mdata\u001b[49m\u001b[43m,\u001b[49m\u001b[43m \u001b[49m\u001b[38;5;28;43;01mNone\u001b[39;49;00m\u001b[43m,\u001b[49m\u001b[43m \u001b[49m\u001b[43mformula\u001b[49m\u001b[43m,\u001b[49m\u001b[43m \u001b[49m\u001b[43mdepth\u001b[49m\u001b[38;5;241;43m=\u001b[39;49m\u001b[43meval_env\u001b[49m\u001b[43m,\u001b[49m\n\u001b[0;32m    204\u001b[0m \u001b[43m                          \u001b[49m\u001b[43mmissing\u001b[49m\u001b[38;5;241;43m=\u001b[39;49m\u001b[43mmissing\u001b[49m\u001b[43m)\u001b[49m\n\u001b[0;32m    205\u001b[0m ((endog, exog), missing_idx, design_info) \u001b[38;5;241m=\u001b[39m tmp\n\u001b[0;32m    206\u001b[0m max_endog \u001b[38;5;241m=\u001b[39m \u001b[38;5;28mcls\u001b[39m\u001b[38;5;241m.\u001b[39m_formula_max_endog\n",
      "File \u001b[1;32mc:\\Users\\ustym\\AppData\\Local\\Programs\\Python\\Python312\\Lib\\site-packages\\statsmodels\\formula\\formulatools.py:63\u001b[0m, in \u001b[0;36mhandle_formula_data\u001b[1;34m(Y, X, formula, depth, missing)\u001b[0m\n\u001b[0;32m     61\u001b[0m \u001b[38;5;28;01melse\u001b[39;00m:\n\u001b[0;32m     62\u001b[0m     \u001b[38;5;28;01mif\u001b[39;00m data_util\u001b[38;5;241m.\u001b[39m_is_using_pandas(Y, \u001b[38;5;28;01mNone\u001b[39;00m):\n\u001b[1;32m---> 63\u001b[0m         result \u001b[38;5;241m=\u001b[39m \u001b[43mdmatrices\u001b[49m\u001b[43m(\u001b[49m\u001b[43mformula\u001b[49m\u001b[43m,\u001b[49m\u001b[43m \u001b[49m\u001b[43mY\u001b[49m\u001b[43m,\u001b[49m\u001b[43m \u001b[49m\u001b[43mdepth\u001b[49m\u001b[43m,\u001b[49m\u001b[43m \u001b[49m\u001b[43mreturn_type\u001b[49m\u001b[38;5;241;43m=\u001b[39;49m\u001b[38;5;124;43m'\u001b[39;49m\u001b[38;5;124;43mdataframe\u001b[39;49m\u001b[38;5;124;43m'\u001b[39;49m\u001b[43m,\u001b[49m\n\u001b[0;32m     64\u001b[0m \u001b[43m                           \u001b[49m\u001b[43mNA_action\u001b[49m\u001b[38;5;241;43m=\u001b[39;49m\u001b[43mna_action\u001b[49m\u001b[43m)\u001b[49m\n\u001b[0;32m     65\u001b[0m     \u001b[38;5;28;01melse\u001b[39;00m:\n\u001b[0;32m     66\u001b[0m         result \u001b[38;5;241m=\u001b[39m dmatrices(formula, Y, depth, return_type\u001b[38;5;241m=\u001b[39m\u001b[38;5;124m'\u001b[39m\u001b[38;5;124mdataframe\u001b[39m\u001b[38;5;124m'\u001b[39m,\n\u001b[0;32m     67\u001b[0m                            NA_action\u001b[38;5;241m=\u001b[39mna_action)\n",
      "File \u001b[1;32mc:\\Users\\ustym\\AppData\\Local\\Programs\\Python\\Python312\\Lib\\site-packages\\patsy\\highlevel.py:309\u001b[0m, in \u001b[0;36mdmatrices\u001b[1;34m(formula_like, data, eval_env, NA_action, return_type)\u001b[0m\n\u001b[0;32m    299\u001b[0m \u001b[38;5;250m\u001b[39m\u001b[38;5;124;03m\"\"\"Construct two design matrices given a formula_like and data.\u001b[39;00m\n\u001b[0;32m    300\u001b[0m \n\u001b[0;32m    301\u001b[0m \u001b[38;5;124;03mThis function is identical to :func:`dmatrix`, except that it requires\u001b[39;00m\n\u001b[1;32m   (...)\u001b[0m\n\u001b[0;32m    306\u001b[0m \u001b[38;5;124;03mSee :func:`dmatrix` for details.\u001b[39;00m\n\u001b[0;32m    307\u001b[0m \u001b[38;5;124;03m\"\"\"\u001b[39;00m\n\u001b[0;32m    308\u001b[0m eval_env \u001b[38;5;241m=\u001b[39m EvalEnvironment\u001b[38;5;241m.\u001b[39mcapture(eval_env, reference\u001b[38;5;241m=\u001b[39m\u001b[38;5;241m1\u001b[39m)\n\u001b[1;32m--> 309\u001b[0m (lhs, rhs) \u001b[38;5;241m=\u001b[39m \u001b[43m_do_highlevel_design\u001b[49m\u001b[43m(\u001b[49m\u001b[43mformula_like\u001b[49m\u001b[43m,\u001b[49m\u001b[43m \u001b[49m\u001b[43mdata\u001b[49m\u001b[43m,\u001b[49m\u001b[43m \u001b[49m\u001b[43meval_env\u001b[49m\u001b[43m,\u001b[49m\n\u001b[0;32m    310\u001b[0m \u001b[43m                                  \u001b[49m\u001b[43mNA_action\u001b[49m\u001b[43m,\u001b[49m\u001b[43m \u001b[49m\u001b[43mreturn_type\u001b[49m\u001b[43m)\u001b[49m\n\u001b[0;32m    311\u001b[0m \u001b[38;5;28;01mif\u001b[39;00m lhs\u001b[38;5;241m.\u001b[39mshape[\u001b[38;5;241m1\u001b[39m] \u001b[38;5;241m==\u001b[39m \u001b[38;5;241m0\u001b[39m:\n\u001b[0;32m    312\u001b[0m     \u001b[38;5;28;01mraise\u001b[39;00m PatsyError(\u001b[38;5;124m\"\u001b[39m\u001b[38;5;124mmodel is missing required outcome variables\u001b[39m\u001b[38;5;124m\"\u001b[39m)\n",
      "File \u001b[1;32mc:\\Users\\ustym\\AppData\\Local\\Programs\\Python\\Python312\\Lib\\site-packages\\patsy\\highlevel.py:164\u001b[0m, in \u001b[0;36m_do_highlevel_design\u001b[1;34m(formula_like, data, eval_env, NA_action, return_type)\u001b[0m\n\u001b[0;32m    162\u001b[0m \u001b[38;5;28;01mdef\u001b[39;00m \u001b[38;5;21mdata_iter_maker\u001b[39m():\n\u001b[0;32m    163\u001b[0m     \u001b[38;5;28;01mreturn\u001b[39;00m \u001b[38;5;28miter\u001b[39m([data])\n\u001b[1;32m--> 164\u001b[0m design_infos \u001b[38;5;241m=\u001b[39m \u001b[43m_try_incr_builders\u001b[49m\u001b[43m(\u001b[49m\u001b[43mformula_like\u001b[49m\u001b[43m,\u001b[49m\u001b[43m \u001b[49m\u001b[43mdata_iter_maker\u001b[49m\u001b[43m,\u001b[49m\u001b[43m \u001b[49m\u001b[43meval_env\u001b[49m\u001b[43m,\u001b[49m\n\u001b[0;32m    165\u001b[0m \u001b[43m                                  \u001b[49m\u001b[43mNA_action\u001b[49m\u001b[43m)\u001b[49m\n\u001b[0;32m    166\u001b[0m \u001b[38;5;28;01mif\u001b[39;00m design_infos \u001b[38;5;129;01mis\u001b[39;00m \u001b[38;5;129;01mnot\u001b[39;00m \u001b[38;5;28;01mNone\u001b[39;00m:\n\u001b[0;32m    167\u001b[0m     \u001b[38;5;28;01mreturn\u001b[39;00m build_design_matrices(design_infos, data,\n\u001b[0;32m    168\u001b[0m                                  NA_action\u001b[38;5;241m=\u001b[39mNA_action,\n\u001b[0;32m    169\u001b[0m                                  return_type\u001b[38;5;241m=\u001b[39mreturn_type)\n",
      "File \u001b[1;32mc:\\Users\\ustym\\AppData\\Local\\Programs\\Python\\Python312\\Lib\\site-packages\\patsy\\highlevel.py:62\u001b[0m, in \u001b[0;36m_try_incr_builders\u001b[1;34m(formula_like, data_iter_maker, eval_env, NA_action)\u001b[0m\n\u001b[0;32m     55\u001b[0m         \u001b[38;5;28;01mraise\u001b[39;00m PatsyError(\n\u001b[0;32m     56\u001b[0m             \u001b[38;5;124m\"\u001b[39m\u001b[38;5;124mOn Python 2, formula strings must be either \u001b[39m\u001b[38;5;124m'\u001b[39m\u001b[38;5;124mstr\u001b[39m\u001b[38;5;124m'\u001b[39m\u001b[38;5;124m objects, \u001b[39m\u001b[38;5;124m\"\u001b[39m\n\u001b[0;32m     57\u001b[0m             \u001b[38;5;124m\"\u001b[39m\u001b[38;5;124mor else \u001b[39m\u001b[38;5;124m'\u001b[39m\u001b[38;5;124municode\u001b[39m\u001b[38;5;124m'\u001b[39m\u001b[38;5;124m objects containing only ascii \u001b[39m\u001b[38;5;124m\"\u001b[39m\n\u001b[0;32m     58\u001b[0m             \u001b[38;5;124m\"\u001b[39m\u001b[38;5;124mcharacters. You passed a unicode string with non-ascii \u001b[39m\u001b[38;5;124m\"\u001b[39m\n\u001b[0;32m     59\u001b[0m             \u001b[38;5;124m\"\u001b[39m\u001b[38;5;124mcharacters. I\u001b[39m\u001b[38;5;124m'\u001b[39m\u001b[38;5;124mm afraid you\u001b[39m\u001b[38;5;124m'\u001b[39m\u001b[38;5;124mll have to either switch to \u001b[39m\u001b[38;5;124m\"\u001b[39m\n\u001b[0;32m     60\u001b[0m             \u001b[38;5;124m\"\u001b[39m\u001b[38;5;124mascii-only, or else upgrade to Python 3.\u001b[39m\u001b[38;5;124m\"\u001b[39m)\n\u001b[0;32m     61\u001b[0m \u001b[38;5;28;01mif\u001b[39;00m \u001b[38;5;28misinstance\u001b[39m(formula_like, \u001b[38;5;28mstr\u001b[39m):\n\u001b[1;32m---> 62\u001b[0m     formula_like \u001b[38;5;241m=\u001b[39m \u001b[43mModelDesc\u001b[49m\u001b[38;5;241;43m.\u001b[39;49m\u001b[43mfrom_formula\u001b[49m\u001b[43m(\u001b[49m\u001b[43mformula_like\u001b[49m\u001b[43m)\u001b[49m\n\u001b[0;32m     63\u001b[0m     \u001b[38;5;66;03m# fallthrough\u001b[39;00m\n\u001b[0;32m     64\u001b[0m \u001b[38;5;28;01mif\u001b[39;00m \u001b[38;5;28misinstance\u001b[39m(formula_like, ModelDesc):\n",
      "File \u001b[1;32mc:\\Users\\ustym\\AppData\\Local\\Programs\\Python\\Python312\\Lib\\site-packages\\patsy\\desc.py:165\u001b[0m, in \u001b[0;36mModelDesc.from_formula\u001b[1;34m(cls, tree_or_string)\u001b[0m\n\u001b[0;32m    163\u001b[0m \u001b[38;5;28;01melse\u001b[39;00m:\n\u001b[0;32m    164\u001b[0m     tree \u001b[38;5;241m=\u001b[39m parse_formula(tree_or_string)\n\u001b[1;32m--> 165\u001b[0m value \u001b[38;5;241m=\u001b[39m \u001b[43mEvaluator\u001b[49m\u001b[43m(\u001b[49m\u001b[43m)\u001b[49m\u001b[38;5;241;43m.\u001b[39;49m\u001b[43meval\u001b[49m\u001b[43m(\u001b[49m\u001b[43mtree\u001b[49m\u001b[43m,\u001b[49m\u001b[43m \u001b[49m\u001b[43mrequire_evalexpr\u001b[49m\u001b[38;5;241;43m=\u001b[39;49m\u001b[38;5;28;43;01mFalse\u001b[39;49;00m\u001b[43m)\u001b[49m\n\u001b[0;32m    166\u001b[0m \u001b[38;5;28;01massert\u001b[39;00m \u001b[38;5;28misinstance\u001b[39m(value, \u001b[38;5;28mcls\u001b[39m)\n\u001b[0;32m    167\u001b[0m \u001b[38;5;28;01mreturn\u001b[39;00m value\n",
      "File \u001b[1;32mc:\\Users\\ustym\\AppData\\Local\\Programs\\Python\\Python312\\Lib\\site-packages\\patsy\\desc.py:400\u001b[0m, in \u001b[0;36mEvaluator.eval\u001b[1;34m(self, tree, require_evalexpr)\u001b[0m\n\u001b[0;32m    396\u001b[0m \u001b[38;5;28;01mif\u001b[39;00m key \u001b[38;5;129;01mnot\u001b[39;00m \u001b[38;5;129;01min\u001b[39;00m \u001b[38;5;28mself\u001b[39m\u001b[38;5;241m.\u001b[39m_evaluators:\n\u001b[0;32m    397\u001b[0m     \u001b[38;5;28;01mraise\u001b[39;00m PatsyError(\u001b[38;5;124m\"\u001b[39m\u001b[38;5;124mI don\u001b[39m\u001b[38;5;124m'\u001b[39m\u001b[38;5;124mt know how to evaluate this \u001b[39m\u001b[38;5;124m\"\u001b[39m\n\u001b[0;32m    398\u001b[0m                         \u001b[38;5;124m\"\u001b[39m\u001b[38;5;124m'\u001b[39m\u001b[38;5;132;01m%s\u001b[39;00m\u001b[38;5;124m'\u001b[39m\u001b[38;5;124m operator\u001b[39m\u001b[38;5;124m\"\u001b[39m \u001b[38;5;241m%\u001b[39m (tree\u001b[38;5;241m.\u001b[39mtype,),\n\u001b[0;32m    399\u001b[0m                         tree\u001b[38;5;241m.\u001b[39mtoken)\n\u001b[1;32m--> 400\u001b[0m result \u001b[38;5;241m=\u001b[39m \u001b[38;5;28;43mself\u001b[39;49m\u001b[38;5;241;43m.\u001b[39;49m\u001b[43m_evaluators\u001b[49m\u001b[43m[\u001b[49m\u001b[43mkey\u001b[49m\u001b[43m]\u001b[49m\u001b[43m(\u001b[49m\u001b[38;5;28;43mself\u001b[39;49m\u001b[43m,\u001b[49m\u001b[43m \u001b[49m\u001b[43mtree\u001b[49m\u001b[43m)\u001b[49m\n\u001b[0;32m    401\u001b[0m \u001b[38;5;28;01mif\u001b[39;00m require_evalexpr \u001b[38;5;129;01mand\u001b[39;00m \u001b[38;5;129;01mnot\u001b[39;00m \u001b[38;5;28misinstance\u001b[39m(result, IntermediateExpr):\n\u001b[0;32m    402\u001b[0m     \u001b[38;5;28;01mif\u001b[39;00m \u001b[38;5;28misinstance\u001b[39m(result, ModelDesc):\n",
      "File \u001b[1;32mc:\\Users\\ustym\\AppData\\Local\\Programs\\Python\\Python312\\Lib\\site-packages\\patsy\\desc.py:221\u001b[0m, in \u001b[0;36m_eval_any_tilde\u001b[1;34m(evaluator, tree)\u001b[0m\n\u001b[0;32m    220\u001b[0m \u001b[38;5;28;01mdef\u001b[39;00m \u001b[38;5;21m_eval_any_tilde\u001b[39m(evaluator, tree):\n\u001b[1;32m--> 221\u001b[0m     exprs \u001b[38;5;241m=\u001b[39m [\u001b[43mevaluator\u001b[49m\u001b[38;5;241;43m.\u001b[39;49m\u001b[43meval\u001b[49m\u001b[43m(\u001b[49m\u001b[43marg\u001b[49m\u001b[43m)\u001b[49m \u001b[38;5;28;01mfor\u001b[39;00m arg \u001b[38;5;129;01min\u001b[39;00m tree\u001b[38;5;241m.\u001b[39margs]    \n\u001b[0;32m    222\u001b[0m     \u001b[38;5;28;01mif\u001b[39;00m \u001b[38;5;28mlen\u001b[39m(exprs) \u001b[38;5;241m==\u001b[39m \u001b[38;5;241m1\u001b[39m:\n\u001b[0;32m    223\u001b[0m         \u001b[38;5;66;03m# Formula was like: \"~ foo\"\u001b[39;00m\n\u001b[0;32m    224\u001b[0m         \u001b[38;5;66;03m# We pretend that instead it was like: \"0 ~ foo\"\u001b[39;00m\n\u001b[0;32m    225\u001b[0m         exprs\u001b[38;5;241m.\u001b[39minsert(\u001b[38;5;241m0\u001b[39m, IntermediateExpr(\u001b[38;5;28;01mFalse\u001b[39;00m, \u001b[38;5;28;01mNone\u001b[39;00m, \u001b[38;5;28;01mTrue\u001b[39;00m, []))\n",
      "File \u001b[1;32mc:\\Users\\ustym\\AppData\\Local\\Programs\\Python\\Python312\\Lib\\site-packages\\patsy\\desc.py:400\u001b[0m, in \u001b[0;36mEvaluator.eval\u001b[1;34m(self, tree, require_evalexpr)\u001b[0m\n\u001b[0;32m    396\u001b[0m \u001b[38;5;28;01mif\u001b[39;00m key \u001b[38;5;129;01mnot\u001b[39;00m \u001b[38;5;129;01min\u001b[39;00m \u001b[38;5;28mself\u001b[39m\u001b[38;5;241m.\u001b[39m_evaluators:\n\u001b[0;32m    397\u001b[0m     \u001b[38;5;28;01mraise\u001b[39;00m PatsyError(\u001b[38;5;124m\"\u001b[39m\u001b[38;5;124mI don\u001b[39m\u001b[38;5;124m'\u001b[39m\u001b[38;5;124mt know how to evaluate this \u001b[39m\u001b[38;5;124m\"\u001b[39m\n\u001b[0;32m    398\u001b[0m                         \u001b[38;5;124m\"\u001b[39m\u001b[38;5;124m'\u001b[39m\u001b[38;5;132;01m%s\u001b[39;00m\u001b[38;5;124m'\u001b[39m\u001b[38;5;124m operator\u001b[39m\u001b[38;5;124m\"\u001b[39m \u001b[38;5;241m%\u001b[39m (tree\u001b[38;5;241m.\u001b[39mtype,),\n\u001b[0;32m    399\u001b[0m                         tree\u001b[38;5;241m.\u001b[39mtoken)\n\u001b[1;32m--> 400\u001b[0m result \u001b[38;5;241m=\u001b[39m \u001b[38;5;28;43mself\u001b[39;49m\u001b[38;5;241;43m.\u001b[39;49m\u001b[43m_evaluators\u001b[49m\u001b[43m[\u001b[49m\u001b[43mkey\u001b[49m\u001b[43m]\u001b[49m\u001b[43m(\u001b[49m\u001b[38;5;28;43mself\u001b[39;49m\u001b[43m,\u001b[49m\u001b[43m \u001b[49m\u001b[43mtree\u001b[49m\u001b[43m)\u001b[49m\n\u001b[0;32m    401\u001b[0m \u001b[38;5;28;01mif\u001b[39;00m require_evalexpr \u001b[38;5;129;01mand\u001b[39;00m \u001b[38;5;129;01mnot\u001b[39;00m \u001b[38;5;28misinstance\u001b[39m(result, IntermediateExpr):\n\u001b[0;32m    402\u001b[0m     \u001b[38;5;28;01mif\u001b[39;00m \u001b[38;5;28misinstance\u001b[39m(result, ModelDesc):\n",
      "File \u001b[1;32mc:\\Users\\ustym\\AppData\\Local\\Programs\\Python\\Python312\\Lib\\site-packages\\patsy\\desc.py:233\u001b[0m, in \u001b[0;36m_eval_binary_plus\u001b[1;34m(evaluator, tree)\u001b[0m\n\u001b[0;32m    232\u001b[0m \u001b[38;5;28;01mdef\u001b[39;00m \u001b[38;5;21m_eval_binary_plus\u001b[39m(evaluator, tree):\n\u001b[1;32m--> 233\u001b[0m     left_expr \u001b[38;5;241m=\u001b[39m \u001b[43mevaluator\u001b[49m\u001b[38;5;241;43m.\u001b[39;49m\u001b[43meval\u001b[49m\u001b[43m(\u001b[49m\u001b[43mtree\u001b[49m\u001b[38;5;241;43m.\u001b[39;49m\u001b[43margs\u001b[49m\u001b[43m[\u001b[49m\u001b[38;5;241;43m0\u001b[39;49m\u001b[43m]\u001b[49m\u001b[43m)\u001b[49m\n\u001b[0;32m    234\u001b[0m     \u001b[38;5;28;01mif\u001b[39;00m tree\u001b[38;5;241m.\u001b[39margs[\u001b[38;5;241m1\u001b[39m]\u001b[38;5;241m.\u001b[39mtype \u001b[38;5;241m==\u001b[39m \u001b[38;5;124m\"\u001b[39m\u001b[38;5;124mZERO\u001b[39m\u001b[38;5;124m\"\u001b[39m:\n\u001b[0;32m    235\u001b[0m         \u001b[38;5;28;01mreturn\u001b[39;00m IntermediateExpr(\u001b[38;5;28;01mFalse\u001b[39;00m, \u001b[38;5;28;01mNone\u001b[39;00m, \u001b[38;5;28;01mTrue\u001b[39;00m, left_expr\u001b[38;5;241m.\u001b[39mterms)\n",
      "File \u001b[1;32mc:\\Users\\ustym\\AppData\\Local\\Programs\\Python\\Python312\\Lib\\site-packages\\patsy\\desc.py:400\u001b[0m, in \u001b[0;36mEvaluator.eval\u001b[1;34m(self, tree, require_evalexpr)\u001b[0m\n\u001b[0;32m    396\u001b[0m \u001b[38;5;28;01mif\u001b[39;00m key \u001b[38;5;129;01mnot\u001b[39;00m \u001b[38;5;129;01min\u001b[39;00m \u001b[38;5;28mself\u001b[39m\u001b[38;5;241m.\u001b[39m_evaluators:\n\u001b[0;32m    397\u001b[0m     \u001b[38;5;28;01mraise\u001b[39;00m PatsyError(\u001b[38;5;124m\"\u001b[39m\u001b[38;5;124mI don\u001b[39m\u001b[38;5;124m'\u001b[39m\u001b[38;5;124mt know how to evaluate this \u001b[39m\u001b[38;5;124m\"\u001b[39m\n\u001b[0;32m    398\u001b[0m                         \u001b[38;5;124m\"\u001b[39m\u001b[38;5;124m'\u001b[39m\u001b[38;5;132;01m%s\u001b[39;00m\u001b[38;5;124m'\u001b[39m\u001b[38;5;124m operator\u001b[39m\u001b[38;5;124m\"\u001b[39m \u001b[38;5;241m%\u001b[39m (tree\u001b[38;5;241m.\u001b[39mtype,),\n\u001b[0;32m    399\u001b[0m                         tree\u001b[38;5;241m.\u001b[39mtoken)\n\u001b[1;32m--> 400\u001b[0m result \u001b[38;5;241m=\u001b[39m \u001b[38;5;28;43mself\u001b[39;49m\u001b[38;5;241;43m.\u001b[39;49m\u001b[43m_evaluators\u001b[49m\u001b[43m[\u001b[49m\u001b[43mkey\u001b[49m\u001b[43m]\u001b[49m\u001b[43m(\u001b[49m\u001b[38;5;28;43mself\u001b[39;49m\u001b[43m,\u001b[49m\u001b[43m \u001b[49m\u001b[43mtree\u001b[49m\u001b[43m)\u001b[49m\n\u001b[0;32m    401\u001b[0m \u001b[38;5;28;01mif\u001b[39;00m require_evalexpr \u001b[38;5;129;01mand\u001b[39;00m \u001b[38;5;129;01mnot\u001b[39;00m \u001b[38;5;28misinstance\u001b[39m(result, IntermediateExpr):\n\u001b[0;32m    402\u001b[0m     \u001b[38;5;28;01mif\u001b[39;00m \u001b[38;5;28misinstance\u001b[39m(result, ModelDesc):\n",
      "File \u001b[1;32mc:\\Users\\ustym\\AppData\\Local\\Programs\\Python\\Python312\\Lib\\site-packages\\patsy\\desc.py:233\u001b[0m, in \u001b[0;36m_eval_binary_plus\u001b[1;34m(evaluator, tree)\u001b[0m\n\u001b[0;32m    232\u001b[0m \u001b[38;5;28;01mdef\u001b[39;00m \u001b[38;5;21m_eval_binary_plus\u001b[39m(evaluator, tree):\n\u001b[1;32m--> 233\u001b[0m     left_expr \u001b[38;5;241m=\u001b[39m \u001b[43mevaluator\u001b[49m\u001b[38;5;241;43m.\u001b[39;49m\u001b[43meval\u001b[49m\u001b[43m(\u001b[49m\u001b[43mtree\u001b[49m\u001b[38;5;241;43m.\u001b[39;49m\u001b[43margs\u001b[49m\u001b[43m[\u001b[49m\u001b[38;5;241;43m0\u001b[39;49m\u001b[43m]\u001b[49m\u001b[43m)\u001b[49m\n\u001b[0;32m    234\u001b[0m     \u001b[38;5;28;01mif\u001b[39;00m tree\u001b[38;5;241m.\u001b[39margs[\u001b[38;5;241m1\u001b[39m]\u001b[38;5;241m.\u001b[39mtype \u001b[38;5;241m==\u001b[39m \u001b[38;5;124m\"\u001b[39m\u001b[38;5;124mZERO\u001b[39m\u001b[38;5;124m\"\u001b[39m:\n\u001b[0;32m    235\u001b[0m         \u001b[38;5;28;01mreturn\u001b[39;00m IntermediateExpr(\u001b[38;5;28;01mFalse\u001b[39;00m, \u001b[38;5;28;01mNone\u001b[39;00m, \u001b[38;5;28;01mTrue\u001b[39;00m, left_expr\u001b[38;5;241m.\u001b[39mterms)\n",
      "    \u001b[1;31m[... skipping similar frames: Evaluator.eval at line 400 (17 times), _eval_binary_plus at line 233 (16 times)]\u001b[0m\n",
      "File \u001b[1;32mc:\\Users\\ustym\\AppData\\Local\\Programs\\Python\\Python312\\Lib\\site-packages\\patsy\\desc.py:233\u001b[0m, in \u001b[0;36m_eval_binary_plus\u001b[1;34m(evaluator, tree)\u001b[0m\n\u001b[0;32m    232\u001b[0m \u001b[38;5;28;01mdef\u001b[39;00m \u001b[38;5;21m_eval_binary_plus\u001b[39m(evaluator, tree):\n\u001b[1;32m--> 233\u001b[0m     left_expr \u001b[38;5;241m=\u001b[39m \u001b[43mevaluator\u001b[49m\u001b[38;5;241;43m.\u001b[39;49m\u001b[43meval\u001b[49m\u001b[43m(\u001b[49m\u001b[43mtree\u001b[49m\u001b[38;5;241;43m.\u001b[39;49m\u001b[43margs\u001b[49m\u001b[43m[\u001b[49m\u001b[38;5;241;43m0\u001b[39;49m\u001b[43m]\u001b[49m\u001b[43m)\u001b[49m\n\u001b[0;32m    234\u001b[0m     \u001b[38;5;28;01mif\u001b[39;00m tree\u001b[38;5;241m.\u001b[39margs[\u001b[38;5;241m1\u001b[39m]\u001b[38;5;241m.\u001b[39mtype \u001b[38;5;241m==\u001b[39m \u001b[38;5;124m\"\u001b[39m\u001b[38;5;124mZERO\u001b[39m\u001b[38;5;124m\"\u001b[39m:\n\u001b[0;32m    235\u001b[0m         \u001b[38;5;28;01mreturn\u001b[39;00m IntermediateExpr(\u001b[38;5;28;01mFalse\u001b[39;00m, \u001b[38;5;28;01mNone\u001b[39;00m, \u001b[38;5;28;01mTrue\u001b[39;00m, left_expr\u001b[38;5;241m.\u001b[39mterms)\n",
      "File \u001b[1;32mc:\\Users\\ustym\\AppData\\Local\\Programs\\Python\\Python312\\Lib\\site-packages\\patsy\\desc.py:400\u001b[0m, in \u001b[0;36mEvaluator.eval\u001b[1;34m(self, tree, require_evalexpr)\u001b[0m\n\u001b[0;32m    396\u001b[0m \u001b[38;5;28;01mif\u001b[39;00m key \u001b[38;5;129;01mnot\u001b[39;00m \u001b[38;5;129;01min\u001b[39;00m \u001b[38;5;28mself\u001b[39m\u001b[38;5;241m.\u001b[39m_evaluators:\n\u001b[0;32m    397\u001b[0m     \u001b[38;5;28;01mraise\u001b[39;00m PatsyError(\u001b[38;5;124m\"\u001b[39m\u001b[38;5;124mI don\u001b[39m\u001b[38;5;124m'\u001b[39m\u001b[38;5;124mt know how to evaluate this \u001b[39m\u001b[38;5;124m\"\u001b[39m\n\u001b[0;32m    398\u001b[0m                         \u001b[38;5;124m\"\u001b[39m\u001b[38;5;124m'\u001b[39m\u001b[38;5;132;01m%s\u001b[39;00m\u001b[38;5;124m'\u001b[39m\u001b[38;5;124m operator\u001b[39m\u001b[38;5;124m\"\u001b[39m \u001b[38;5;241m%\u001b[39m (tree\u001b[38;5;241m.\u001b[39mtype,),\n\u001b[0;32m    399\u001b[0m                         tree\u001b[38;5;241m.\u001b[39mtoken)\n\u001b[1;32m--> 400\u001b[0m result \u001b[38;5;241m=\u001b[39m \u001b[38;5;28;43mself\u001b[39;49m\u001b[38;5;241;43m.\u001b[39;49m\u001b[43m_evaluators\u001b[49m\u001b[43m[\u001b[49m\u001b[43mkey\u001b[49m\u001b[43m]\u001b[49m\u001b[43m(\u001b[49m\u001b[38;5;28;43mself\u001b[39;49m\u001b[43m,\u001b[49m\u001b[43m \u001b[49m\u001b[43mtree\u001b[49m\u001b[43m)\u001b[49m\n\u001b[0;32m    401\u001b[0m \u001b[38;5;28;01mif\u001b[39;00m require_evalexpr \u001b[38;5;129;01mand\u001b[39;00m \u001b[38;5;129;01mnot\u001b[39;00m \u001b[38;5;28misinstance\u001b[39m(result, IntermediateExpr):\n\u001b[0;32m    402\u001b[0m     \u001b[38;5;28;01mif\u001b[39;00m \u001b[38;5;28misinstance\u001b[39m(result, ModelDesc):\n",
      "File \u001b[1;32mc:\\Users\\ustym\\AppData\\Local\\Programs\\Python\\Python312\\Lib\\site-packages\\patsy\\desc.py:237\u001b[0m, in \u001b[0;36m_eval_binary_plus\u001b[1;34m(evaluator, tree)\u001b[0m\n\u001b[0;32m    235\u001b[0m     \u001b[38;5;28;01mreturn\u001b[39;00m IntermediateExpr(\u001b[38;5;28;01mFalse\u001b[39;00m, \u001b[38;5;28;01mNone\u001b[39;00m, \u001b[38;5;28;01mTrue\u001b[39;00m, left_expr\u001b[38;5;241m.\u001b[39mterms)\n\u001b[0;32m    236\u001b[0m \u001b[38;5;28;01melse\u001b[39;00m:\n\u001b[1;32m--> 237\u001b[0m     right_expr \u001b[38;5;241m=\u001b[39m \u001b[43mevaluator\u001b[49m\u001b[38;5;241;43m.\u001b[39;49m\u001b[43meval\u001b[49m\u001b[43m(\u001b[49m\u001b[43mtree\u001b[49m\u001b[38;5;241;43m.\u001b[39;49m\u001b[43margs\u001b[49m\u001b[43m[\u001b[49m\u001b[38;5;241;43m1\u001b[39;49m\u001b[43m]\u001b[49m\u001b[43m)\u001b[49m\n\u001b[0;32m    238\u001b[0m     \u001b[38;5;28;01mif\u001b[39;00m right_expr\u001b[38;5;241m.\u001b[39mintercept:\n\u001b[0;32m    239\u001b[0m         \u001b[38;5;28;01mreturn\u001b[39;00m IntermediateExpr(\u001b[38;5;28;01mTrue\u001b[39;00m, right_expr\u001b[38;5;241m.\u001b[39mintercept_origin, \u001b[38;5;28;01mFalse\u001b[39;00m,\n\u001b[0;32m    240\u001b[0m                                 left_expr\u001b[38;5;241m.\u001b[39mterms \u001b[38;5;241m+\u001b[39m right_expr\u001b[38;5;241m.\u001b[39mterms)\n",
      "File \u001b[1;32mc:\\Users\\ustym\\AppData\\Local\\Programs\\Python\\Python312\\Lib\\site-packages\\patsy\\desc.py:400\u001b[0m, in \u001b[0;36mEvaluator.eval\u001b[1;34m(self, tree, require_evalexpr)\u001b[0m\n\u001b[0;32m    396\u001b[0m \u001b[38;5;28;01mif\u001b[39;00m key \u001b[38;5;129;01mnot\u001b[39;00m \u001b[38;5;129;01min\u001b[39;00m \u001b[38;5;28mself\u001b[39m\u001b[38;5;241m.\u001b[39m_evaluators:\n\u001b[0;32m    397\u001b[0m     \u001b[38;5;28;01mraise\u001b[39;00m PatsyError(\u001b[38;5;124m\"\u001b[39m\u001b[38;5;124mI don\u001b[39m\u001b[38;5;124m'\u001b[39m\u001b[38;5;124mt know how to evaluate this \u001b[39m\u001b[38;5;124m\"\u001b[39m\n\u001b[0;32m    398\u001b[0m                         \u001b[38;5;124m\"\u001b[39m\u001b[38;5;124m'\u001b[39m\u001b[38;5;132;01m%s\u001b[39;00m\u001b[38;5;124m'\u001b[39m\u001b[38;5;124m operator\u001b[39m\u001b[38;5;124m\"\u001b[39m \u001b[38;5;241m%\u001b[39m (tree\u001b[38;5;241m.\u001b[39mtype,),\n\u001b[0;32m    399\u001b[0m                         tree\u001b[38;5;241m.\u001b[39mtoken)\n\u001b[1;32m--> 400\u001b[0m result \u001b[38;5;241m=\u001b[39m \u001b[38;5;28;43mself\u001b[39;49m\u001b[38;5;241;43m.\u001b[39;49m\u001b[43m_evaluators\u001b[49m\u001b[43m[\u001b[49m\u001b[43mkey\u001b[49m\u001b[43m]\u001b[49m\u001b[43m(\u001b[49m\u001b[38;5;28;43mself\u001b[39;49m\u001b[43m,\u001b[49m\u001b[43m \u001b[49m\u001b[43mtree\u001b[49m\u001b[43m)\u001b[49m\n\u001b[0;32m    401\u001b[0m \u001b[38;5;28;01mif\u001b[39;00m require_evalexpr \u001b[38;5;129;01mand\u001b[39;00m \u001b[38;5;129;01mnot\u001b[39;00m \u001b[38;5;28misinstance\u001b[39m(result, IntermediateExpr):\n\u001b[0;32m    402\u001b[0m     \u001b[38;5;28;01mif\u001b[39;00m \u001b[38;5;28misinstance\u001b[39m(result, ModelDesc):\n",
      "File \u001b[1;32mc:\\Users\\ustym\\AppData\\Local\\Programs\\Python\\Python312\\Lib\\site-packages\\patsy\\desc.py:354\u001b[0m, in \u001b[0;36m_eval_number\u001b[1;34m(evaluator, tree)\u001b[0m\n\u001b[0;32m    353\u001b[0m \u001b[38;5;28;01mdef\u001b[39;00m \u001b[38;5;21m_eval_number\u001b[39m(evaluator, tree):\n\u001b[1;32m--> 354\u001b[0m     \u001b[38;5;28;01mraise\u001b[39;00m PatsyError(\u001b[38;5;124m\"\u001b[39m\u001b[38;5;124mnumbers besides \u001b[39m\u001b[38;5;124m'\u001b[39m\u001b[38;5;124m0\u001b[39m\u001b[38;5;124m'\u001b[39m\u001b[38;5;124m and \u001b[39m\u001b[38;5;124m'\u001b[39m\u001b[38;5;124m1\u001b[39m\u001b[38;5;124m'\u001b[39m\u001b[38;5;124m are \u001b[39m\u001b[38;5;124m\"\u001b[39m\n\u001b[0;32m    355\u001b[0m                         \u001b[38;5;124m\"\u001b[39m\u001b[38;5;124monly allowed with **\u001b[39m\u001b[38;5;124m\"\u001b[39m, tree)\n",
      "\u001b[1;31mPatsyError\u001b[0m: numbers besides '0' and '1' are only allowed with **\n    NIM ~ PR + CDR + INF + LAS + CR + NIA + OE + RA + ROA + SCTA + SIZE +     is_Credit_Agricole + is_FUIB + is_Kredobank + is_OTP + is_Oschadbank + is_Pivdennyi +         is_Privat_Bank + is_Raiffeisen + is_Sense + is_Ukrsibbank + is_Universal\n                     ^^^"
     ]
    }
   ],
   "source": [
    "regression_string = 'NIM ~ PR + CDR + INF + LAS + CR + NIA + OE + RA + ROA + SCTA + SIZE + \\\n",
    "    is_Credit_Agricole + is_FUIB + is_Kredobank + is_OTP + is_Oschadbank + is_Pivdennyi + \\\n",
    "        is_Privat_Bank + is_Raiffeisen + is_Sense + is_Ukrsibbank + is_Universal'\n",
    "\n",
    "# regression_string = 'NIM ~ PR + CR + LAS + SIZE + \\\n",
    "#     is_Credit_Agricole + is_FUIB + is_Kredobank + is_OTP + is_Oschadbank + is_Pivdennyi + \\\n",
    "#         is_Privat_Bank + is_Raiffeisen + is_Sense + is_Ukrsibbank + is_Universal'\n",
    "\n",
    "mod3 = smf.ols(formula=regression_string, data=resulting_df)\n",
    "res3 = mod3.fit()\n",
    "print(res3.summary())"
   ]
  }
 ],
 "metadata": {
  "kernelspec": {
   "display_name": "Python 3",
   "language": "python",
   "name": "python3"
  },
  "language_info": {
   "codemirror_mode": {
    "name": "ipython",
    "version": 3
   },
   "file_extension": ".py",
   "mimetype": "text/x-python",
   "name": "python",
   "nbconvert_exporter": "python",
   "pygments_lexer": "ipython3",
   "version": "3.12.3"
  }
 },
 "nbformat": 4,
 "nbformat_minor": 2
}
