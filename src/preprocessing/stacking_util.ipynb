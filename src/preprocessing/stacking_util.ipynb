{
 "cells": [
  {
   "cell_type": "code",
   "execution_count": 76,
   "metadata": {},
   "outputs": [],
   "source": [
    "import pandas as pd\n",
    "import os\n",
    "import statsmodels.formula.api as smf"
   ]
  },
  {
   "cell_type": "code",
   "execution_count": 97,
   "metadata": {},
   "outputs": [],
   "source": [
    "bank_names = {\n",
    "    \"cb privatbank\": \"Privat_Bank\",\n",
    "    \"credit agricole bank\": \"Credit_Agricole\",\n",
    "    \"fuib\": \"FUIB\",\n",
    "    \"kredobank\": \"Kredobank\",\n",
    "    \"oschadbank\": \"Oschadbank\",\n",
    "    \"otp bank\": \"OTP\",\n",
    "    \"pivdennyi bank\": \"Pivdennyi\",\n",
    "    \"raiffeisen bank\": \"Raiffeisen\",\n",
    "    \"sense bank\": \"Sense\",\n",
    "    \"ukrsibbank\": \"Ukrsibbank\",\n",
    "    \"universal bank\": \"Universal\"\n",
    "}"
   ]
  },
  {
   "cell_type": "code",
   "execution_count": 127,
   "metadata": {},
   "outputs": [],
   "source": [
    "data_folder = \"./../../data/positive_banks\"\n",
    "\n",
    "inf_df = pd.read_csv(data_folder + \"/INF.csv\", index_col=0)\n",
    "inf_df.index = pd.to_datetime(inf_df.index, format=\"%Y-%m-%d\")\n",
    "pr_df = pd.read_csv(data_folder + \"/PR.csv\", index_col=0)\n",
    "pr_df.index = pd.to_datetime(pr_df.index, format=\"%Y-%m-%d\")\n",
    "\n",
    "stacked = {\"Bank\":[], \"Date\":[], \"INF\":[], \"PR\": []}\n",
    "a = True\n",
    "for i in [j for j in os.listdir(data_folder) if j not in [\"INF.csv\", \"PR.csv\"]]:\n",
    "    var = i[:-4]\n",
    "    stacked[var] = []\n",
    "    df = pd.read_csv(f\"{data_folder}/{i}\", index_col=0)\n",
    "    for date in df.index:\n",
    "        for bank in df.columns:\n",
    "            if a:\n",
    "                stacked[\"Bank\"].append(bank)\n",
    "                stacked[\"Date\"].append(date)\n",
    "                stacked[\"INF\"].append(inf_df[inf_df.index == date][\"inf\"].iloc[0])\n",
    "                stacked[\"PR\"].append(pr_df[pr_df.index == date][\"PR\"].iloc[0])\n",
    "            stacked[var].append(df.loc[date][bank])\n",
    "    a = False\n",
    "\n",
    "# for i in stacked.keys():\n",
    "#     print(i , len(stacked[i]))\n",
    "resulting_df = pd.DataFrame(stacked).replace(bank_names)\n",
    "dummies = pd.get_dummies(resulting_df.Bank, dtype=int)\n",
    "dummies.columns = [f'is_{i}' for i in dummies]\n",
    "for i in dummies:\n",
    "    resulting_df[i] = dummies[i]"
   ]
  },
  {
   "cell_type": "code",
   "execution_count": 150,
   "metadata": {},
   "outputs": [],
   "source": [
    "resulting_df.columns\n",
    "\n",
    "resulting_df.to_csv(\"./../../data/flatten.csv\")"
   ]
  },
  {
   "cell_type": "code",
   "execution_count": 149,
   "metadata": {},
   "outputs": [
    {
     "name": "stdout",
     "output_type": "stream",
     "text": [
      "                            OLS Regression Results                            \n",
      "==============================================================================\n",
      "Dep. Variable:                    NIM   R-squared:                       0.834\n",
      "Model:                            OLS   Adj. R-squared:                  0.828\n",
      "Method:                 Least Squares   F-statistic:                     135.7\n",
      "Date:                Mon, 29 Apr 2024   Prob (F-statistic):          1.27e-195\n",
      "Time:                        20:58:30   Log-Likelihood:                 3212.2\n",
      "No. Observations:                 561   AIC:                            -6382.\n",
      "Df Residuals:                     540   BIC:                            -6291.\n",
      "Df Model:                          20                                         \n",
      "Covariance Type:            nonrobust                                         \n",
      "======================================================================================\n",
      "                         coef    std err          t      P>|t|      [0.025      0.975]\n",
      "--------------------------------------------------------------------------------------\n",
      "Intercept             -0.0194      0.004     -5.471      0.000      -0.026      -0.012\n",
      "PR                  6.949e-05   6.05e-06     11.490      0.000    5.76e-05    8.14e-05\n",
      "CDR                    0.0043      0.001      7.779      0.000       0.003       0.005\n",
      "LAS                    0.0087      0.001     10.209      0.000       0.007       0.010\n",
      "CR                    -0.0017      0.001     -2.348      0.019      -0.003      -0.000\n",
      "NIA                    0.0007      0.000      5.718      0.000       0.000       0.001\n",
      "OE                     0.1171      0.037      3.195      0.001       0.045       0.189\n",
      "RA                     0.0078      0.003      2.693      0.007       0.002       0.014\n",
      "ROA                    0.1106      0.015      7.615      0.000       0.082       0.139\n",
      "SCTA                  -0.0026      0.005     -0.568      0.570      -0.012       0.006\n",
      "SIZE                   0.0011      0.000      5.326      0.000       0.001       0.001\n",
      "is_Credit_Agricole    -0.0013      0.000     -5.078      0.000      -0.002      -0.001\n",
      "is_FUIB               -0.0007      0.000     -1.936      0.053      -0.001       1e-05\n",
      "is_Kredobank          -0.0010      0.000     -5.560      0.000      -0.001      -0.001\n",
      "is_OTP                -0.0011      0.000     -3.855      0.000      -0.002      -0.001\n",
      "is_Oschadbank         -0.0052      0.001     -8.560      0.000      -0.006      -0.004\n",
      "is_Pivdennyi          -0.0026      0.000    -10.737      0.000      -0.003      -0.002\n",
      "is_Privat_Bank        -0.0034      0.001     -3.706      0.000      -0.005      -0.002\n",
      "is_Raiffeisen         -0.0014      0.000     -3.219      0.001      -0.002      -0.001\n",
      "is_Sense              -0.0028      0.000     -6.921      0.000      -0.004      -0.002\n",
      "is_Ukrsibbank         -0.0005      0.000     -1.833      0.067      -0.001    3.84e-05\n",
      "is_Universal           0.0006      0.000      1.890      0.059   -2.38e-05       0.001\n",
      "==============================================================================\n",
      "Omnibus:                       59.037   Durbin-Watson:                   2.060\n",
      "Prob(Omnibus):                  0.000   Jarque-Bera (JB):              319.641\n",
      "Skew:                          -0.239   Prob(JB):                     3.90e-70\n",
      "Kurtosis:                       6.667   Cond. No.                     2.66e+17\n",
      "==============================================================================\n",
      "\n",
      "Notes:\n",
      "[1] Standard Errors assume that the covariance matrix of the errors is correctly specified.\n",
      "[2] The smallest eigenvalue is 4.63e-30. This might indicate that there are\n",
      "strong multicollinearity problems or that the design matrix is singular.\n"
     ]
    }
   ],
   "source": [
    "regression_string = 'NIM ~ PR + CDR + LAS + CR + NIA + OE + RA + ROA + SCTA + SIZE + \\\n",
    "    is_Credit_Agricole + is_FUIB + is_Kredobank + is_OTP + is_Oschadbank + is_Pivdennyi + \\\n",
    "        is_Privat_Bank + is_Raiffeisen + is_Sense + is_Ukrsibbank + is_Universal'\n",
    "\n",
    "# regression_string = 'NIM ~ PR + CR + LAS + SIZE + \\\n",
    "#     is_Credit_Agricole + is_FUIB + is_Kredobank + is_OTP + is_Oschadbank + is_Pivdennyi + \\\n",
    "#         is_Privat_Bank + is_Raiffeisen + is_Sense + is_Ukrsibbank + is_Universal'\n",
    "\n",
    "mod3 = smf.ols(formula=regression_string, data=resulting_df)\n",
    "res3 = mod3.fit()\n",
    "print(res3.summary())"
   ]
  }
 ],
 "metadata": {
  "kernelspec": {
   "display_name": "Python 3",
   "language": "python",
   "name": "python3"
  },
  "language_info": {
   "codemirror_mode": {
    "name": "ipython",
    "version": 3
   },
   "file_extension": ".py",
   "mimetype": "text/x-python",
   "name": "python",
   "nbconvert_exporter": "python",
   "pygments_lexer": "ipython3",
   "version": "3.12.3"
  }
 },
 "nbformat": 4,
 "nbformat_minor": 2
}
