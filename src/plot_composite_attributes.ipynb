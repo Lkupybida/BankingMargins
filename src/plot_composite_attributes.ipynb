{
 "cells": [
  {
   "cell_type": "code",
   "execution_count": 2,
   "id": "initial_id",
   "metadata": {
    "ExecuteTime": {
     "end_time": "2024-04-28T14:53:55.673591Z",
     "start_time": "2024-04-28T14:53:55.671548Z"
    },
    "collapsed": true
   },
   "outputs": [],
   "source": [
    "import matplotlib.pyplot as plt\n",
    "import pandas as pd\n",
    "import os\n",
    "import warnings"
   ]
  },
  {
   "cell_type": "code",
   "execution_count": 7,
   "id": "6575ebc05e705d2a",
   "metadata": {
    "ExecuteTime": {
     "end_time": "2024-04-28T14:56:00.087298Z",
     "start_time": "2024-04-28T14:55:58.602727Z"
    },
    "collapsed": false
   },
   "outputs": [
    {
     "name": "stdout",
     "output_type": "stream",
     "text": [
      "          date     L_sel  inf    LA_sel   NII_sel    AE_sel     PR    TE_sel  \\\n",
      "0   2019-02-01  0.490675  8.6  0.285435  0.004653  0.004272  18.00  0.082862   \n",
      "1   2019-03-01  0.482747  8.8  0.275101  0.002722  0.002261  18.00  0.085840   \n",
      "2   2019-04-01  0.502489  9.6  0.271608  0.003809  0.003505  18.00  0.089112   \n",
      "3   2019-05-01  0.506370  9.0  0.257686  0.003902  0.003401  17.92  0.079750   \n",
      "4   2019-06-01  0.508021  9.1  0.261666  0.003734  0.003381  17.50  0.080417   \n",
      "..         ...       ...  ...       ...       ...       ...    ...       ...   \n",
      "56  2023-10-01  0.275595  5.1  0.374705  0.006484  0.003507  20.93  0.111884   \n",
      "57  2023-11-01  0.277256  5.1  0.371696  0.006513  0.003517  19.35  0.115564   \n",
      "58  2023-12-01  0.278504  4.7  0.382783  0.006783  0.004954  16.00  0.117135   \n",
      "59  2024-01-01  0.259254  4.3  0.401711  0.006336  0.002977  15.45  0.095659   \n",
      "60  2024-02-01  0.263352  3.2  0.396667  0.005934  0.003229  15.00  0.101865   \n",
      "\n",
      "      TI_sel     C_sel    summary  \n",
      "0   0.007581  0.026454  20.830766  \n",
      "1   0.006403  0.026421  20.828853  \n",
      "2   0.006670  0.026939  20.811147  \n",
      "3   0.008337  0.036743  20.825042  \n",
      "4   0.009162  0.027939  20.821205  \n",
      "..       ...       ...        ...  \n",
      "56  0.009063  0.025377  21.436416  \n",
      "57  0.009335  0.027307  21.449638  \n",
      "58  0.009364  0.028638  21.477839  \n",
      "59  0.009583  0.028346  21.539361  \n",
      "60  0.007493  0.033865  21.540967  \n",
      "\n",
      "[61 rows x 11 columns]\n"
     ]
    }
   ],
   "source": [
    "# def plot(file):\n",
    "#     df=pd.read_csv('./../data/composite_vars/' + file)\n",
    "#     df['date'] = pd.to_datetime(df['date'])\n",
    "#     df.set_index('date', inplace=True)\n",
    "#     plt.figure(figsize=(14, 7))\n",
    "#     plt.style.use('dark_background')\n",
    "#     plt.title(file)\n",
    "#     plt.plot(df.index, df[df.columns[0]])\n",
    "#     plt.show()\n",
    "\n",
    "y=pd.read_csv('./../data/composite_vars/NIM.csv')\n",
    "x = pd.read_csv('./../data/composite_vars/CDR.csv')\n",
    "for name in ['INF.csv','LAS.csv','NIA.csv','NIM.csv',\n",
    "             'OE.csv','PR.csv','RA.csv','ROA.csv','SCTA.csv','SIZE.csv',]:\n",
    "    gotten=pd.read_csv('./../data/composite_vars/'+name)\n",
    "    x[gotten.columns[1]]=gotten[gotten.columns[1]]\n",
    "    \n",
    "print(df)"
   ]
  }
 ],
 "metadata": {
  "kernelspec": {
   "display_name": "Python 3",
   "language": "python",
   "name": "python3"
  },
  "language_info": {
   "codemirror_mode": {
    "name": "ipython",
    "version": 3
   },
   "file_extension": ".py",
   "mimetype": "text/x-python",
   "name": "python",
   "nbconvert_exporter": "python",
   "pygments_lexer": "ipython3",
   "version": "3.10.5"
  }
 },
 "nbformat": 4,
 "nbformat_minor": 5
}
