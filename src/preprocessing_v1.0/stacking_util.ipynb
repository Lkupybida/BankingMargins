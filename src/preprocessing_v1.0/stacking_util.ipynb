{
 "cells": [
  {
   "cell_type": "code",
   "execution_count": 69,
   "metadata": {
    "ExecuteTime": {
     "end_time": "2024-04-29T18:53:07.584592Z",
     "start_time": "2024-04-29T18:53:07.579168Z"
    }
   },
   "outputs": [],
   "source": [
    "import pandas as pd\n",
    "import os\n",
    "import statsmodels.formula.api as smf"
   ]
  },
  {
   "cell_type": "code",
   "execution_count": 70,
   "metadata": {
    "ExecuteTime": {
     "end_time": "2024-04-29T18:53:07.591186Z",
     "start_time": "2024-04-29T18:53:07.586561Z"
    }
   },
   "outputs": [],
   "source": [
    "bank_names = {\n",
    "    \"cb privatbank\": \"Privat_Bank\",\n",
    "    \"credit agricole bank\": \"Credit_Agricole\",\n",
    "    \"fuib\": \"FUIB\",\n",
    "    \"kredobank\": \"Kredobank\",\n",
    "    \"oschadbank\": \"Oschadbank\",\n",
    "    \"otp bank\": \"OTP\",\n",
    "    \"pivdennyi bank\": \"Pivdennyi\",\n",
    "    \"raiffeisen bank\": \"Raiffeisen\",\n",
    "    \"sense bank\": \"Sense\",\n",
    "    \"ukrsibbank\": \"Ukrsibbank\",\n",
    "    \"universal bank\": \"Universal\"\n",
    "}"
   ]
  },
  {
   "cell_type": "code",
   "execution_count": 71,
   "metadata": {
    "ExecuteTime": {
     "end_time": "2024-04-29T18:53:07.777702Z",
     "start_time": "2024-04-29T18:53:07.593423Z"
    }
   },
   "outputs": [],
   "source": [
    "data_folder = \"./../../data/positive_banks\"\n",
    "\n",
    "inf_df = pd.read_csv(data_folder + \"/INF.csv\", index_col=0)\n",
    "inf_df.index = pd.to_datetime(inf_df.index, format=\"%Y-%m-%d\")\n",
    "pr_df = pd.read_csv(data_folder + \"/PR.csv\", index_col=0)\n",
    "pr_df.index = pd.to_datetime(pr_df.index, format=\"%Y-%m-%d\")\n",
    "\n",
    "stacked = {\"Bank\":[], \"Date\":[], \"INF\":[], \"PR\": []}\n",
    "a = True\n",
    "for i in [j for j in os.listdir(data_folder) if j not in [\"INF.csv\", \"PR.csv\"]]:\n",
    "    var = i[:-4]\n",
    "    stacked[var] = []\n",
    "    df = pd.read_csv(f\"{data_folder}/{i}\", index_col=0)\n",
    "    for date in df.index:\n",
    "        for bank in df.columns:\n",
    "            if a:\n",
    "                stacked[\"Bank\"].append(bank)\n",
    "                stacked[\"Date\"].append(date)\n",
    "                stacked[\"INF\"].append(inf_df[inf_df.index == date][\"inf\"].iloc[0])\n",
    "                stacked[\"PR\"].append(pr_df[pr_df.index == date][\"PR\"].iloc[0])\n",
    "            stacked[var].append(df.loc[date][bank])\n",
    "    a = False\n",
    "\n",
    "# for i in stacked.keys():\n",
    "#     print(i , len(stacked[i]))\n",
    "resulting_df = pd.DataFrame(stacked).replace(bank_names)\n",
    "dummies = pd.get_dummies(resulting_df.Bank, dtype=int)\n",
    "dummies.columns = [f'is_{i}' for i in dummies]\n",
    "for i in dummies:\n",
    "    resulting_df[i] = dummies[i]"
   ]
  }
 ],
 "metadata": {
  "kernelspec": {
   "display_name": "Python 3",
   "language": "python",
   "name": "python3"
  },
  "language_info": {
   "codemirror_mode": {
    "name": "ipython",
    "version": 3
   },
   "file_extension": ".py",
   "mimetype": "text/x-python",
   "name": "python",
   "nbconvert_exporter": "python",
   "pygments_lexer": "ipython3",
   "version": "3.12.3"
  }
 },
 "nbformat": 4,
 "nbformat_minor": 2
}
