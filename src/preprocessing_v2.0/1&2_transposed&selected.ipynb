{
 "cells": [
  {
   "cell_type": "code",
   "execution_count": 2,
   "metadata": {},
   "outputs": [],
   "source": [
    "import pandas as pd\n",
    "import os\n",
    "import shutil"
   ]
  },
  {
   "cell_type": "markdown",
   "metadata": {},
   "source": [
    "Transpose & Select banks"
   ]
  },
  {
   "cell_type": "code",
   "execution_count": 5,
   "metadata": {},
   "outputs": [],
   "source": [
    "or_dir = \"./../../data/original_data/\"\n",
    "tr_dir = \"./../../data/1_transposed/\"\n",
    "sel_dir = \"./../../data/2_selected_banks/\"\n",
    "\n",
    "needed_banks = [\"cb privatbank\",\n",
    "                \"credit agricole bank\",\n",
    "                \"fuib\",\n",
    "                \"kredobank\",\n",
    "                \"oschadbank\",\n",
    "                \"otp bank\",\n",
    "                \"pivdennyi bank\",\n",
    "                \"raiffeisen bank\",\n",
    "                \"sense bank\",\n",
    "                \"ukrsibbank\",\n",
    "                \"universal bank\"\n",
    "                ]\n",
    "\n",
    "def transpose_resample(input_path, out_path):\n",
    "    df = pd.read_csv(input_path)\n",
    "    df = df.transpose()\n",
    "    df.columns = df.iloc[0]\n",
    "    df = df[1:]\n",
    "    df.index = pd.to_datetime(df.index, format='%Y-%m-%d').strftime('%Y/%m/%d')\n",
    "    df.to_csv(out_path)\n",
    "    return df"
   ]
  },
  {
   "cell_type": "code",
   "execution_count": 6,
   "metadata": {},
   "outputs": [],
   "source": [
    "for val in os.listdir(or_dir):\n",
    "    name = val[:-4]\n",
    "    if val not in [\"INF.csv\", \"PR.csv\"]:\n",
    "        df_all = transpose_resample(or_dir + val, tr_dir + val)\n",
    "        df_sel = df_all[df_all.columns.intersection(needed_banks)]\n",
    "        df_sel.to_csv(sel_dir + val)\n",
    "\n",
    "    elif val == \"INF.csv\":\n",
    "        shutil.copy(or_dir + val, tr_dir + val)\n",
    "        shutil.copy(or_dir + val, sel_dir + val)\n",
    "        \n",
    "    else:\n",
    "        df = pd.read_csv(or_dir + val, index_col=\"Year\")\n",
    "        df.index = pd.to_datetime(df.index, format='%Y-%m').strftime('%m/%Y')\n",
    "        df.to_csv(tr_dir + val)\n",
    "        df.to_csv(sel_dir + val)"
   ]
  }
 ],
 "metadata": {
  "kernelspec": {
   "display_name": "Python 3",
   "language": "python",
   "name": "python3"
  },
  "language_info": {
   "codemirror_mode": {
    "name": "ipython",
    "version": 3
   },
   "file_extension": ".py",
   "mimetype": "text/x-python",
   "name": "python",
   "nbconvert_exporter": "python",
   "pygments_lexer": "ipython3",
   "version": "3.12.3"
  }
 },
 "nbformat": 4,
 "nbformat_minor": 2
}
