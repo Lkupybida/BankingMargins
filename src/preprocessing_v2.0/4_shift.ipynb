{
 "cells": [
  {
   "cell_type": "code",
   "execution_count": 2,
   "metadata": {},
   "outputs": [],
   "source": [
    "import pandas as pd\n",
    "import os\n",
    "import shutil\n",
    "from datetime import datetime"
   ]
  },
  {
   "cell_type": "code",
   "execution_count": 35,
   "metadata": {},
   "outputs": [],
   "source": [
    "dif_dir = \"./../../data/3_differentiate/\"\n",
    "shift_dir = \"./../../data/4_shift/\"\n",
    "\n",
    "for fl in [i for i in os.listdir(dif_dir) if i not in [\"INF.csv\", \"PR.csv\"]]:\n",
    "    df = pd.read_csv(dif_dir + fl, index_col=0)\n",
    "    df.index = pd.to_datetime(df.index)\n",
    "    df.index = df.index.shift(-1, freq=\"MS\")\n",
    "    df = df.dropna()\n",
    "    df.index = df.index.strftime('%m/%Y')\n",
    "    df.to_csv(shift_dir + fl)\n",
    "\n",
    "for var in [\"INF.csv\", \"PR.csv\"]:\n",
    "    shutil.copy(dif_dir + var, shift_dir + var)"
   ]
  }
 ],
 "metadata": {
  "kernelspec": {
   "display_name": "Python 3",
   "language": "python",
   "name": "python3"
  },
  "language_info": {
   "codemirror_mode": {
    "name": "ipython",
    "version": 3
   },
   "file_extension": ".py",
   "mimetype": "text/x-python",
   "name": "python",
   "nbconvert_exporter": "python",
   "pygments_lexer": "ipython3",
   "version": "3.12.3"
  }
 },
 "nbformat": 4,
 "nbformat_minor": 2
}
