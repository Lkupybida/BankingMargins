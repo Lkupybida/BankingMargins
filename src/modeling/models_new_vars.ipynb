{
 "cells": [
  {
   "cell_type": "code",
   "execution_count": 1,
   "metadata": {
    "ExecuteTime": {
     "end_time": "2024-05-02T10:20:22.298211800Z",
     "start_time": "2024-05-02T10:20:21.483104Z"
    }
   },
   "outputs": [],
   "source": [
    "from fixed_effects import run_fixed_effects_on_flattened\n",
    "from random_effects import run_rand_effects_on_flattened"
   ]
  },
  {
   "cell_type": "code",
   "execution_count": 2,
   "metadata": {
    "ExecuteTime": {
     "end_time": "2024-05-02T10:20:22.318353200Z",
     "start_time": "2024-05-02T10:20:22.302727700Z"
    }
   },
   "outputs": [],
   "source": [
    "path = \"./../../data/11point5_flattened/flatten_variables_pct.csv\""
   ]
  },
  {
   "cell_type": "markdown",
   "metadata": {},
   "source": [
    "Simple Fixed Effects"
   ]
  },
  {
   "cell_type": "code",
   "execution_count": 3,
   "metadata": {
    "ExecuteTime": {
     "end_time": "2024-05-02T10:20:22.365619500Z",
     "start_time": "2024-05-02T10:20:22.318353200Z"
    }
   },
   "outputs": [
    {
     "name": "stdout",
     "output_type": "stream",
     "text": [
      "\u001B[94m===============================================================================\u001B[0m\n",
      "\u001B[94m=============================== Fixed Effects =================================\u001B[0m\n",
      "                            OLS Regression Results                            \n",
      "==============================================================================\n",
      "Dep. Variable:                    NIM   R-squared:                       0.213\n",
      "Model:                            OLS   Adj. R-squared:                  0.184\n",
      "Method:                 Least Squares   F-statistic:                     7.173\n",
      "Date:                Thu, 02 May 2024   Prob (F-statistic):           5.87e-18\n",
      "Time:                        13:20:22   Log-Likelihood:                 273.94\n",
      "No. Observations:                 550   AIC:                            -505.9\n",
      "Df Residuals:                     529   BIC:                            -415.4\n",
      "Df Model:                          20                                         \n",
      "Covariance Type:            nonrobust                                         \n",
      "======================================================================================\n",
      "                         coef    std err          t      P>|t|      [0.025      0.975]\n",
      "--------------------------------------------------------------------------------------\n",
      "Intercept              0.0021      0.007      0.308      0.759      -0.011       0.016\n",
      "PR                     0.0871      0.037      2.344      0.019       0.014       0.160\n",
      "CDR                   -0.0722      0.150     -0.480      0.631      -0.368       0.223\n",
      "LAS                    0.0049      0.040      0.121      0.904      -0.074       0.084\n",
      "CR                     0.0149      0.025      0.603      0.547      -0.034       0.063\n",
      "NIA                -6.473e-05      0.002     -0.037      0.971      -0.004       0.003\n",
      "OE                     0.0927      0.019      4.860      0.000       0.055       0.130\n",
      "RA                     0.0123      0.103      0.120      0.905      -0.190       0.214\n",
      "ROA                    0.0422      0.005      8.153      0.000       0.032       0.052\n",
      "SCTA                  -0.0591      0.031     -1.906      0.057      -0.120       0.002\n",
      "SIZE                   4.3251      3.647      1.186      0.236      -2.839      11.489\n",
      "is_Credit_Agricole    -0.0038      0.020     -0.189      0.850      -0.044       0.036\n",
      "is_FUIB                0.0130      0.020      0.641      0.522      -0.027       0.053\n",
      "is_Kredobank          -0.0097      0.020     -0.476      0.634      -0.049       0.030\n",
      "is_OTP                 0.0032      0.020      0.158      0.874      -0.037       0.043\n",
      "is_Oschadbank          0.0061      0.020      0.299      0.765      -0.034       0.046\n",
      "is_Pivdennyi           0.0137      0.020      0.674      0.501      -0.026       0.054\n",
      "is_Privat_Bank        -0.0090      0.020     -0.440      0.660      -0.049       0.031\n",
      "is_Raiffeisen         -0.0122      0.020     -0.600      0.549      -0.052       0.028\n",
      "is_Sense               0.0071      0.020      0.351      0.726      -0.033       0.047\n",
      "is_Ukrsibbank         -0.0107      0.020     -0.527      0.599      -0.051       0.029\n",
      "is_Universal           0.0044      0.021      0.208      0.835      -0.037       0.046\n",
      "==============================================================================\n",
      "Omnibus:                      282.594   Durbin-Watson:                   1.818\n",
      "Prob(Omnibus):                  0.000   Jarque-Bera (JB):             3499.256\n",
      "Skew:                           1.952   Prob(JB):                         0.00\n",
      "Kurtosis:                      14.724   Cond. No.                     3.62e+16\n",
      "==============================================================================\n",
      "\n",
      "Notes:\n",
      "[1] Standard Errors assume that the covariance matrix of the errors is correctly specified.\n",
      "[2] The smallest eigenvalue is 7.43e-30. This might indicate that there are\n",
      "strong multicollinearity problems or that the design matrix is singular.\n"
     ]
    }
   ],
   "source": [
    "res1 = run_fixed_effects_on_flattened(path)"
   ]
  },
  {
   "cell_type": "markdown",
   "metadata": {},
   "source": [
    "Fixed Effects with End of Year"
   ]
  },
  {
   "cell_type": "code",
   "execution_count": 4,
   "metadata": {
    "ExecuteTime": {
     "end_time": "2024-05-02T10:20:22.428123800Z",
     "start_time": "2024-05-02T10:20:22.365619500Z"
    }
   },
   "outputs": [
    {
     "name": "stdout",
     "output_type": "stream",
     "text": [
      "\u001B[94m===============================================================================\u001B[0m\n",
      "\u001B[94m=============================== Fixed Effects =================================\u001B[0m\n",
      "                            OLS Regression Results                            \n",
      "==============================================================================\n",
      "Dep. Variable:                    NIM   R-squared:                       0.218\n",
      "Model:                            OLS   Adj. R-squared:                  0.185\n",
      "Method:                 Least Squares   F-statistic:                     6.672\n",
      "Date:                Thu, 02 May 2024   Prob (F-statistic):           1.16e-17\n",
      "Time:                        13:20:22   Log-Likelihood:                 275.52\n",
      "No. Observations:                 550   AIC:                            -505.0\n",
      "Df Residuals:                     527   BIC:                            -405.9\n",
      "Df Model:                          22                                         \n",
      "Covariance Type:            nonrobust                                         \n",
      "======================================================================================\n",
      "                         coef    std err          t      P>|t|      [0.025      0.975]\n",
      "--------------------------------------------------------------------------------------\n",
      "Intercept              0.0039      0.007      0.562      0.575      -0.010       0.018\n",
      "PR                     0.0839      0.037      2.257      0.024       0.011       0.157\n",
      "CDR                   -0.1205      0.153     -0.786      0.432      -0.422       0.181\n",
      "LAS                    0.0099      0.041      0.239      0.811      -0.071       0.091\n",
      "CR                     0.0147      0.025      0.598      0.550      -0.034       0.063\n",
      "NIA                -3.826e-05      0.002     -0.022      0.983      -0.004       0.003\n",
      "OE                     0.0993      0.019      5.102      0.000       0.061       0.138\n",
      "RA                    -0.0049      0.103     -0.047      0.962      -0.208       0.198\n",
      "ROA                    0.0421      0.005      8.136      0.000       0.032       0.052\n",
      "SCTA                  -0.0596      0.031     -1.897      0.058      -0.121       0.002\n",
      "SIZE                   4.2710      3.657      1.168      0.243      -2.913      11.455\n",
      "is_END19              -0.0347      0.049     -0.708      0.479      -0.131       0.062\n",
      "is_END20           -2.321e-14   1.99e-14     -1.167      0.244   -6.23e-14    1.58e-14\n",
      "is_END21           -8.934e-15   7.59e-15     -1.177      0.240   -2.38e-14    5.98e-15\n",
      "is_END22              -0.0793      0.048     -1.637      0.102      -0.174       0.016\n",
      "is_END23            2.335e-14      2e-14      1.168      0.244   -1.59e-14    6.26e-14\n",
      "is_Credit_Agricole    -0.0047      0.020     -0.229      0.819      -0.045       0.035\n",
      "is_FUIB                0.0132      0.020      0.649      0.516      -0.027       0.053\n",
      "is_Kredobank          -0.0097      0.020     -0.478      0.633      -0.049       0.030\n",
      "is_OTP                 0.0032      0.020      0.160      0.873      -0.036       0.043\n",
      "is_Oschadbank          0.0065      0.020      0.321      0.748      -0.033       0.047\n",
      "is_Pivdennyi           0.0138      0.020      0.679      0.497      -0.026       0.054\n",
      "is_Privat_Bank        -0.0079      0.020     -0.388      0.698      -0.048       0.032\n",
      "is_Raiffeisen         -0.0124      0.020     -0.612      0.541      -0.052       0.027\n",
      "is_Sense               0.0071      0.020      0.350      0.726      -0.033       0.047\n",
      "is_Ukrsibbank         -0.0113      0.020     -0.555      0.579      -0.051       0.029\n",
      "is_Universal           0.0060      0.021      0.286      0.775      -0.035       0.047\n",
      "==============================================================================\n",
      "Omnibus:                      283.073   Durbin-Watson:                   1.830\n",
      "Prob(Omnibus):                  0.000   Jarque-Bera (JB):             3345.392\n",
      "Skew:                           1.973   Prob(JB):                         0.00\n",
      "Kurtosis:                      14.419   Cond. No.                     9.77e+16\n",
      "==============================================================================\n",
      "\n",
      "Notes:\n",
      "[1] Standard Errors assume that the covariance matrix of the errors is correctly specified.\n",
      "[2] The smallest eigenvalue is 1.02e-30. This might indicate that there are\n",
      "strong multicollinearity problems or that the design matrix is singular.\n"
     ]
    },
    {
     "name": "stderr",
     "output_type": "stream",
     "text": [
      "C:\\Users\\Lev\\AppData\\Local\\Programs\\Python\\Python39\\lib\\site-packages\\statsmodels\\base\\model.py:1894: ValueWarning: covariance of constraints does not have full rank. The number of constraints is 5, but rank is 2\n",
      "  warnings.warn('covariance of constraints does not have full '\n"
     ]
    },
    {
     "data": {
      "text/plain": "<class 'statsmodels.stats.contrast.ContrastResults'>\n<F test: F=1.5143984395664154, p=0.22089600931348782, df_denom=527, df_num=2>"
     },
     "execution_count": 4,
     "metadata": {},
     "output_type": "execute_result"
    }
   ],
   "source": [
    "df, res2 = run_fixed_effects_on_flattened(path,\n",
    "                                  dummy_dates = [\"=12/2019\", \"=12/2020\", \"=12/2021\", \"=12/2022\", \"=12/2023\"], \n",
    "                                  dummy_names = [\"is_END19\", \"is_END20\", \"is_END21\", \"is_END22\", \"is_END23\"])\n",
    "\n",
    "# - - - F-TEST - - -\n",
    "f_h = \"is_END19 = 0, is_END20 = 0, is_END21 = 0, is_END22 = 0, is_END23 = 0\"\n",
    "res2.f_test(f_h)"
   ]
  },
  {
   "cell_type": "markdown",
   "metadata": {},
   "source": [
    "Fixed Effects with is_WAR"
   ]
  },
  {
   "cell_type": "code",
   "execution_count": 5,
   "metadata": {
    "ExecuteTime": {
     "end_time": "2024-05-02T10:20:22.491016300Z",
     "start_time": "2024-05-02T10:20:22.428123800Z"
    }
   },
   "outputs": [
    {
     "name": "stdout",
     "output_type": "stream",
     "text": [
      "\u001B[94m===============================================================================\u001B[0m\n",
      "\u001B[94m=============================== Fixed Effects =================================\u001B[0m\n",
      "                            OLS Regression Results                            \n",
      "==============================================================================\n",
      "Dep. Variable:                    NIM   R-squared:                       0.214\n",
      "Model:                            OLS   Adj. R-squared:                  0.182\n",
      "Method:                 Least Squares   F-statistic:                     6.827\n",
      "Date:                Thu, 02 May 2024   Prob (F-statistic):           1.52e-17\n",
      "Time:                        13:20:22   Log-Likelihood:                 274.01\n",
      "No. Observations:                 550   AIC:                            -504.0\n",
      "Df Residuals:                     528   BIC:                            -409.2\n",
      "Df Model:                          21                                         \n",
      "Covariance Type:            nonrobust                                         \n",
      "======================================================================================\n",
      "                         coef    std err          t      P>|t|      [0.025      0.975]\n",
      "--------------------------------------------------------------------------------------\n",
      "Intercept              0.0036      0.008      0.448      0.655      -0.012       0.019\n",
      "PR                     0.0882      0.037      2.364      0.018       0.015       0.162\n",
      "CDR                   -0.0883      0.157     -0.562      0.574      -0.397       0.220\n",
      "LAS                    0.0036      0.040      0.090      0.929      -0.076       0.083\n",
      "CR                     0.0159      0.025      0.641      0.522      -0.033       0.065\n",
      "NIA                -1.663e-05      0.002     -0.009      0.993      -0.004       0.003\n",
      "OE                     0.0923      0.019      4.820      0.000       0.055       0.130\n",
      "RA                     0.0170      0.104      0.164      0.870      -0.187       0.221\n",
      "ROA                    0.0423      0.005      8.152      0.000       0.032       0.053\n",
      "SCTA                  -0.0587      0.031     -1.889      0.059      -0.120       0.002\n",
      "SIZE                   4.3559      3.651      1.193      0.233      -2.816      11.528\n",
      "is_WAR                -0.0052      0.014     -0.357      0.721      -0.034       0.023\n",
      "is_Credit_Agricole    -0.0038      0.020     -0.188      0.851      -0.044       0.036\n",
      "is_FUIB                0.0132      0.020      0.647      0.518      -0.027       0.053\n",
      "is_Kredobank          -0.0096      0.020     -0.475      0.635      -0.050       0.030\n",
      "is_OTP                 0.0033      0.020      0.163      0.870      -0.036       0.043\n",
      "is_Oschadbank          0.0063      0.020      0.309      0.757      -0.034       0.046\n",
      "is_Pivdennyi           0.0140      0.020      0.686      0.493      -0.026       0.054\n",
      "is_Privat_Bank        -0.0088      0.020     -0.431      0.666      -0.049       0.031\n",
      "is_Raiffeisen         -0.0120      0.020     -0.589      0.556      -0.052       0.028\n",
      "is_Sense               0.0075      0.020      0.366      0.715      -0.033       0.047\n",
      "is_Ukrsibbank         -0.0109      0.020     -0.532      0.595      -0.051       0.029\n",
      "is_Universal           0.0046      0.021      0.216      0.829      -0.037       0.046\n",
      "==============================================================================\n",
      "Omnibus:                      282.730   Durbin-Watson:                   1.820\n",
      "Prob(Omnibus):                  0.000   Jarque-Bera (JB):             3504.485\n",
      "Skew:                           1.953   Prob(JB):                         0.00\n",
      "Kurtosis:                      14.733   Cond. No.                     4.74e+16\n",
      "==============================================================================\n",
      "\n",
      "Notes:\n",
      "[1] Standard Errors assume that the covariance matrix of the errors is correctly specified.\n",
      "[2] The smallest eigenvalue is 4.34e-30. This might indicate that there are\n",
      "strong multicollinearity problems or that the design matrix is singular.\n"
     ]
    },
    {
     "data": {
      "text/plain": "(     Unnamed: 0             Bank       Date       INF   PR       CDR  \\\n 11           11      Privat_Bank 2019-02-01 -0.043478  0.0  0.015784   \n 12           12  Credit_Agricole 2019-02-01 -0.043478  0.0 -0.010351   \n 13           13             FUIB 2019-02-01 -0.043478  0.0 -0.019367   \n 14           14        Kredobank 2019-02-01 -0.043478  0.0  0.058076   \n 15           15       Oschadbank 2019-02-01 -0.043478  0.0 -0.030756   \n ..          ...              ...        ...       ...  ...       ...   \n 556         556        Pivdennyi 2024-02-01 -0.085106  0.0  0.014387   \n 557         557       Raiffeisen 2024-02-01 -0.085106  0.0 -0.022137   \n 558         558            Sense 2024-02-01 -0.085106  0.0  0.012900   \n 559         559       Ukrsibbank 2024-02-01 -0.085106  0.0 -0.017414   \n 560         560        Universal 2024-02-01 -0.085106  0.0  0.002636   \n \n            CR       LAS       NIA       NIM  ...  is_Kredobank  is_OTP  \\\n 11  -0.066219 -0.006186  0.942796 -0.153365  ...             0       0   \n 12  -0.047214 -0.384326 -0.915124 -0.121819  ...             0       0   \n 13   0.042048  0.049981  2.040950  0.161202  ...             0       0   \n 14  -0.028533 -0.048690  0.650224 -0.098219  ...             1       0   \n 15  -0.039392 -0.109145  1.980223  1.373062  ...             0       0   \n ..        ...       ...       ...       ...  ...           ...     ...   \n 556 -0.014483  0.282209  0.167844 -0.051885  ...             0       0   \n 557  0.009270 -0.150100 -0.005866 -0.059132  ...             0       0   \n 558 -0.008749 -0.023852 -0.116479 -0.101820  ...             0       0   \n 559 -0.064271  0.040216 -0.841354 -0.051795  ...             0       0   \n 560 -0.014811 -0.059273  1.093057  0.020618  ...             0       0   \n \n      is_Oschadbank  is_Pivdennyi  is_Privat_Bank  is_Raiffeisen  is_Sense  \\\n 11               0             0               1              0         0   \n 12               0             0               0              0         0   \n 13               0             0               0              0         0   \n 14               0             0               0              0         0   \n 15               1             0               0              0         0   \n ..             ...           ...             ...            ...       ...   \n 556              0             1               0              0         0   \n 557              0             0               0              1         0   \n 558              0             0               0              0         1   \n 559              0             0               0              0         0   \n 560              0             0               0              0         0   \n \n      is_Ukrsibbank  is_Universal  is_WAR  \n 11               0             0       0  \n 12               0             0       0  \n 13               0             0       0  \n 14               0             0       0  \n 15               0             0       0  \n ..             ...           ...     ...  \n 556              0             0       1  \n 557              0             0       1  \n 558              0             0       1  \n 559              1             0       1  \n 560              0             1       1  \n \n [550 rows x 27 columns],\n <statsmodels.regression.linear_model.RegressionResultsWrapper at 0x206e82f0280>)"
     },
     "execution_count": 5,
     "metadata": {},
     "output_type": "execute_result"
    }
   ],
   "source": [
    "run_fixed_effects_on_flattened(path,\n",
    "                                  dummy_dates=[\">02/2022\"], \n",
    "                                  dummy_names=[\"is_WAR\"])"
   ]
  },
  {
   "cell_type": "markdown",
   "source": [
    "Fixed Effects with both dummy variables"
   ],
   "metadata": {
    "collapsed": false
   }
  },
  {
   "cell_type": "code",
   "execution_count": 7,
   "outputs": [
    {
     "name": "stdout",
     "output_type": "stream",
     "text": [
      "\u001B[94m===============================================================================\u001B[0m\n",
      "\u001B[94m=============================== Fixed Effects =================================\u001B[0m\n",
      "                            OLS Regression Results                            \n",
      "==============================================================================\n",
      "Dep. Variable:                    NIM   R-squared:                       0.218\n",
      "Model:                            OLS   Adj. R-squared:                  0.184\n",
      "Method:                 Least Squares   F-statistic:                     6.372\n",
      "Date:                Thu, 02 May 2024   Prob (F-statistic):           3.00e-17\n",
      "Time:                        13:25:02   Log-Likelihood:                 275.54\n",
      "No. Observations:                 550   AIC:                            -503.1\n",
      "Df Residuals:                     526   BIC:                            -399.6\n",
      "Df Model:                          23                                         \n",
      "Covariance Type:            nonrobust                                         \n",
      "======================================================================================\n",
      "                         coef    std err          t      P>|t|      [0.025      0.975]\n",
      "--------------------------------------------------------------------------------------\n",
      "Intercept              0.0048      0.008      0.592      0.554      -0.011       0.021\n",
      "PR                     0.0847      0.037      2.265      0.024       0.011       0.158\n",
      "CDR                   -0.1293      0.159     -0.814      0.416      -0.441       0.183\n",
      "LAS                    0.0094      0.041      0.228      0.820      -0.072       0.091\n",
      "CR                     0.0153      0.025      0.617      0.537      -0.033       0.064\n",
      "NIA                -1.138e-05      0.002     -0.006      0.995      -0.003       0.003\n",
      "OE                     0.0990      0.020      5.067      0.000       0.061       0.137\n",
      "RA                    -0.0017      0.104     -0.017      0.987      -0.207       0.203\n",
      "ROA                    0.0422      0.005      8.122      0.000       0.032       0.052\n",
      "SCTA                  -0.0591      0.031     -1.877      0.061      -0.121       0.003\n",
      "SIZE                   4.3026      3.663      1.175      0.241      -2.894      11.499\n",
      "is_END19              -0.0360      0.049     -0.729      0.467      -0.133       0.061\n",
      "is_END20            6.907e-14   5.88e-14      1.174      0.241   -4.65e-14    1.85e-13\n",
      "is_END21            -4.56e-14   3.89e-14     -1.171      0.242   -1.22e-13    3.09e-14\n",
      "is_END22              -0.0778      0.049     -1.590      0.113      -0.174       0.018\n",
      "is_END23           -6.936e-14   5.91e-14     -1.174      0.241   -1.85e-13    4.67e-14\n",
      "is_WAR                -0.0032      0.015     -0.215      0.830      -0.032       0.026\n",
      "is_Credit_Agricole    -0.0046      0.020     -0.228      0.820      -0.045       0.035\n",
      "is_FUIB                0.0133      0.020      0.653      0.514      -0.027       0.053\n",
      "is_Kredobank          -0.0097      0.020     -0.477      0.634      -0.049       0.030\n",
      "is_OTP                 0.0033      0.020      0.163      0.870      -0.036       0.043\n",
      "is_Oschadbank          0.0067      0.020      0.327      0.744      -0.033       0.047\n",
      "is_Pivdennyi           0.0139      0.020      0.686      0.493      -0.026       0.054\n",
      "is_Privat_Bank        -0.0078      0.020     -0.383      0.702      -0.048       0.032\n",
      "is_Raiffeisen         -0.0123      0.020     -0.604      0.546      -0.052       0.028\n",
      "is_Sense               0.0073      0.020      0.358      0.720      -0.033       0.047\n",
      "is_Ukrsibbank         -0.0114      0.020     -0.558      0.577      -0.051       0.029\n",
      "is_Universal           0.0061      0.021      0.290      0.772      -0.035       0.048\n",
      "==============================================================================\n",
      "Omnibus:                      283.297   Durbin-Watson:                   1.831\n",
      "Prob(Omnibus):                  0.000   Jarque-Bera (JB):             3352.957\n",
      "Skew:                           1.975   Prob(JB):                         0.00\n",
      "Kurtosis:                      14.433   Cond. No.                     3.68e+16\n",
      "==============================================================================\n",
      "\n",
      "Notes:\n",
      "[1] Standard Errors assume that the covariance matrix of the errors is correctly specified.\n",
      "[2] The smallest eigenvalue is 7.21e-30. This might indicate that there are\n",
      "strong multicollinearity problems or that the design matrix is singular.\n"
     ]
    },
    {
     "data": {
      "text/plain": "(     Unnamed: 0             Bank       Date       INF   PR       CDR  \\\n 11           11      Privat_Bank 2019-02-01 -0.043478  0.0  0.015784   \n 12           12  Credit_Agricole 2019-02-01 -0.043478  0.0 -0.010351   \n 13           13             FUIB 2019-02-01 -0.043478  0.0 -0.019367   \n 14           14        Kredobank 2019-02-01 -0.043478  0.0  0.058076   \n 15           15       Oschadbank 2019-02-01 -0.043478  0.0 -0.030756   \n ..          ...              ...        ...       ...  ...       ...   \n 556         556        Pivdennyi 2024-02-01 -0.085106  0.0  0.014387   \n 557         557       Raiffeisen 2024-02-01 -0.085106  0.0 -0.022137   \n 558         558            Sense 2024-02-01 -0.085106  0.0  0.012900   \n 559         559       Ukrsibbank 2024-02-01 -0.085106  0.0 -0.017414   \n 560         560        Universal 2024-02-01 -0.085106  0.0  0.002636   \n \n            CR       LAS       NIA       NIM  ...  is_Raiffeisen  is_Sense  \\\n 11  -0.066219 -0.006186  0.942796 -0.153365  ...              0         0   \n 12  -0.047214 -0.384326 -0.915124 -0.121819  ...              0         0   \n 13   0.042048  0.049981  2.040950  0.161202  ...              0         0   \n 14  -0.028533 -0.048690  0.650224 -0.098219  ...              0         0   \n 15  -0.039392 -0.109145  1.980223  1.373062  ...              0         0   \n ..        ...       ...       ...       ...  ...            ...       ...   \n 556 -0.014483  0.282209  0.167844 -0.051885  ...              0         0   \n 557  0.009270 -0.150100 -0.005866 -0.059132  ...              1         0   \n 558 -0.008749 -0.023852 -0.116479 -0.101820  ...              0         1   \n 559 -0.064271  0.040216 -0.841354 -0.051795  ...              0         0   \n 560 -0.014811 -0.059273  1.093057  0.020618  ...              0         0   \n \n      is_Ukrsibbank  is_Universal  is_END19  is_END20  is_END21  is_END22  \\\n 11               0             0         0         0         0         0   \n 12               0             0         0         0         0         0   \n 13               0             0         0         0         0         0   \n 14               0             0         0         0         0         0   \n 15               0             0         0         0         0         0   \n ..             ...           ...       ...       ...       ...       ...   \n 556              0             0         0         0         0         0   \n 557              0             0         0         0         0         0   \n 558              0             0         0         0         0         0   \n 559              1             0         0         0         0         0   \n 560              0             1         0         0         0         0   \n \n      is_END23  is_WAR  \n 11          0       0  \n 12          0       0  \n 13          0       0  \n 14          0       0  \n 15          0       0  \n ..        ...     ...  \n 556         0       1  \n 557         0       1  \n 558         0       1  \n 559         0       1  \n 560         0       1  \n \n [550 rows x 32 columns],\n <statsmodels.regression.linear_model.RegressionResultsWrapper at 0x206b7915a00>)"
     },
     "execution_count": 7,
     "metadata": {},
     "output_type": "execute_result"
    }
   ],
   "source": [
    "run_fixed_effects_on_flattened(path,\n",
    "                                  dummy_dates = [\"=12/2019\", \"=12/2020\", \"=12/2021\", \"=12/2022\", \"=12/2023\", \">02/2022\"], \n",
    "                                  dummy_names = [\"is_END19\", \"is_END20\", \"is_END21\", \"is_END22\", \"is_END23\", \"is_WAR\"])"
   ],
   "metadata": {
    "collapsed": false,
    "ExecuteTime": {
     "end_time": "2024-05-02T10:25:02.541728900Z",
     "start_time": "2024-05-02T10:25:02.485490900Z"
    }
   }
  },
  {
   "cell_type": "markdown",
   "metadata": {},
   "source": [
    "Random Effects"
   ]
  },
  {
   "cell_type": "code",
   "execution_count": 6,
   "metadata": {
    "ExecuteTime": {
     "end_time": "2024-05-02T10:20:22.930203400Z",
     "start_time": "2024-05-02T10:20:22.475391200Z"
    }
   },
   "outputs": [
    {
     "name": "stdout",
     "output_type": "stream",
     "text": [
      "\u001B[93m===============================================================================\u001B[0m\n",
      "\u001B[93m================================== RE Model ===================================\u001B[0m\n",
      "                            OLS Regression Results                            \n",
      "==============================================================================\n",
      "Dep. Variable:                    NIM   R-squared:                       0.210\n",
      "Model:                            OLS   Adj. R-squared:                  0.195\n",
      "Method:                 Least Squares   F-statistic:                     14.32\n",
      "Date:                Thu, 02 May 2024   Prob (F-statistic):           1.26e-22\n",
      "Time:                        13:20:22   Log-Likelihood:                 268.11\n",
      "No. Observations:                 550   AIC:                            -514.2\n",
      "Df Residuals:                     539   BIC:                            -466.8\n",
      "Df Model:                          10                                         \n",
      "Covariance Type:            nonrobust                                         \n",
      "==============================================================================\n",
      "                 coef    std err          t      P>|t|      [0.025      0.975]\n",
      "------------------------------------------------------------------------------\n",
      "const          0.0027      0.004      0.627      0.531      -0.006       0.011\n",
      "PR             0.0952      0.036      2.609      0.009       0.024       0.167\n",
      "CDR            0.0299      0.137      0.218      0.827      -0.239       0.299\n",
      "LAS            0.0207      0.039      0.527      0.598      -0.057       0.098\n",
      "CR             0.0209      0.024      0.880      0.379      -0.026       0.068\n",
      "NIA           -0.0008      0.002     -0.482      0.630      -0.004       0.002\n",
      "OE             0.0972      0.019      5.165      0.000       0.060       0.134\n",
      "RA             0.0120      0.100      0.120      0.904      -0.184       0.208\n",
      "ROA            0.0415      0.005      8.092      0.000       0.031       0.052\n",
      "SCTA          -0.0506      0.031     -1.649      0.100      -0.111       0.010\n",
      "SIZE           5.3141      3.034      1.752      0.080      -0.645      11.273\n",
      "==============================================================================\n",
      "Omnibus:                      303.010   Durbin-Watson:                   1.839\n",
      "Prob(Omnibus):                  0.000   Jarque-Bera (JB):             3775.029\n",
      "Skew:                           2.143   Prob(JB):                         0.00\n",
      "Kurtosis:                      15.098   Cond. No.                     2.43e+03\n",
      "==============================================================================\n",
      "\n",
      "Notes:\n",
      "[1] Standard Errors assume that the covariance matrix of the errors is correctly specified.\n",
      "[2] The condition number is large, 2.43e+03. This might indicate that there are\n",
      "strong multicollinearity or other numerical problems.\n"
     ]
    },
    {
     "data": {
      "text/plain": "<statsmodels.regression.linear_model.RegressionResultsWrapper at 0x206e83f0850>"
     },
     "execution_count": 6,
     "metadata": {},
     "output_type": "execute_result"
    }
   ],
   "source": [
    "run_rand_effects_on_flattened(path)"
   ]
  }
 ],
 "metadata": {
  "kernelspec": {
   "display_name": "Python 3",
   "language": "python",
   "name": "python3"
  },
  "language_info": {
   "codemirror_mode": {
    "name": "ipython",
    "version": 3
   },
   "file_extension": ".py",
   "mimetype": "text/x-python",
   "name": "python",
   "nbconvert_exporter": "python",
   "pygments_lexer": "ipython3",
   "version": "3.12.3"
  }
 },
 "nbformat": 4,
 "nbformat_minor": 2
}
