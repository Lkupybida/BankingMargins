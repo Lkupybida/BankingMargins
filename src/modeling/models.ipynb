{
 "cells": [
  {
   "cell_type": "code",
   "execution_count": 1,
   "metadata": {},
   "outputs": [],
   "source": [
    "from fixed_effects import run_fixed_effects_on_flattened\n",
    "from random_effects import run_rand_effects_on_flattened"
   ]
  },
  {
   "cell_type": "code",
   "execution_count": 2,
   "metadata": {},
   "outputs": [],
   "source": [
    "path = \"./../../data/11_flattenned/flatten_variables_pct.csv\""
   ]
  },
  {
   "cell_type": "markdown",
   "metadata": {},
   "source": [
    "Simple Fixed Effects"
   ]
  },
  {
   "cell_type": "code",
   "execution_count": 3,
   "metadata": {},
   "outputs": [
    {
     "name": "stdout",
     "output_type": "stream",
     "text": [
      "\u001b[94m===============================================================================\u001b[0m\n",
      "\u001b[94m=============================== Fixed Effects =================================\u001b[0m\n",
      "                            OLS Regression Results                            \n",
      "==============================================================================\n",
      "Dep. Variable:                    NIM   R-squared:                       0.119\n",
      "Model:                            OLS   Adj. R-squared:                  0.086\n",
      "Method:                 Least Squares   F-statistic:                     3.588\n",
      "Date:                Thu, 02 May 2024   Prob (F-statistic):           3.28e-07\n",
      "Time:                        12:59:04   Log-Likelihood:                 301.22\n",
      "No. Observations:                 550   AIC:                            -560.4\n",
      "Df Residuals:                     529   BIC:                            -469.9\n",
      "Df Model:                          20                                         \n",
      "Covariance Type:            nonrobust                                         \n",
      "======================================================================================\n",
      "                         coef    std err          t      P>|t|      [0.025      0.975]\n",
      "--------------------------------------------------------------------------------------\n",
      "Intercept              0.0142      0.007      2.149      0.032       0.001       0.027\n",
      "PR                     0.0601      0.035      1.733      0.084      -0.008       0.128\n",
      "CDR                   -0.0427      0.129     -0.332      0.740      -0.295       0.210\n",
      "LAS                    0.0354      0.026      1.347      0.179      -0.016       0.087\n",
      "CR                     0.0234      0.024      0.987      0.324      -0.023       0.070\n",
      "NIA                   -0.0009      0.002     -0.494      0.621      -0.004       0.003\n",
      "OE                     0.1322      0.027      4.840      0.000       0.079       0.186\n",
      "RA                     0.0375      0.089      0.421      0.674      -0.137       0.212\n",
      "ROA                    0.0238      0.009      2.530      0.012       0.005       0.042\n",
      "SCTA                  -0.0720      0.030     -2.438      0.015      -0.130      -0.014\n",
      "SIZE                  -8.8404      2.978     -2.969      0.003     -14.690      -2.991\n",
      "is_Credit_Agricole    -0.0014      0.019     -0.072      0.943      -0.039       0.037\n",
      "is_FUIB                0.0058      0.019      0.299      0.765      -0.032       0.044\n",
      "is_Kredobank          -0.0080      0.019     -0.415      0.678      -0.046       0.030\n",
      "is_OTP                -0.0074      0.019     -0.382      0.703      -0.045       0.031\n",
      "is_Oschadbank         -0.0010      0.019     -0.050      0.960      -0.039       0.037\n",
      "is_Pivdennyi          -0.0055      0.019     -0.281      0.779      -0.044       0.033\n",
      "is_Privat_Bank        -0.0069      0.019     -0.359      0.720      -0.045       0.031\n",
      "is_Raiffeisen         -0.0033      0.019     -0.173      0.862      -0.041       0.035\n",
      "is_Sense               0.0219      0.020      1.091      0.276      -0.018       0.061\n",
      "is_Ukrsibbank          0.0066      0.019      0.341      0.733      -0.032       0.045\n",
      "is_Universal           0.0134      0.020      0.666      0.505      -0.026       0.053\n",
      "==============================================================================\n",
      "Omnibus:                      237.888   Durbin-Watson:                   1.716\n",
      "Prob(Omnibus):                  0.000   Jarque-Bera (JB):             3012.883\n",
      "Skew:                           1.543   Prob(JB):                         0.00\n",
      "Kurtosis:                      14.043   Cond. No.                     3.99e+16\n",
      "==============================================================================\n",
      "\n",
      "Notes:\n",
      "[1] Standard Errors assume that the covariance matrix of the errors is correctly specified.\n",
      "[2] The smallest eigenvalue is 5.9e-30. This might indicate that there are\n",
      "strong multicollinearity problems or that the design matrix is singular.\n"
     ]
    }
   ],
   "source": [
    "res1 = run_fixed_effects_on_flattened(path)"
   ]
  },
  {
   "cell_type": "markdown",
   "metadata": {},
   "source": [
    "Fixed Effects with End of Year"
   ]
  },
  {
   "cell_type": "code",
   "execution_count": 4,
   "metadata": {},
   "outputs": [
    {
     "name": "stdout",
     "output_type": "stream",
     "text": [
      "\u001b[94m===============================================================================\u001b[0m\n",
      "\u001b[94m=============================== Fixed Effects =================================\u001b[0m\n",
      "                            OLS Regression Results                            \n",
      "==============================================================================\n",
      "Dep. Variable:                    NIM   R-squared:                       0.129\n",
      "Model:                            OLS   Adj. R-squared:                  0.092\n",
      "Method:                 Least Squares   F-statistic:                     3.543\n",
      "Date:                Thu, 02 May 2024   Prob (F-statistic):           1.50e-07\n",
      "Time:                        12:59:05   Log-Likelihood:                 304.17\n",
      "No. Observations:                 550   AIC:                            -562.3\n",
      "Df Residuals:                     527   BIC:                            -463.2\n",
      "Df Model:                          22                                         \n",
      "Covariance Type:            nonrobust                                         \n",
      "======================================================================================\n",
      "                         coef    std err          t      P>|t|      [0.025      0.975]\n",
      "--------------------------------------------------------------------------------------\n",
      "Intercept              0.0158      0.007      2.384      0.017       0.003       0.029\n",
      "PR                     0.0567      0.035      1.638      0.102      -0.011       0.125\n",
      "CDR                   -0.1049      0.131     -0.801      0.424      -0.362       0.153\n",
      "LAS                    0.0360      0.027      1.358      0.175      -0.016       0.088\n",
      "CR                     0.0221      0.024      0.933      0.351      -0.024       0.069\n",
      "NIA                   -0.0010      0.002     -0.549      0.583      -0.004       0.002\n",
      "OE                     0.1571      0.029      5.385      0.000       0.100       0.214\n",
      "RA                     0.0227      0.089      0.255      0.799      -0.152       0.198\n",
      "ROA                    0.0245      0.009      2.601      0.010       0.006       0.043\n",
      "SCTA                  -0.0750      0.030     -2.520      0.012      -0.133      -0.017\n",
      "SIZE                  -8.6149      2.974     -2.897      0.004     -14.457      -2.773\n",
      "is_END19              -0.0610      0.046     -1.321      0.187      -0.152       0.030\n",
      "is_END20           -6.471e-14   2.23e-14     -2.896      0.004   -1.09e-13   -2.08e-14\n",
      "is_END21           -2.804e-14   9.67e-15     -2.899      0.004    -4.7e-14   -9.04e-15\n",
      "is_END22              -0.0987      0.047     -2.104      0.036      -0.191      -0.007\n",
      "is_END23            6.501e-14   2.24e-14      2.896      0.004    2.09e-14    1.09e-13\n",
      "is_Credit_Agricole    -0.0012      0.019     -0.060      0.952      -0.039       0.037\n",
      "is_FUIB                0.0058      0.019      0.302      0.762      -0.032       0.044\n",
      "is_Kredobank          -0.0088      0.019     -0.457      0.648      -0.047       0.029\n",
      "is_OTP                -0.0070      0.019     -0.362      0.718      -0.045       0.031\n",
      "is_Oschadbank         -0.0009      0.019     -0.046      0.964      -0.039       0.037\n",
      "is_Pivdennyi          -0.0049      0.019     -0.253      0.801      -0.043       0.033\n",
      "is_Privat_Bank        -0.0068      0.019     -0.352      0.725      -0.045       0.031\n",
      "is_Raiffeisen         -0.0031      0.019     -0.161      0.872      -0.041       0.035\n",
      "is_Sense               0.0221      0.020      1.104      0.270      -0.017       0.061\n",
      "is_Ukrsibbank          0.0077      0.019      0.395      0.693      -0.030       0.046\n",
      "is_Universal           0.0129      0.020      0.640      0.523      -0.027       0.052\n",
      "==============================================================================\n",
      "Omnibus:                      233.413   Durbin-Watson:                   1.725\n",
      "Prob(Omnibus):                  0.000   Jarque-Bera (JB):             2650.814\n",
      "Skew:                           1.541   Prob(JB):                         0.00\n",
      "Kurtosis:                      13.304   Cond. No.                     4.00e+16\n",
      "==============================================================================\n",
      "\n",
      "Notes:\n",
      "[1] Standard Errors assume that the covariance matrix of the errors is correctly specified.\n",
      "[2] The smallest eigenvalue is 5.88e-30. This might indicate that there are\n",
      "strong multicollinearity problems or that the design matrix is singular.\n"
     ]
    },
    {
     "name": "stderr",
     "output_type": "stream",
     "text": [
      "c:\\Users\\ustym\\AppData\\Local\\Programs\\Python\\Python312\\Lib\\site-packages\\statsmodels\\base\\model.py:1894: ValueWarning: covariance of constraints does not have full rank. The number of constraints is 5, but rank is 2\n",
      "  warnings.warn('covariance of constraints does not have full '\n"
     ]
    },
    {
     "data": {
      "text/plain": [
       "<class 'statsmodels.stats.contrast.ContrastResults'>\n",
       "<F test: F=2.8422204943857676, p=0.05919008984610496, df_denom=527, df_num=2>"
      ]
     },
     "execution_count": 4,
     "metadata": {},
     "output_type": "execute_result"
    }
   ],
   "source": [
    "df, res2 = run_fixed_effects_on_flattened(path,\n",
    "                                  dummy_dates = [\"=12/2019\", \"=12/2020\", \"=12/2021\", \"=12/2022\", \"=12/2023\"], \n",
    "                                  dummy_names = [\"is_END19\", \"is_END20\", \"is_END21\", \"is_END22\", \"is_END23\"])\n",
    "\n",
    "# - - - F-TEST - - -\n",
    "f_h = \"is_END19 = 0, is_END20 = 0, is_END21 = 0, is_END22 = 0, is_END23 = 0\"\n",
    "res2.f_test(f_h)"
   ]
  },
  {
   "cell_type": "markdown",
   "metadata": {},
   "source": [
    "Fixed Effects with is_WAR"
   ]
  },
  {
   "cell_type": "code",
   "execution_count": 5,
   "metadata": {},
   "outputs": [
    {
     "name": "stdout",
     "output_type": "stream",
     "text": [
      "\u001b[94m===============================================================================\u001b[0m\n",
      "\u001b[94m=============================== Fixed Effects =================================\u001b[0m\n",
      "                            OLS Regression Results                            \n",
      "==============================================================================\n",
      "Dep. Variable:                    NIM   R-squared:                       0.120\n",
      "Model:                            OLS   Adj. R-squared:                  0.085\n",
      "Method:                 Least Squares   F-statistic:                     3.423\n",
      "Date:                Thu, 02 May 2024   Prob (F-statistic):           5.89e-07\n",
      "Time:                        12:59:05   Log-Likelihood:                 301.34\n",
      "No. Observations:                 550   AIC:                            -558.7\n",
      "Df Residuals:                     528   BIC:                            -463.9\n",
      "Df Model:                          21                                         \n",
      "Covariance Type:            nonrobust                                         \n",
      "======================================================================================\n",
      "                         coef    std err          t      P>|t|      [0.025      0.975]\n",
      "--------------------------------------------------------------------------------------\n",
      "Intercept              0.0123      0.008      1.578      0.115      -0.003       0.028\n",
      "PR                     0.0594      0.035      1.709      0.088      -0.009       0.128\n",
      "CDR                   -0.0238      0.135     -0.177      0.860      -0.288       0.241\n",
      "LAS                    0.0368      0.026      1.391      0.165      -0.015       0.089\n",
      "CR                     0.0220      0.024      0.924      0.356      -0.025       0.069\n",
      "NIA                   -0.0009      0.002     -0.533      0.594      -0.004       0.003\n",
      "OE                     0.1322      0.027      4.837      0.000       0.078       0.186\n",
      "RA                     0.0349      0.089      0.391      0.696      -0.141       0.210\n",
      "ROA                    0.0237      0.009      2.515      0.012       0.005       0.042\n",
      "SCTA                  -0.0724      0.030     -2.447      0.015      -0.130      -0.014\n",
      "SIZE                  -8.8183      2.980     -2.959      0.003     -14.673      -2.964\n",
      "is_WAR                 0.0065      0.014      0.477      0.633      -0.020       0.033\n",
      "is_Credit_Agricole    -0.0014      0.019     -0.072      0.943      -0.039       0.037\n",
      "is_FUIB                0.0057      0.019      0.292      0.770      -0.032       0.044\n",
      "is_Kredobank          -0.0080      0.019     -0.410      0.682      -0.046       0.030\n",
      "is_OTP                -0.0075      0.019     -0.388      0.698      -0.045       0.030\n",
      "is_Oschadbank         -0.0013      0.019     -0.069      0.945      -0.039       0.037\n",
      "is_Pivdennyi          -0.0056      0.019     -0.289      0.773      -0.044       0.033\n",
      "is_Privat_Bank        -0.0072      0.019     -0.372      0.710      -0.045       0.031\n",
      "is_Raiffeisen         -0.0036      0.019     -0.188      0.851      -0.042       0.034\n",
      "is_Sense               0.0216      0.020      1.076      0.282      -0.018       0.061\n",
      "is_Ukrsibbank          0.0064      0.019      0.329      0.743      -0.032       0.045\n",
      "is_Universal           0.0132      0.020      0.656      0.512      -0.026       0.053\n",
      "==============================================================================\n",
      "Omnibus:                      237.536   Durbin-Watson:                   1.715\n",
      "Prob(Omnibus):                  0.000   Jarque-Bera (JB):             3007.567\n",
      "Skew:                           1.540   Prob(JB):                         0.00\n",
      "Kurtosis:                      14.034   Cond. No.                     3.84e+16\n",
      "==============================================================================\n",
      "\n",
      "Notes:\n",
      "[1] Standard Errors assume that the covariance matrix of the errors is correctly specified.\n",
      "[2] The smallest eigenvalue is 6.4e-30. This might indicate that there are\n",
      "strong multicollinearity problems or that the design matrix is singular.\n"
     ]
    },
    {
     "data": {
      "text/plain": [
       "(     Unnamed: 0             Bank       Date       INF   PR        CR  \\\n",
       " 11           11        Pivdennyi 2019-02-01 -0.043478  0.0 -0.066219   \n",
       " 12           12             FUIB 2019-02-01 -0.043478  0.0 -0.047214   \n",
       " 13           13       Ukrsibbank 2019-02-01 -0.043478  0.0  0.042048   \n",
       " 14           14  Credit_Agricole 2019-02-01 -0.043478  0.0 -0.028533   \n",
       " 15           15        Universal 2019-02-01 -0.043478  0.0 -0.039392   \n",
       " ..          ...              ...        ...       ...  ...       ...   \n",
       " 556         556       Raiffeisen 2024-02-01 -0.085106  0.0 -0.014483   \n",
       " 557         557      Privat_Bank 2024-02-01 -0.085106  0.0  0.009270   \n",
       " 558         558       Oschadbank 2024-02-01 -0.085106  0.0 -0.008749   \n",
       " 559         559        Kredobank 2024-02-01 -0.085106  0.0 -0.064271   \n",
       " 560         560            Sense 2024-02-01 -0.085106  0.0 -0.014811   \n",
       " \n",
       "            OE       ROA       NIA       NIM  ...  is_Kredobank  is_OTP  \\\n",
       " 11   0.207098 -0.147145  0.942796 -0.145216  ...             0       0   \n",
       " 12  -0.019262 -0.079393 -0.915124 -0.071788  ...             0       0   \n",
       " 13  -0.020102  0.067595  2.040950  0.142138  ...             0       0   \n",
       " 14   0.109880 -0.062180  0.650224 -0.081947  ...             0       0   \n",
       " 15   2.639490  0.644816  1.980223  1.326928  ...             0       0   \n",
       " ..        ...       ...       ...       ...  ...           ...     ...   \n",
       " 556  0.118382 -0.146406  0.167844 -0.051318  ...             0       0   \n",
       " 557  0.132718 -0.137786 -0.005866 -0.057905  ...             0       0   \n",
       " 558  0.114893 -0.102139 -0.116479 -0.095225  ...             0       0   \n",
       " 559 -0.021128 -0.074968 -0.841354 -0.064955  ...             1       0   \n",
       " 560  0.025192 -0.213464  1.093057 -0.052315  ...             0       0   \n",
       " \n",
       "      is_Oschadbank  is_Pivdennyi  is_Privat_Bank  is_Raiffeisen  is_Sense  \\\n",
       " 11               0             1               0              0         0   \n",
       " 12               0             0               0              0         0   \n",
       " 13               0             0               0              0         0   \n",
       " 14               0             0               0              0         0   \n",
       " 15               0             0               0              0         0   \n",
       " ..             ...           ...             ...            ...       ...   \n",
       " 556              0             0               0              1         0   \n",
       " 557              0             0               1              0         0   \n",
       " 558              1             0               0              0         0   \n",
       " 559              0             0               0              0         0   \n",
       " 560              0             0               0              0         1   \n",
       " \n",
       "      is_Ukrsibbank  is_Universal  is_WAR  \n",
       " 11               0             0       0  \n",
       " 12               0             0       0  \n",
       " 13               1             0       0  \n",
       " 14               0             0       0  \n",
       " 15               0             1       0  \n",
       " ..             ...           ...     ...  \n",
       " 556              0             0       1  \n",
       " 557              0             0       1  \n",
       " 558              0             0       1  \n",
       " 559              0             0       1  \n",
       " 560              0             0       1  \n",
       " \n",
       " [550 rows x 27 columns],\n",
       " <statsmodels.regression.linear_model.RegressionResultsWrapper at 0x1ec6af0b890>)"
      ]
     },
     "execution_count": 5,
     "metadata": {},
     "output_type": "execute_result"
    }
   ],
   "source": [
    "run_fixed_effects_on_flattened(path,\n",
    "                                  dummy_dates=[\">02/2022\"], \n",
    "                                  dummy_names=[\"is_WAR\"])"
   ]
  },
  {
   "cell_type": "markdown",
   "metadata": {},
   "source": [
    "Random Effects"
   ]
  },
  {
   "cell_type": "code",
   "execution_count": 6,
   "metadata": {},
   "outputs": [
    {
     "name": "stdout",
     "output_type": "stream",
     "text": [
      "\u001b[93m===============================================================================\u001b[0m\n",
      "\u001b[93m================================== RE Model ===================================\u001b[0m\n",
      "                            OLS Regression Results                            \n",
      "==============================================================================\n",
      "Dep. Variable:                    NIM   R-squared:                       0.130\n",
      "Model:                            OLS   Adj. R-squared:                  0.114\n",
      "Method:                 Least Squares   F-statistic:                     8.060\n",
      "Date:                Thu, 02 May 2024   Prob (F-statistic):           3.53e-12\n",
      "Time:                        12:59:06   Log-Likelihood:                 295.93\n",
      "No. Observations:                 550   AIC:                            -569.9\n",
      "Df Residuals:                     539   BIC:                            -522.4\n",
      "Df Model:                          10                                         \n",
      "Covariance Type:            nonrobust                                         \n",
      "==============================================================================\n",
      "                 coef    std err          t      P>|t|      [0.025      0.975]\n",
      "------------------------------------------------------------------------------\n",
      "const          0.0121      0.004      2.778      0.006       0.004       0.021\n",
      "PR             0.0658      0.034      1.936      0.053      -0.001       0.133\n",
      "CDR            0.0535      0.121      0.440      0.660      -0.185       0.292\n",
      "LAS            0.0411      0.026      1.606      0.109      -0.009       0.091\n",
      "CR             0.0271      0.022      1.213      0.226      -0.017       0.071\n",
      "NIA           -0.0006      0.002     -0.395      0.693      -0.004       0.003\n",
      "OE             0.1350      0.027      4.989      0.000       0.082       0.188\n",
      "RA             0.0368      0.086      0.426      0.671      -0.133       0.207\n",
      "ROA            0.0298      0.008      3.716      0.000       0.014       0.046\n",
      "SCTA          -0.0681      0.029     -2.322      0.021      -0.126      -0.010\n",
      "SIZE          -5.8053      2.450     -2.369      0.018     -10.619      -0.992\n",
      "==============================================================================\n",
      "Omnibus:                      248.908   Durbin-Watson:                   1.724\n",
      "Prob(Omnibus):                  0.000   Jarque-Bera (JB):             3066.515\n",
      "Skew:                           1.648   Prob(JB):                         0.00\n",
      "Kurtosis:                      14.088   Cond. No.                     2.04e+03\n",
      "==============================================================================\n",
      "\n",
      "Notes:\n",
      "[1] Standard Errors assume that the covariance matrix of the errors is correctly specified.\n",
      "[2] The condition number is large, 2.04e+03. This might indicate that there are\n",
      "strong multicollinearity or other numerical problems.\n"
     ]
    },
    {
     "data": {
      "text/plain": [
       "<statsmodels.regression.linear_model.RegressionResultsWrapper at 0x1ec7057a480>"
      ]
     },
     "execution_count": 6,
     "metadata": {},
     "output_type": "execute_result"
    }
   ],
   "source": [
    "run_rand_effects_on_flattened(path)"
   ]
  }
 ],
 "metadata": {
  "kernelspec": {
   "display_name": "Python 3",
   "language": "python",
   "name": "python3"
  },
  "language_info": {
   "codemirror_mode": {
    "name": "ipython",
    "version": 3
   },
   "file_extension": ".py",
   "mimetype": "text/x-python",
   "name": "python",
   "nbconvert_exporter": "python",
   "pygments_lexer": "ipython3",
   "version": "3.12.3"
  }
 },
 "nbformat": 4,
 "nbformat_minor": 2
}
