{
 "cells": [
  {
   "cell_type": "code",
   "execution_count": 1,
   "metadata": {},
   "outputs": [],
   "source": [
    "from fixed_effects import run_fixed_effects_on_flattened\n",
    "from random_effects import run_rand_effects_on_flattened"
   ]
  },
  {
   "cell_type": "markdown",
   "metadata": {},
   "source": [
    "Simple Fixed Effects"
   ]
  },
  {
   "cell_type": "code",
   "execution_count": 2,
   "metadata": {},
   "outputs": [
    {
     "name": "stdout",
     "output_type": "stream",
     "text": [
      "\u001b[94m===============================================================================\u001b[0m\n",
      "\u001b[94m=============================== Fixed Effects =================================\u001b[0m\n",
      "                            OLS Regression Results                            \n",
      "==============================================================================\n",
      "Dep. Variable:                    NIM   R-squared:                       0.119\n",
      "Model:                            OLS   Adj. R-squared:                  0.086\n",
      "Method:                 Least Squares   F-statistic:                     3.588\n",
      "Date:                Thu, 02 May 2024   Prob (F-statistic):           3.28e-07\n",
      "Time:                        02:03:21   Log-Likelihood:                 301.22\n",
      "No. Observations:                 550   AIC:                            -560.4\n",
      "Df Residuals:                     529   BIC:                            -469.9\n",
      "Df Model:                          20                                         \n",
      "Covariance Type:            nonrobust                                         \n",
      "======================================================================================\n",
      "                         coef    std err          t      P>|t|      [0.025      0.975]\n",
      "--------------------------------------------------------------------------------------\n",
      "Intercept              0.0142      0.007      2.149      0.032       0.001       0.027\n",
      "PR                     0.0601      0.035      1.733      0.084      -0.008       0.128\n",
      "CDR                   -0.0427      0.129     -0.332      0.740      -0.295       0.210\n",
      "LAS                    0.0354      0.026      1.347      0.179      -0.016       0.087\n",
      "CR                     0.0234      0.024      0.987      0.324      -0.023       0.070\n",
      "NIA                   -0.0009      0.002     -0.494      0.621      -0.004       0.003\n",
      "OE                     0.1322      0.027      4.840      0.000       0.079       0.186\n",
      "RA                     0.0375      0.089      0.421      0.674      -0.137       0.212\n",
      "ROA                    0.0238      0.009      2.530      0.012       0.005       0.042\n",
      "SCTA                  -0.0720      0.030     -2.438      0.015      -0.130      -0.014\n",
      "SIZE                  -8.8404      2.978     -2.969      0.003     -14.690      -2.991\n",
      "is_Credit_Agricole    -0.0014      0.019     -0.072      0.943      -0.039       0.037\n",
      "is_FUIB                0.0058      0.019      0.299      0.765      -0.032       0.044\n",
      "is_Kredobank          -0.0080      0.019     -0.415      0.678      -0.046       0.030\n",
      "is_OTP                -0.0074      0.019     -0.382      0.703      -0.045       0.031\n",
      "is_Oschadbank         -0.0010      0.019     -0.050      0.960      -0.039       0.037\n",
      "is_Pivdennyi          -0.0055      0.019     -0.281      0.779      -0.044       0.033\n",
      "is_Privat_Bank        -0.0069      0.019     -0.359      0.720      -0.045       0.031\n",
      "is_Raiffeisen         -0.0033      0.019     -0.173      0.862      -0.041       0.035\n",
      "is_Sense               0.0219      0.020      1.091      0.276      -0.018       0.061\n",
      "is_Ukrsibbank          0.0066      0.019      0.341      0.733      -0.032       0.045\n",
      "is_Universal           0.0134      0.020      0.666      0.505      -0.026       0.053\n",
      "==============================================================================\n",
      "Omnibus:                      237.888   Durbin-Watson:                   1.716\n",
      "Prob(Omnibus):                  0.000   Jarque-Bera (JB):             3012.883\n",
      "Skew:                           1.543   Prob(JB):                         0.00\n",
      "Kurtosis:                      14.043   Cond. No.                     3.99e+16\n",
      "==============================================================================\n",
      "\n",
      "Notes:\n",
      "[1] Standard Errors assume that the covariance matrix of the errors is correctly specified.\n",
      "[2] The smallest eigenvalue is 5.9e-30. This might indicate that there are\n",
      "strong multicollinearity problems or that the design matrix is singular.\n"
     ]
    }
   ],
   "source": [
    "res1 = run_fixed_effects_on_flattened(\"./../../data/11_flattenned/flatten_variables_pct.csv\")"
   ]
  },
  {
   "cell_type": "markdown",
   "metadata": {},
   "source": [
    "Fixed Effects with End of Year"
   ]
  },
  {
   "cell_type": "code",
   "execution_count": 3,
   "metadata": {},
   "outputs": [
    {
     "name": "stdout",
     "output_type": "stream",
     "text": [
      "\u001b[94m===============================================================================\u001b[0m\n",
      "\u001b[94m=============================== Fixed Effects =================================\u001b[0m\n",
      "                            OLS Regression Results                            \n",
      "==============================================================================\n",
      "Dep. Variable:                    NIM   R-squared:                       0.124\n",
      "Model:                            OLS   Adj. R-squared:                  0.082\n",
      "Method:                 Least Squares   F-statistic:                     2.956\n",
      "Date:                Thu, 02 May 2024   Prob (F-statistic):           3.11e-06\n",
      "Time:                        02:03:21   Log-Likelihood:                 302.51\n",
      "No. Observations:                 550   AIC:                            -553.0\n",
      "Df Residuals:                     524   BIC:                            -441.0\n",
      "Df Model:                          25                                         \n",
      "Covariance Type:            nonrobust                                         \n",
      "======================================================================================\n",
      "                         coef    std err          t      P>|t|      [0.025      0.975]\n",
      "--------------------------------------------------------------------------------------\n",
      "Intercept             -0.0002      0.014     -0.016      0.987      -0.028       0.028\n",
      "PR                     0.0665      0.037      1.817      0.070      -0.005       0.138\n",
      "CDR                   -0.0417      0.134     -0.311      0.756      -0.305       0.222\n",
      "LAS                    0.0388      0.027      1.454      0.147      -0.014       0.091\n",
      "CR                     0.0244      0.024      1.016      0.310      -0.023       0.072\n",
      "NIA                   -0.0009      0.002     -0.491      0.624      -0.004       0.003\n",
      "OE                     0.1381      0.028      4.978      0.000       0.084       0.193\n",
      "RA                     0.0219      0.094      0.233      0.816      -0.163       0.207\n",
      "ROA                    0.0247      0.009      2.601      0.010       0.006       0.043\n",
      "SCTA                  -0.0709      0.030     -2.384      0.017      -0.129      -0.012\n",
      "SIZE                  -9.0285      3.095     -2.918      0.004     -15.108      -2.949\n",
      "is_END19               0.0261      0.020      1.283      0.200      -0.014       0.066\n",
      "is_END20              -0.0071      0.020     -0.356      0.722      -0.046       0.032\n",
      "is_END21              -0.0102      0.021     -0.481      0.630      -0.052       0.031\n",
      "is_END22               0.0168      0.022      0.754      0.451      -0.027       0.061\n",
      "is_END23              -0.0190      0.035     -0.546      0.585      -0.087       0.049\n",
      "is_Credit_Agricole    -0.0025      0.019     -0.126      0.899      -0.041       0.036\n",
      "is_FUIB                0.0045      0.019      0.231      0.818      -0.034       0.043\n",
      "is_Kredobank          -0.0094      0.019     -0.480      0.631      -0.048       0.029\n",
      "is_OTP                -0.0085      0.019     -0.438      0.662      -0.047       0.030\n",
      "is_Oschadbank         -0.0025      0.019     -0.130      0.897      -0.041       0.036\n",
      "is_Pivdennyi          -0.0068      0.020     -0.346      0.729      -0.045       0.032\n",
      "is_Privat_Bank        -0.0082      0.019     -0.421      0.674      -0.046       0.030\n",
      "is_Raiffeisen         -0.0048      0.019     -0.249      0.804      -0.043       0.033\n",
      "is_Sense               0.0210      0.020      1.037      0.300      -0.019       0.061\n",
      "is_Ukrsibbank          0.0054      0.020      0.278      0.781      -0.033       0.044\n",
      "is_Universal           0.0114      0.020      0.564      0.573      -0.028       0.051\n",
      "==============================================================================\n",
      "Omnibus:                      238.493   Durbin-Watson:                   1.722\n",
      "Prob(Omnibus):                  0.000   Jarque-Bera (JB):             2953.180\n",
      "Skew:                           1.556   Prob(JB):                         0.00\n",
      "Kurtosis:                      13.917   Cond. No.                     4.21e+16\n",
      "==============================================================================\n",
      "\n",
      "Notes:\n",
      "[1] Standard Errors assume that the covariance matrix of the errors is correctly specified.\n",
      "[2] The smallest eigenvalue is 5.36e-30. This might indicate that there are\n",
      "strong multicollinearity problems or that the design matrix is singular.\n"
     ]
    },
    {
     "data": {
      "text/plain": [
       "<class 'statsmodels.stats.contrast.ContrastResults'>\n",
       "<F test: F=0.4939368862275404, p=0.7808672893431768, df_denom=524, df_num=5>"
      ]
     },
     "execution_count": 3,
     "metadata": {},
     "output_type": "execute_result"
    }
   ],
   "source": [
    "res2 = run_fixed_effects_on_flattened(\"./../../data/11_flattenned/flatten_variables_pct.csv\",\n",
    "                                  dummy_dates = [\"12/2019\", \"12/2020\", \"12/2021\", \"12/2022\", \"12/2023\"], \n",
    "                                  dummy_names = [\"is_END19\", \"is_END20\", \"is_END21\", \"is_END22\", \"is_END23\"])\n",
    "\n",
    "# - - - F-TEST - - -\n",
    "f_h = \"is_END19 = 0, is_END20 = 0, is_END21 = 0, is_END22 = 0, is_END23 = 0\"\n",
    "res2.f_test(f_h)"
   ]
  },
  {
   "cell_type": "markdown",
   "metadata": {},
   "source": [
    "Fixed Effects with is_WAR"
   ]
  },
  {
   "cell_type": "code",
   "execution_count": 4,
   "metadata": {},
   "outputs": [
    {
     "name": "stdout",
     "output_type": "stream",
     "text": [
      "\u001b[94m===============================================================================\u001b[0m\n",
      "\u001b[94m=============================== Fixed Effects =================================\u001b[0m\n",
      "                            OLS Regression Results                            \n",
      "==============================================================================\n",
      "Dep. Variable:                    NIM   R-squared:                       0.120\n",
      "Model:                            OLS   Adj. R-squared:                  0.085\n",
      "Method:                 Least Squares   F-statistic:                     3.423\n",
      "Date:                Thu, 02 May 2024   Prob (F-statistic):           5.89e-07\n",
      "Time:                        02:03:21   Log-Likelihood:                 301.34\n",
      "No. Observations:                 550   AIC:                            -558.7\n",
      "Df Residuals:                     528   BIC:                            -463.9\n",
      "Df Model:                          21                                         \n",
      "Covariance Type:            nonrobust                                         \n",
      "======================================================================================\n",
      "                         coef    std err          t      P>|t|      [0.025      0.975]\n",
      "--------------------------------------------------------------------------------------\n",
      "Intercept              0.0123      0.008      1.578      0.115      -0.003       0.028\n",
      "PR                     0.0594      0.035      1.709      0.088      -0.009       0.128\n",
      "CDR                   -0.0238      0.135     -0.177      0.860      -0.288       0.241\n",
      "LAS                    0.0368      0.026      1.391      0.165      -0.015       0.089\n",
      "CR                     0.0220      0.024      0.924      0.356      -0.025       0.069\n",
      "NIA                   -0.0009      0.002     -0.533      0.594      -0.004       0.003\n",
      "OE                     0.1322      0.027      4.837      0.000       0.078       0.186\n",
      "RA                     0.0349      0.089      0.391      0.696      -0.141       0.210\n",
      "ROA                    0.0237      0.009      2.515      0.012       0.005       0.042\n",
      "SCTA                  -0.0724      0.030     -2.447      0.015      -0.130      -0.014\n",
      "SIZE                  -8.8183      2.980     -2.959      0.003     -14.673      -2.964\n",
      "is_WAR                 0.0065      0.014      0.477      0.633      -0.020       0.033\n",
      "is_Credit_Agricole    -0.0014      0.019     -0.072      0.943      -0.039       0.037\n",
      "is_FUIB                0.0057      0.019      0.292      0.770      -0.032       0.044\n",
      "is_Kredobank          -0.0080      0.019     -0.410      0.682      -0.046       0.030\n",
      "is_OTP                -0.0075      0.019     -0.388      0.698      -0.045       0.030\n",
      "is_Oschadbank         -0.0013      0.019     -0.069      0.945      -0.039       0.037\n",
      "is_Pivdennyi          -0.0056      0.019     -0.289      0.773      -0.044       0.033\n",
      "is_Privat_Bank        -0.0072      0.019     -0.372      0.710      -0.045       0.031\n",
      "is_Raiffeisen         -0.0036      0.019     -0.188      0.851      -0.042       0.034\n",
      "is_Sense               0.0216      0.020      1.076      0.282      -0.018       0.061\n",
      "is_Ukrsibbank          0.0064      0.019      0.329      0.743      -0.032       0.045\n",
      "is_Universal           0.0132      0.020      0.656      0.512      -0.026       0.053\n",
      "==============================================================================\n",
      "Omnibus:                      237.536   Durbin-Watson:                   1.715\n",
      "Prob(Omnibus):                  0.000   Jarque-Bera (JB):             3007.567\n",
      "Skew:                           1.540   Prob(JB):                         0.00\n",
      "Kurtosis:                      14.034   Cond. No.                     3.84e+16\n",
      "==============================================================================\n",
      "\n",
      "Notes:\n",
      "[1] Standard Errors assume that the covariance matrix of the errors is correctly specified.\n",
      "[2] The smallest eigenvalue is 6.4e-30. This might indicate that there are\n",
      "strong multicollinearity problems or that the design matrix is singular.\n"
     ]
    },
    {
     "data": {
      "text/plain": [
       "<statsmodels.regression.linear_model.RegressionResultsWrapper at 0x17cb682b890>"
      ]
     },
     "execution_count": 4,
     "metadata": {},
     "output_type": "execute_result"
    }
   ],
   "source": [
    "run_fixed_effects_on_flattened(\"./../../data/11_flattenned/flatten_variables_pct.csv\",\n",
    "                                  dummy_dates=[\"02/2022\"], \n",
    "                                  dummy_names=[\"is_WAR\"])"
   ]
  },
  {
   "cell_type": "markdown",
   "metadata": {},
   "source": [
    "Random Effects"
   ]
  },
  {
   "cell_type": "code",
   "execution_count": 6,
   "metadata": {},
   "outputs": [
    {
     "name": "stdout",
     "output_type": "stream",
     "text": [
      "===============================================================================\n",
      "============================== Pooled OLSR model ==============================\n",
      "                            OLS Regression Results                            \n",
      "==============================================================================\n",
      "Dep. Variable:                    NIM   R-squared:                       0.116\n",
      "Model:                            OLS   Adj. R-squared:                  0.099\n",
      "Method:                 Least Squares   F-statistic:                     7.060\n",
      "Date:                Thu, 02 May 2024   Prob (F-statistic):           1.81e-10\n",
      "Time:                        02:03:57   Log-Likelihood:                 300.08\n",
      "No. Observations:                 550   AIC:                            -578.2\n",
      "Df Residuals:                     539   BIC:                            -530.8\n",
      "Df Model:                          10                                         \n",
      "Covariance Type:            nonrobust                                         \n",
      "==============================================================================\n",
      "                 coef    std err          t      P>|t|      [0.025      0.975]\n",
      "------------------------------------------------------------------------------\n",
      "const          0.0147      0.007      2.070      0.039       0.001       0.029\n",
      "PR             0.0614      0.034      1.791      0.074      -0.006       0.129\n",
      "CDR           -0.0211      0.126     -0.167      0.867      -0.269       0.227\n",
      "LAS            0.0366      0.026      1.408      0.160      -0.014       0.088\n",
      "CR             0.0243      0.023      1.047      0.296      -0.021       0.070\n",
      "NIA           -0.0008      0.002     -0.477      0.633      -0.004       0.003\n",
      "OE             0.1329      0.027      4.911      0.000       0.080       0.186\n",
      "RA             0.0382      0.088      0.435      0.664      -0.134       0.211\n",
      "ROA            0.0251      0.009      2.783      0.006       0.007       0.043\n",
      "SCTA          -0.0711      0.029     -2.430      0.015      -0.129      -0.014\n",
      "SIZE          -8.1363      2.827     -2.878      0.004     -13.689      -2.583\n",
      "==============================================================================\n",
      "Omnibus:                      244.702   Durbin-Watson:                   1.718\n",
      "Prob(Omnibus):                  0.000   Jarque-Bera (JB):             3091.969\n",
      "Skew:                           1.603   Prob(JB):                         0.00\n",
      "Kurtosis:                      14.165   Cond. No.                     1.93e+03\n",
      "==============================================================================\n",
      "\n",
      "Notes:\n",
      "[1] Standard Errors assume that the covariance matrix of the errors is correctly specified.\n",
      "[2] The condition number is large, 1.93e+03. This might indicate that there are\n",
      "strong multicollinearity or other numerical problems.\n",
      "===============================================================================\n",
      "============================== OLSR With Dummies ==============================\n",
      "                            OLS Regression Results                            \n",
      "==============================================================================\n",
      "Dep. Variable:                    NIM   R-squared:                       0.119\n",
      "Model:                            OLS   Adj. R-squared:                  0.086\n",
      "Method:                 Least Squares   F-statistic:                     3.588\n",
      "Date:                Thu, 02 May 2024   Prob (F-statistic):           3.28e-07\n",
      "Time:                        02:03:57   Log-Likelihood:                 301.22\n",
      "No. Observations:                 550   AIC:                            -560.4\n",
      "Df Residuals:                     529   BIC:                            -469.9\n",
      "Df Model:                          20                                         \n",
      "Covariance Type:            nonrobust                                         \n",
      "===========================================================================================\n",
      "                              coef    std err          t      P>|t|      [0.025      0.975]\n",
      "-------------------------------------------------------------------------------------------\n",
      "Intercept                   0.0277      0.021      1.299      0.194      -0.014       0.069\n",
      "Credit_Agricole[T.True]    -0.0148      0.029     -0.504      0.615      -0.073       0.043\n",
      "FUIB[T.True]               -0.0076      0.029     -0.260      0.795      -0.065       0.050\n",
      "Kredobank[T.True]          -0.0215      0.029     -0.731      0.465      -0.079       0.036\n",
      "OTP[T.True]                -0.0208      0.029     -0.710      0.478      -0.078       0.037\n",
      "Oschadbank[T.True]         -0.0144      0.029     -0.495      0.621      -0.072       0.043\n",
      "Pivdennyi[T.True]          -0.0189      0.029     -0.653      0.514      -0.076       0.038\n",
      "Privat_Bank[T.True]        -0.0204      0.029     -0.692      0.489      -0.078       0.037\n",
      "Raiffeisen[T.True]         -0.0168      0.029     -0.573      0.567      -0.074       0.041\n",
      "Sense[T.True]               0.0084      0.030      0.279      0.780      -0.051       0.068\n",
      "Ukrsibbank[T.True]         -0.0068      0.030     -0.229      0.819      -0.065       0.051\n",
      "PR                          0.0601      0.035      1.733      0.084      -0.008       0.128\n",
      "CDR                        -0.0427      0.129     -0.332      0.740      -0.295       0.210\n",
      "LAS                         0.0354      0.026      1.347      0.179      -0.016       0.087\n",
      "CR                          0.0234      0.024      0.987      0.324      -0.023       0.070\n",
      "NIA                        -0.0009      0.002     -0.494      0.621      -0.004       0.003\n",
      "OE                          0.1322      0.027      4.840      0.000       0.079       0.186\n",
      "RA                          0.0375      0.089      0.421      0.674      -0.137       0.212\n",
      "ROA                         0.0238      0.009      2.530      0.012       0.005       0.042\n",
      "SCTA                       -0.0720      0.030     -2.438      0.015      -0.130      -0.014\n",
      "SIZE                       -8.8404      2.978     -2.969      0.003     -14.690      -2.991\n",
      "==============================================================================\n",
      "Omnibus:                      237.888   Durbin-Watson:                   1.716\n",
      "Prob(Omnibus):                  0.000   Jarque-Bera (JB):             3012.883\n",
      "Skew:                           1.543   Prob(JB):                         0.00\n",
      "Kurtosis:                      14.043   Cond. No.                     2.02e+03\n",
      "==============================================================================\n",
      "\n",
      "Notes:\n",
      "[1] Standard Errors assume that the covariance matrix of the errors is correctly specified.\n",
      "[2] The condition number is large, 2.02e+03. This might indicate that there are\n",
      "strong multicollinearity or other numerical problems.\n",
      "sigma2_epsilon = 0.020396425733075162\n",
      "sigma2_pooled = 0.020062932247480434\n",
      "sigma2_u = -0.0003334934855947283\n",
      "theta = -1.3410104421064761\n",
      "\u001b[93m===============================================================================\u001b[0m\n",
      "\u001b[93m================================== RE Model ===================================\u001b[0m\n",
      "                            OLS Regression Results                            \n",
      "==============================================================================\n",
      "Dep. Variable:                    NIM   R-squared:                       0.130\n",
      "Model:                            OLS   Adj. R-squared:                  0.114\n",
      "Method:                 Least Squares   F-statistic:                     8.060\n",
      "Date:                Thu, 02 May 2024   Prob (F-statistic):           3.53e-12\n",
      "Time:                        02:03:58   Log-Likelihood:                 295.93\n",
      "No. Observations:                 550   AIC:                            -569.9\n",
      "Df Residuals:                     539   BIC:                            -522.4\n",
      "Df Model:                          10                                         \n",
      "Covariance Type:            nonrobust                                         \n",
      "==============================================================================\n",
      "                 coef    std err          t      P>|t|      [0.025      0.975]\n",
      "------------------------------------------------------------------------------\n",
      "const          0.0121      0.004      2.778      0.006       0.004       0.021\n",
      "PR             0.0658      0.034      1.936      0.053      -0.001       0.133\n",
      "CDR            0.0535      0.121      0.440      0.660      -0.185       0.292\n",
      "LAS            0.0411      0.026      1.606      0.109      -0.009       0.091\n",
      "CR             0.0271      0.022      1.213      0.226      -0.017       0.071\n",
      "NIA           -0.0006      0.002     -0.395      0.693      -0.004       0.003\n",
      "OE             0.1350      0.027      4.989      0.000       0.082       0.188\n",
      "RA             0.0368      0.086      0.426      0.671      -0.133       0.207\n",
      "ROA            0.0298      0.008      3.716      0.000       0.014       0.046\n",
      "SCTA          -0.0681      0.029     -2.322      0.021      -0.126      -0.010\n",
      "SIZE          -5.8053      2.450     -2.369      0.018     -10.619      -0.992\n",
      "==============================================================================\n",
      "Omnibus:                      248.908   Durbin-Watson:                   1.724\n",
      "Prob(Omnibus):                  0.000   Jarque-Bera (JB):             3066.515\n",
      "Skew:                           1.648   Prob(JB):                         0.00\n",
      "Kurtosis:                      14.088   Cond. No.                     2.04e+03\n",
      "==============================================================================\n",
      "\n",
      "Notes:\n",
      "[1] Standard Errors assume that the covariance matrix of the errors is correctly specified.\n",
      "[2] The condition number is large, 2.04e+03. This might indicate that there are\n",
      "strong multicollinearity or other numerical problems.\n"
     ]
    },
    {
     "data": {
      "text/plain": [
       "<statsmodels.regression.linear_model.RegressionResultsWrapper at 0x17cb68ccec0>"
      ]
     },
     "execution_count": 6,
     "metadata": {},
     "output_type": "execute_result"
    }
   ],
   "source": [
    "run_rand_effects_on_flattened(\"./../../data/11_flattenned/flatten_variables_pct.csv\", show_all=True)"
   ]
  }
 ],
 "metadata": {
  "kernelspec": {
   "display_name": "Python 3",
   "language": "python",
   "name": "python3"
  },
  "language_info": {
   "codemirror_mode": {
    "name": "ipython",
    "version": 3
   },
   "file_extension": ".py",
   "mimetype": "text/x-python",
   "name": "python",
   "nbconvert_exporter": "python",
   "pygments_lexer": "ipython3",
   "version": "3.12.3"
  }
 },
 "nbformat": 4,
 "nbformat_minor": 2
}
