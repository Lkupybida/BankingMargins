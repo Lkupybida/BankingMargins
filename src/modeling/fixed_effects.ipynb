{
 "cells": [
  {
   "cell_type": "code",
   "execution_count": 2,
   "metadata": {},
   "outputs": [],
   "source": [
    "import pandas as pd\n",
    "import os\n",
    "import statsmodels.formula.api as smf \n",
    "from datetime import datetime"
   ]
  },
  {
   "cell_type": "code",
   "execution_count": 3,
   "metadata": {},
   "outputs": [],
   "source": [
    "def add_dummy_for_date(file_path, dummy_dates, dummy_names):\n",
    "    dummy_dates = [datetime.strptime(i, \"%m/%Y\") for i in dummy_dates]\n",
    "    df = pd.read_csv(file_path)\n",
    "    df[\"Date\"] = pd.to_datetime(df[\"Date\"], format=\"%m/%Y\")\n",
    "    for i, name in enumerate(dummy_names):\n",
    "        df[name] = (df['Date'] > dummy_dates[i]).astype(int)\n",
    "    return df"
   ]
  },
  {
   "cell_type": "code",
   "execution_count": 19,
   "metadata": {},
   "outputs": [],
   "source": [
    "# resulting_df = add_dummy_for_date(\"./../../data/11_flattenned/flatten_variables.csv\",\n",
    "#                                   [\"12/2019\", \"12/2020\", \"12/2021\", \"12/2022\", \"12/2023\"], \n",
    "#                                   [\"is_END19\", \"is_END20\", \"is_END21\", \"is_END22\", \"is_END23\"])\n",
    "resulting_df = add_dummy_for_date(\"./../../data/11_flattenned/flatten_variables_decomposition_detrended_and_deseasoned.csv\",\n",
    "                                  [\"02/2022\"], \n",
    "                                  [\"is_WAR\"])\n",
    "resulting_df = resulting_df.dropna()"
   ]
  },
  {
   "cell_type": "code",
   "execution_count": 21,
   "metadata": {},
   "outputs": [
    {
     "data": {
      "text/plain": [
       "Index(['Unnamed: 0', 'Bank', 'Date', 'INF', 'PR', 'CR', 'OE', 'ROA', 'NIA',\n",
       "       'NIM', 'RA', 'SCTA', 'CDR', 'LAS', 'SIZE', 'is_Credit_Agricole',\n",
       "       'is_FUIB', 'is_Kredobank', 'is_OTP', 'is_Oschadbank', 'is_Pivdennyi',\n",
       "       'is_Privat_Bank', 'is_Raiffeisen', 'is_Sense', 'is_Ukrsibbank',\n",
       "       'is_Universal', 'is_WAR'],\n",
       "      dtype='object')"
      ]
     },
     "execution_count": 21,
     "metadata": {},
     "output_type": "execute_result"
    }
   ],
   "source": [
    "resulting_df.columns"
   ]
  },
  {
   "cell_type": "code",
   "execution_count": 20,
   "metadata": {},
   "outputs": [
    {
     "name": "stdout",
     "output_type": "stream",
     "text": [
      "                            OLS Regression Results                            \n",
      "==============================================================================\n",
      "Dep. Variable:                    NIM   R-squared:                       0.156\n",
      "Model:                            OLS   Adj. R-squared:                  0.112\n",
      "Method:                 Least Squares   F-statistic:                     3.575\n",
      "Date:                Wed, 01 May 2024   Prob (F-statistic):           2.94e-07\n",
      "Time:                        16:24:52   Log-Likelihood:                 2728.3\n",
      "No. Observations:                 429   AIC:                            -5413.\n",
      "Df Residuals:                     407   BIC:                            -5323.\n",
      "Df Model:                          21                                         \n",
      "Covariance Type:            nonrobust                                         \n",
      "======================================================================================\n",
      "                         coef    std err          t      P>|t|      [0.025      0.975]\n",
      "--------------------------------------------------------------------------------------\n",
      "Intercept          -5.532e-06   2.49e-05     -0.222      0.825   -5.46e-05    4.35e-05\n",
      "PR                  3.756e-05    1.3e-05      2.899      0.004    1.21e-05     6.3e-05\n",
      "CDR                    0.0026      0.001      2.916      0.004       0.001       0.004\n",
      "LAS                    0.0035      0.001      3.490      0.001       0.002       0.005\n",
      "CR                     0.0015      0.002      0.788      0.431      -0.002       0.005\n",
      "NIA                   -0.0004      0.001     -0.328      0.743      -0.003       0.002\n",
      "OE                     0.0264      0.034      0.782      0.434      -0.040       0.093\n",
      "RA                     0.0136      0.004      3.210      0.001       0.005       0.022\n",
      "ROA                    0.0073      0.013      0.565      0.572      -0.018       0.033\n",
      "SCTA                  -0.0086      0.005     -1.664      0.097      -0.019       0.002\n",
      "SIZE                  -0.0014      0.001     -1.923      0.055      -0.003    3.14e-05\n",
      "is_Credit_Agricole -1.967e-05   6.57e-05     -0.299      0.765      -0.000       0.000\n",
      "is_FUIB             1.941e-05   6.58e-05      0.295      0.768      -0.000       0.000\n",
      "is_Kredobank        6.125e-06   6.58e-05      0.093      0.926      -0.000       0.000\n",
      "is_OTP             -1.342e-05   6.57e-05     -0.204      0.838      -0.000       0.000\n",
      "is_Oschadbank      -9.688e-07   6.61e-05     -0.015      0.988      -0.000       0.000\n",
      "is_Pivdennyi       -5.394e-06   6.57e-05     -0.082      0.935      -0.000       0.000\n",
      "is_Privat_Bank     -7.972e-06   6.58e-05     -0.121      0.904      -0.000       0.000\n",
      "is_Raiffeisen      -3.683e-06   6.58e-05     -0.056      0.955      -0.000       0.000\n",
      "is_Sense            5.877e-05   6.59e-05      0.892      0.373   -7.07e-05       0.000\n",
      "is_Ukrsibbank      -4.441e-05   6.57e-05     -0.676      0.500      -0.000    8.48e-05\n",
      "is_Universal        5.681e-06   6.57e-05      0.086      0.931      -0.000       0.000\n",
      "is_WAR              7.534e-06   5.64e-05      0.134      0.894      -0.000       0.000\n",
      "==============================================================================\n",
      "Omnibus:                       23.425   Durbin-Watson:                   1.822\n",
      "Prob(Omnibus):                  0.000   Jarque-Bera (JB):               69.741\n",
      "Skew:                          -0.082   Prob(JB):                     7.18e-16\n",
      "Kurtosis:                       4.968   Cond. No.                     1.99e+16\n",
      "==============================================================================\n",
      "\n",
      "Notes:\n",
      "[1] Standard Errors assume that the covariance matrix of the errors is correctly specified.\n",
      "[2] The smallest eigenvalue is 4.79e-30. This might indicate that there are\n",
      "strong multicollinearity problems or that the design matrix is singular.\n"
     ]
    }
   ],
   "source": [
    "regression_string = 'NIM ~ PR + CDR + LAS + CR + NIA + OE + RA + ROA + SCTA + SIZE + \\\n",
    "    is_Credit_Agricole + is_FUIB + is_Kredobank + is_OTP + is_Oschadbank + is_Pivdennyi + \\\n",
    "        is_Privat_Bank + is_Raiffeisen + is_Sense + is_Ukrsibbank + is_Universal + is_WAR'\\\n",
    "            # is_END19 + is_END20 + is_END21 + is_END22 + is_END23'\n",
    "\n",
    "# regression_string = 'NIM ~ PR + CR + LAS + SIZE + \\\n",
    "#     is_Credit_Agricole + is_FUIB + is_Kredobank + is_OTP + is_Oschadbank + is_Pivdennyi + \\\n",
    "#         is_Privat_Bank + is_Raiffeisen + is_Sense + is_Ukrsibbank + is_Universal'\n",
    "\n",
    "mod3 = smf.ols(formula=regression_string, data=resulting_df)\n",
    "res3 = mod3.fit()\n",
    "print(res3.summary())\n",
    "\n",
    "# f_h = \"is_END19 = 0, is_END20 = 0, is_END21 = 0, is_END22 = 0, is_END23 = 0\"\n",
    "# res3.f_test(f_h)"
   ]
  }
 ],
 "metadata": {
  "kernelspec": {
   "display_name": "Python 3",
   "language": "python",
   "name": "python3"
  },
  "language_info": {
   "codemirror_mode": {
    "name": "ipython",
    "version": 3
   },
   "file_extension": ".py",
   "mimetype": "text/x-python",
   "name": "python",
   "nbconvert_exporter": "python",
   "pygments_lexer": "ipython3",
   "version": "3.12.3"
  }
 },
 "nbformat": 4,
 "nbformat_minor": 2
}
