{
 "cells": [
  {
   "cell_type": "code",
   "execution_count": 1,
   "metadata": {},
   "outputs": [],
   "source": [
    "import pandas as pd\n",
    "import matplotlib.pyplot as plt\n",
    "from statsmodels.tsa.stattools import adfuller"
   ]
  },
  {
   "cell_type": "code",
   "execution_count": 10,
   "metadata": {
    "ExecuteTime": {
     "end_time": "2024-05-01T15:32:08.565957Z",
     "start_time": "2024-05-01T15:32:08.544602Z"
    }
   },
   "outputs": [
    {
     "name": "stdout",
     "output_type": "stream",
     "text": [
      "For variable CDR of bank \"pivdennyi bank\" Pearson correlation with lag (12) is: 0.395\n",
      "For variable LAS of bank \"pivdennyi bank\" Pearson correlation with lag (12) is: 0.502\n",
      "For variable NIA of bank \"pivdennyi bank\" Pearson correlation with lag (12) is: -0.167\n",
      "For variable NIM of bank \"pivdennyi bank\" Pearson correlation with lag (12) is: -0.13\n",
      "For variable OE of bank \"pivdennyi bank\" Pearson correlation with lag (12) is: 0.347\n",
      "For variable RA of bank \"pivdennyi bank\" Pearson correlation with lag (12) is: 0.026\n",
      "For variable ROA of bank \"pivdennyi bank\" Pearson correlation with lag (12) is: -0.061\n",
      "For variable SCTA of bank \"pivdennyi bank\" Pearson correlation with lag (12) is: 0.313\n"
     ]
    }
   ],
   "source": [
    "def autocor_info_not_composed(detrended,all_banks, files,k):\n",
    "    for dir in detrended:\n",
    "        for file in files:\n",
    "            current = pd.read_csv(dir+file+\".csv\")\n",
    "            to_del = []\n",
    "            for i in range(1,len(current.columns)):\n",
    "                if current.columns[i] not in all_banks:\n",
    "                    to_del.append(current.columns[i])    \n",
    "            current.drop(columns=to_del, inplace=True)\n",
    "            current.dropna(axis = 0, how = 'any', inplace = True)\n",
    "            for bank in all_banks:\n",
    "                print(f\"For variable {file} of bank \\\"{bank}\\\" Pearson correlation with lag ({k}) is: {round(current[bank].autocorr(lag=k),3)}\")\n",
    "# detrended = [\"./../data/10_detrend/pct/\",\n",
    "#              \"./../data/10_detrend/decomposition/detrended/\",\n",
    "#              \"./../data/10_detrend/decomposition/deseasoned/\",\n",
    "#              \"./../data/10_detrend/wavelet/\"]\n",
    "# all_banks = ['cb privatbank','credit agricole bank','fuib','kredobank','oschadbank','otp bank','pivdennyi bank','raiffeisen bank','sense bank','ukrsibbank','universal bank']\n",
    "k=12\n",
    "\n",
    "all_banks = ['pivdennyi bank']\n",
    "detrended = [\n",
    "             \"./../data/4,5_variables/\"]\n",
    "# files = ['AE', 'C', 'CL', 'D', 'L', 'LA', 'NI', 'NII', 'NPL', 'TA', 'TE', 'TI']\n",
    "# files = ['CDR','INF','PR','LAS','NIA','NIM',\n",
    "#                 'OE','RA','ROA','SCTA','SIZE']\n",
    "files = ['CDR','LAS','NIA','NIM',\n",
    "                'OE','RA','ROA','SCTA']\n",
    "autocor_info_not_composed(detrended,all_banks,files,k)"
   ]
  },
  {
   "cell_type": "code",
   "execution_count": 4,
   "metadata": {
    "ExecuteTime": {
     "end_time": "2024-05-01T14:58:51.372496Z",
     "start_time": "2024-05-01T14:58:51.111130Z"
    }
   },
   "outputs": [
    {
     "ename": "KeyError",
     "evalue": "'AE'",
     "output_type": "error",
     "traceback": [
      "\u001B[0;31m---------------------------------------------------------------------------\u001B[0m",
      "\u001B[0;31mKeyError\u001B[0m                                  Traceback (most recent call last)",
      "File \u001B[0;32m~/miniforge3/envs/ENV/lib/python3.12/site-packages/pandas/core/indexes/base.py:3805\u001B[0m, in \u001B[0;36mIndex.get_loc\u001B[0;34m(self, key)\u001B[0m\n\u001B[1;32m   3804\u001B[0m \u001B[38;5;28;01mtry\u001B[39;00m:\n\u001B[0;32m-> 3805\u001B[0m     \u001B[38;5;28;01mreturn\u001B[39;00m \u001B[38;5;28;43mself\u001B[39;49m\u001B[38;5;241;43m.\u001B[39;49m\u001B[43m_engine\u001B[49m\u001B[38;5;241;43m.\u001B[39;49m\u001B[43mget_loc\u001B[49m\u001B[43m(\u001B[49m\u001B[43mcasted_key\u001B[49m\u001B[43m)\u001B[49m\n\u001B[1;32m   3806\u001B[0m \u001B[38;5;28;01mexcept\u001B[39;00m \u001B[38;5;167;01mKeyError\u001B[39;00m \u001B[38;5;28;01mas\u001B[39;00m err:\n",
      "File \u001B[0;32mindex.pyx:167\u001B[0m, in \u001B[0;36mpandas._libs.index.IndexEngine.get_loc\u001B[0;34m()\u001B[0m\n",
      "File \u001B[0;32mindex.pyx:196\u001B[0m, in \u001B[0;36mpandas._libs.index.IndexEngine.get_loc\u001B[0;34m()\u001B[0m\n",
      "File \u001B[0;32mpandas/_libs/hashtable_class_helper.pxi:7081\u001B[0m, in \u001B[0;36mpandas._libs.hashtable.PyObjectHashTable.get_item\u001B[0;34m()\u001B[0m\n",
      "File \u001B[0;32mpandas/_libs/hashtable_class_helper.pxi:7089\u001B[0m, in \u001B[0;36mpandas._libs.hashtable.PyObjectHashTable.get_item\u001B[0;34m()\u001B[0m\n",
      "\u001B[0;31mKeyError\u001B[0m: 'AE'",
      "\nThe above exception was the direct cause of the following exception:\n",
      "\u001B[0;31mKeyError\u001B[0m                                  Traceback (most recent call last)",
      "Cell \u001B[0;32mIn[4], line 18\u001B[0m\n\u001B[1;32m     15\u001B[0m files \u001B[38;5;241m=\u001B[39m [\u001B[38;5;124m'\u001B[39m\u001B[38;5;124mAE\u001B[39m\u001B[38;5;124m'\u001B[39m, \u001B[38;5;124m'\u001B[39m\u001B[38;5;124mC\u001B[39m\u001B[38;5;124m'\u001B[39m, \u001B[38;5;124m'\u001B[39m\u001B[38;5;124mCL\u001B[39m\u001B[38;5;124m'\u001B[39m, \u001B[38;5;124m'\u001B[39m\u001B[38;5;124mD\u001B[39m\u001B[38;5;124m'\u001B[39m, \u001B[38;5;124m'\u001B[39m\u001B[38;5;124mINF\u001B[39m\u001B[38;5;124m'\u001B[39m, \u001B[38;5;124m'\u001B[39m\u001B[38;5;124mL\u001B[39m\u001B[38;5;124m'\u001B[39m, \u001B[38;5;124m'\u001B[39m\u001B[38;5;124mLA\u001B[39m\u001B[38;5;124m'\u001B[39m, \u001B[38;5;124m'\u001B[39m\u001B[38;5;124mNI\u001B[39m\u001B[38;5;124m'\u001B[39m, \u001B[38;5;124m'\u001B[39m\u001B[38;5;124mNII\u001B[39m\u001B[38;5;124m'\u001B[39m, \u001B[38;5;124m'\u001B[39m\u001B[38;5;124mNPL\u001B[39m\u001B[38;5;124m'\u001B[39m, \u001B[38;5;124m'\u001B[39m\u001B[38;5;124mPR\u001B[39m\u001B[38;5;124m'\u001B[39m, \u001B[38;5;124m'\u001B[39m\u001B[38;5;124mTA\u001B[39m\u001B[38;5;124m'\u001B[39m, \u001B[38;5;124m'\u001B[39m\u001B[38;5;124mTE\u001B[39m\u001B[38;5;124m'\u001B[39m, \u001B[38;5;124m'\u001B[39m\u001B[38;5;124mTI\u001B[39m\u001B[38;5;124m'\u001B[39m]\n\u001B[1;32m     16\u001B[0m \u001B[38;5;66;03m# files = ['CDR','INF','PR','LAS','NIA','NIM',\u001B[39;00m\n\u001B[1;32m     17\u001B[0m \u001B[38;5;66;03m#                 'OE','RA','ROA','SCTA','SIZE']\u001B[39;00m\n\u001B[0;32m---> 18\u001B[0m \u001B[43mautocor_info_composed\u001B[49m\u001B[43m(\u001B[49m\u001B[43mdetrended\u001B[49m\u001B[43m,\u001B[49m\u001B[43mfiles\u001B[49m\u001B[43m,\u001B[49m\u001B[43mk\u001B[49m\u001B[43m)\u001B[49m\n",
      "Cell \u001B[0;32mIn[4], line 6\u001B[0m, in \u001B[0;36mautocor_info_composed\u001B[0;34m(detrended, files, k)\u001B[0m\n\u001B[1;32m      4\u001B[0m current \u001B[38;5;241m=\u001B[39m pd\u001B[38;5;241m.\u001B[39mread_csv(\u001B[38;5;28mdir\u001B[39m\u001B[38;5;241m+\u001B[39mfile\u001B[38;5;241m+\u001B[39m\u001B[38;5;124m\"\u001B[39m\u001B[38;5;124m.csv\u001B[39m\u001B[38;5;124m\"\u001B[39m)\n\u001B[1;32m      5\u001B[0m current\u001B[38;5;241m.\u001B[39mdropna(axis \u001B[38;5;241m=\u001B[39m \u001B[38;5;241m0\u001B[39m, how \u001B[38;5;241m=\u001B[39m \u001B[38;5;124m'\u001B[39m\u001B[38;5;124many\u001B[39m\u001B[38;5;124m'\u001B[39m, inplace \u001B[38;5;241m=\u001B[39m \u001B[38;5;28;01mTrue\u001B[39;00m)\n\u001B[0;32m----> 6\u001B[0m \u001B[38;5;28mprint\u001B[39m(\u001B[38;5;124mf\u001B[39m\u001B[38;5;124m\"\u001B[39m\u001B[38;5;124mFor variable \u001B[39m\u001B[38;5;132;01m{\u001B[39;00mfile\u001B[38;5;132;01m}\u001B[39;00m\u001B[38;5;124m  Pearson correlation with lag (\u001B[39m\u001B[38;5;132;01m{\u001B[39;00mk\u001B[38;5;132;01m}\u001B[39;00m\u001B[38;5;124m) is: \u001B[39m\u001B[38;5;132;01m{\u001B[39;00m\u001B[38;5;28mround\u001B[39m(\u001B[43mcurrent\u001B[49m\u001B[43m[\u001B[49m\u001B[43mfile\u001B[49m\u001B[43m]\u001B[49m\u001B[38;5;241m.\u001B[39mautocorr(lag\u001B[38;5;241m=\u001B[39mk),\u001B[38;5;241m3\u001B[39m)\u001B[38;5;132;01m}\u001B[39;00m\u001B[38;5;124m\"\u001B[39m)\n",
      "File \u001B[0;32m~/miniforge3/envs/ENV/lib/python3.12/site-packages/pandas/core/frame.py:4102\u001B[0m, in \u001B[0;36mDataFrame.__getitem__\u001B[0;34m(self, key)\u001B[0m\n\u001B[1;32m   4100\u001B[0m \u001B[38;5;28;01mif\u001B[39;00m \u001B[38;5;28mself\u001B[39m\u001B[38;5;241m.\u001B[39mcolumns\u001B[38;5;241m.\u001B[39mnlevels \u001B[38;5;241m>\u001B[39m \u001B[38;5;241m1\u001B[39m:\n\u001B[1;32m   4101\u001B[0m     \u001B[38;5;28;01mreturn\u001B[39;00m \u001B[38;5;28mself\u001B[39m\u001B[38;5;241m.\u001B[39m_getitem_multilevel(key)\n\u001B[0;32m-> 4102\u001B[0m indexer \u001B[38;5;241m=\u001B[39m \u001B[38;5;28;43mself\u001B[39;49m\u001B[38;5;241;43m.\u001B[39;49m\u001B[43mcolumns\u001B[49m\u001B[38;5;241;43m.\u001B[39;49m\u001B[43mget_loc\u001B[49m\u001B[43m(\u001B[49m\u001B[43mkey\u001B[49m\u001B[43m)\u001B[49m\n\u001B[1;32m   4103\u001B[0m \u001B[38;5;28;01mif\u001B[39;00m is_integer(indexer):\n\u001B[1;32m   4104\u001B[0m     indexer \u001B[38;5;241m=\u001B[39m [indexer]\n",
      "File \u001B[0;32m~/miniforge3/envs/ENV/lib/python3.12/site-packages/pandas/core/indexes/base.py:3812\u001B[0m, in \u001B[0;36mIndex.get_loc\u001B[0;34m(self, key)\u001B[0m\n\u001B[1;32m   3807\u001B[0m     \u001B[38;5;28;01mif\u001B[39;00m \u001B[38;5;28misinstance\u001B[39m(casted_key, \u001B[38;5;28mslice\u001B[39m) \u001B[38;5;129;01mor\u001B[39;00m (\n\u001B[1;32m   3808\u001B[0m         \u001B[38;5;28misinstance\u001B[39m(casted_key, abc\u001B[38;5;241m.\u001B[39mIterable)\n\u001B[1;32m   3809\u001B[0m         \u001B[38;5;129;01mand\u001B[39;00m \u001B[38;5;28many\u001B[39m(\u001B[38;5;28misinstance\u001B[39m(x, \u001B[38;5;28mslice\u001B[39m) \u001B[38;5;28;01mfor\u001B[39;00m x \u001B[38;5;129;01min\u001B[39;00m casted_key)\n\u001B[1;32m   3810\u001B[0m     ):\n\u001B[1;32m   3811\u001B[0m         \u001B[38;5;28;01mraise\u001B[39;00m InvalidIndexError(key)\n\u001B[0;32m-> 3812\u001B[0m     \u001B[38;5;28;01mraise\u001B[39;00m \u001B[38;5;167;01mKeyError\u001B[39;00m(key) \u001B[38;5;28;01mfrom\u001B[39;00m \u001B[38;5;21;01merr\u001B[39;00m\n\u001B[1;32m   3813\u001B[0m \u001B[38;5;28;01mexcept\u001B[39;00m \u001B[38;5;167;01mTypeError\u001B[39;00m:\n\u001B[1;32m   3814\u001B[0m     \u001B[38;5;66;03m# If we have a listlike key, _check_indexing_error will raise\u001B[39;00m\n\u001B[1;32m   3815\u001B[0m     \u001B[38;5;66;03m#  InvalidIndexError. Otherwise we fall through and re-raise\u001B[39;00m\n\u001B[1;32m   3816\u001B[0m     \u001B[38;5;66;03m#  the TypeError.\u001B[39;00m\n\u001B[1;32m   3817\u001B[0m     \u001B[38;5;28mself\u001B[39m\u001B[38;5;241m.\u001B[39m_check_indexing_error(key)\n",
      "\u001B[0;31mKeyError\u001B[0m: 'AE'"
     ]
    }
   ],
   "source": [
    "def autocor_info_composed(detrended,files,k):\n",
    "    for dir in detrended:\n",
    "        for file in files:\n",
    "            current = pd.read_csv(dir+file+\".csv\")\n",
    "            current.dropna(axis = 0, how = 'any', inplace = True)\n",
    "            print(f\"For variable {file}  Pearson correlation with lag ({k}) is: {round(current[file].autocorr(lag=k),3)}\")\n",
    "# detrended = [\"./../data/10_detrend/pct/\",\n",
    "#              \"./../data/10_detrend/decomposition/detrended/\",\n",
    "#              \"./../data/10_detrend/decomposition/deseasoned/\",\n",
    "#              \"./../data/10_detrend/wavelet/\"]\n",
    "# all_banks = ['cb privatbank','credit agricole bank','fuib','kredobank','oschadbank','otp bank','pivdennyi bank','raiffeisen bank','sense bank','ukrsibbank','universal bank']\n",
    "k=12\n",
    "detrended = [\n",
    "             \"./../data/4_shift/\"]\n",
    "files = ['AE', 'C', 'CL', 'D', 'INF', 'L', 'LA', 'NI', 'NII', 'NPL', 'PR', 'TA', 'TE', 'TI']\n",
    "# files = ['CDR','INF','PR','LAS','NIA','NIM',\n",
    "#                 'OE','RA','ROA','SCTA','SIZE']\n",
    "autocor_info_composed(detrended,files,k)"
   ]
  },
  {
   "cell_type": "code",
   "execution_count": 2,
   "outputs": [
    {
     "name": "stdout",
     "output_type": "stream",
     "text": [
      "For variable CR of bank \"pivdennyi bank\":\n",
      "ADF Statistic: -1.8742956058668894\n",
      "p-value: 0.34424818487421793\n",
      "Critical Values:\n",
      "\t1%: -3.568485864\n",
      "\t5%: -2.92135992\n",
      "\t10%: -2.5986616\n",
      "\n",
      "For variable CDR of bank \"pivdennyi bank\":\n",
      "ADF Statistic: -1.0055143319968003\n",
      "p-value: 0.7512477655406172\n",
      "Critical Values:\n",
      "\t1%: -3.568485864\n",
      "\t5%: -2.92135992\n",
      "\t10%: -2.5986616\n",
      "\n",
      "For variable LAS of bank \"pivdennyi bank\":\n",
      "ADF Statistic: -2.446244209102404\n",
      "p-value: 0.12910727596894983\n",
      "Critical Values:\n",
      "\t1%: -3.568485864\n",
      "\t5%: -2.92135992\n",
      "\t10%: -2.5986616\n",
      "\n",
      "For variable NIA of bank \"pivdennyi bank\":\n",
      "ADF Statistic: -3.3101528668458453\n",
      "p-value: 0.014430696105974705\n",
      "Critical Values:\n",
      "\t1%: -3.5714715250448363\n",
      "\t5%: -2.922629480573571\n",
      "\t10%: -2.5993358475635153\n",
      "\n",
      "For variable NIM of bank \"pivdennyi bank\":\n",
      "ADF Statistic: -4.133369473235457\n",
      "p-value: 0.0008525692981090582\n",
      "Critical Values:\n",
      "\t1%: -3.568485864\n",
      "\t5%: -2.92135992\n",
      "\t10%: -2.5986616\n",
      "\n",
      "For variable OE of bank \"pivdennyi bank\":\n",
      "ADF Statistic: -1.2423055547721926\n",
      "p-value: 0.6551374653736607\n",
      "Critical Values:\n",
      "\t1%: -3.5745892596209488\n",
      "\t5%: -2.9239543084490744\n",
      "\t10%: -2.6000391840277777\n",
      "\n",
      "For variable RA of bank \"pivdennyi bank\":\n",
      "ADF Statistic: -3.4247761942186226\n",
      "p-value: 0.010142697926408768\n",
      "Critical Values:\n",
      "\t1%: -3.568485864\n",
      "\t5%: -2.92135992\n",
      "\t10%: -2.5986616\n",
      "\n",
      "For variable ROA of bank \"pivdennyi bank\":\n",
      "ADF Statistic: -5.081206517589707\n",
      "p-value: 1.5291545143536744e-05\n",
      "Critical Values:\n",
      "\t1%: -3.568485864\n",
      "\t5%: -2.92135992\n",
      "\t10%: -2.5986616\n",
      "\n",
      "For variable SCTA of bank \"pivdennyi bank\":\n",
      "ADF Statistic: -2.1696645844748605\n",
      "p-value: 0.21743906468914376\n",
      "Critical Values:\n",
      "\t1%: -3.568485864\n",
      "\t5%: -2.92135992\n",
      "\t10%: -2.5986616\n",
      "\n",
      "For variable SIZE of bank \"pivdennyi bank\":\n",
      "ADF Statistic: -0.23957443578767176\n",
      "p-value: 0.93363709960514\n",
      "Critical Values:\n",
      "\t1%: -3.5745892596209488\n",
      "\t5%: -2.9239543084490744\n",
      "\t10%: -2.6000391840277777\n"
     ]
    }
   ],
   "source": [
    "import pandas as pd\n",
    "from statsmodels.tsa.stattools import adfuller\n",
    "\n",
    "def adf_test_not_composed(detrended, all_banks, files, k):\n",
    "    for dir in detrended:\n",
    "        for file in files:\n",
    "            current = pd.read_csv(dir + file + \".csv\")\n",
    "            to_del = [col for col in current.columns if col not in all_banks]\n",
    "            current.drop(columns=to_del, inplace=True)\n",
    "            current.dropna(axis=0, how='any', inplace=True)\n",
    "            for bank in all_banks:\n",
    "                result = adfuller(current[bank], maxlag=k)\n",
    "                print(f\"For variable {file} of bank \\\"{bank}\\\":\")\n",
    "                print(\"ADF Statistic:\", result[0])\n",
    "                print(\"p-value:\", result[1])\n",
    "                print(\"Critical Values:\")\n",
    "                for key, value in result[4].items():\n",
    "                    print(f\"\\t{key}: {value}\")\n",
    "                print()\n",
    "                \n",
    "k = 12\n",
    "detrended = [\"./../data/8_variables/\"]\n",
    "all_banks = ['pivdennyi bank']\n",
    "files = ['CR', 'CDR', 'LAS', 'NIA', 'NIM', 'OE', 'RA', 'ROA', 'SCTA', 'SIZE']\n",
    "\n",
    "adf_test_not_composed(detrended, all_banks, files, k)\n"
   ],
   "metadata": {
    "collapsed": false,
    "ExecuteTime": {
     "end_time": "2024-05-01T14:54:46.987233Z",
     "start_time": "2024-05-01T14:54:46.939635Z"
    }
   }
  },
  {
   "cell_type": "code",
   "execution_count": null,
   "outputs": [],
   "source": [],
   "metadata": {
    "collapsed": false
   }
  }
 ],
 "metadata": {
  "kernelspec": {
   "display_name": "Python 3",
   "language": "python",
   "name": "python3"
  },
  "language_info": {
   "codemirror_mode": {
    "name": "ipython",
    "version": 3
   },
   "file_extension": ".py",
   "mimetype": "text/x-python",
   "name": "python",
   "nbconvert_exporter": "python",
   "pygments_lexer": "ipython3",
   "version": "3.10.5"
  }
 },
 "nbformat": 4,
 "nbformat_minor": 2
}
