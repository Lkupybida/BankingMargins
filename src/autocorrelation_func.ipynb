{
 "cells": [
  {
   "cell_type": "code",
   "execution_count": 1,
   "metadata": {},
   "outputs": [],
   "source": [
    "import pandas as pd\n",
    "import matplotlib.pyplot as plt\n",
    "from statsmodels.tsa.stattools import adfuller"
   ]
  },
  {
   "cell_type": "code",
   "execution_count": 20,
   "metadata": {},
   "outputs": [
    {
     "name": "stdout",
     "output_type": "stream",
     "text": [
      "For variable CR of bank \"pivdennyi bank\" Pearson correlation with lag (12) is: -0.368\n",
      "For variable CDR of bank \"pivdennyi bank\" Pearson correlation with lag (12) is: -0.234\n",
      "For variable LAS of bank \"pivdennyi bank\" Pearson correlation with lag (12) is: -0.161\n",
      "For variable NIA of bank \"pivdennyi bank\" Pearson correlation with lag (12) is: -0.099\n",
      "For variable NIM of bank \"pivdennyi bank\" Pearson correlation with lag (12) is: -0.257\n",
      "For variable OE of bank \"pivdennyi bank\" Pearson correlation with lag (12) is: -0.0\n",
      "For variable RA of bank \"pivdennyi bank\" Pearson correlation with lag (12) is: -0.321\n",
      "For variable ROA of bank \"pivdennyi bank\" Pearson correlation with lag (12) is: -0.258\n",
      "For variable SCTA of bank \"pivdennyi bank\" Pearson correlation with lag (12) is: -0.028\n",
      "For variable SIZE of bank \"pivdennyi bank\" Pearson correlation with lag (12) is: -0.389\n"
     ]
    }
   ],
   "source": [
    "def autocor_info_not_composed(detrended,all_banks, files,k):\n",
    "    for dir in detrended:\n",
    "        for file in files:\n",
    "            current = pd.read_csv(dir+file+\".csv\")\n",
    "            to_del = []\n",
    "            for i in range(1,len(current.columns)):\n",
    "                if current.columns[i] not in all_banks:\n",
    "                    to_del.append(current.columns[i])    \n",
    "            current.drop(columns=to_del, inplace=True)\n",
    "            current.dropna(axis = 0, how = 'any', inplace = True)\n",
    "            for bank in all_banks:\n",
    "                print(f\"For variable {file} of bank \\\"{bank}\\\" Pearson correlation with lag ({k}) is: {round(current[bank].autocorr(lag=k),3)}\")\n",
    "# detrended = [\"./../data/10_detrend/pct/\",\n",
    "#              \"./../data/10_detrend/decomposition/detrended/\",\n",
    "#              \"./../data/10_detrend/decomposition/deseasoned/\",\n",
    "#              \"./../data/10_detrend/wavelet/\"]\n",
    "# all_banks = ['cb privatbank','credit agricole bank','fuib','kredobank','oschadbank','otp bank','pivdennyi bank','raiffeisen bank','sense bank','ukrsibbank','universal bank']\n",
    "k=12\n",
    "detrended = [\n",
    "             \"./../data/10_detrend/wavelet/\"]\n",
    "all_banks = ['pivdennyi bank']\n",
    "files = ['CR','CDR','LAS','NIA','NIM',\n",
    "                'OE','RA','ROA','SCTA','SIZE']\n",
    "autocor_info_not_composed(detrended,all_banks,files,k)"
   ]
  },
  {
   "cell_type": "code",
   "execution_count": 27,
   "metadata": {},
   "outputs": [
    {
     "name": "stdout",
     "output_type": "stream",
     "text": [
      "For variable CDR  Pearson correlation with lag (12) is: 0.064\n",
      "For variable INF  Pearson correlation with lag (12) is: 0.261\n",
      "For variable PR  Pearson correlation with lag (12) is: -0.091\n",
      "For variable LAS  Pearson correlation with lag (12) is: -0.052\n",
      "For variable NIA  Pearson correlation with lag (12) is: -0.239\n",
      "For variable NIM  Pearson correlation with lag (12) is: 0.055\n",
      "For variable OE  Pearson correlation with lag (12) is: -0.032\n",
      "For variable RA  Pearson correlation with lag (12) is: -0.012\n",
      "For variable ROA  Pearson correlation with lag (12) is: 0.202\n",
      "For variable SCTA  Pearson correlation with lag (12) is: -0.271\n",
      "For variable SIZE  Pearson correlation with lag (12) is: -0.106\n"
     ]
    }
   ],
   "source": [
    "def autocor_info_composed(detrended,files,k):\n",
    "    for dir in detrended:\n",
    "        for file in files:\n",
    "            current = pd.read_csv(dir+file+\".csv\")\n",
    "            current.dropna(axis = 0, how = 'any', inplace = True)\n",
    "            print(f\"For variable {file}  Pearson correlation with lag ({k}) is: {round(current[file].autocorr(lag=k),3)}\")\n",
    "# detrended = [\"./../data/10_detrend/pct/\",\n",
    "#              \"./../data/10_detrend/decomposition/detrended/\",\n",
    "#              \"./../data/10_detrend/decomposition/deseasoned/\",\n",
    "#              \"./../data/10_detrend/wavelet/\"]\n",
    "# all_banks = ['cb privatbank','credit agricole bank','fuib','kredobank','oschadbank','otp bank','pivdennyi bank','raiffeisen bank','sense bank','ukrsibbank','universal bank']\n",
    "k=12\n",
    "detrended = [\n",
    "             \"./../data/9_c_detrend/wavelet/\"]\n",
    "files = ['CDR','INF','PR','LAS','NIA','NIM',\n",
    "                'OE','RA','ROA','SCTA','SIZE']\n",
    "autocor_info_composed(detrended,files,k)"
   ]
  }
 ],
 "metadata": {
  "kernelspec": {
   "display_name": "Python 3",
   "language": "python",
   "name": "python3"
  },
  "language_info": {
   "codemirror_mode": {
    "name": "ipython",
    "version": 3
   },
   "file_extension": ".py",
   "mimetype": "text/x-python",
   "name": "python",
   "nbconvert_exporter": "python",
   "pygments_lexer": "ipython3",
   "version": "3.10.5"
  }
 },
 "nbformat": 4,
 "nbformat_minor": 2
}
