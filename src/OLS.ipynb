{
 "cells": [
  {
   "cell_type": "code",
   "execution_count": 1,
   "metadata": {},
   "outputs": [],
   "source": [
    "import matplotlib.pyplot as plt\n",
    "import pandas as pd\n",
    "import os\n",
    "import statsmodels.api as sm\n",
    "import warnings"
   ]
  },
  {
   "cell_type": "code",
   "execution_count": 14,
   "metadata": {},
   "outputs": [
    {
     "name": "stdout",
     "output_type": "stream",
     "text": [
      "                                 OLS Regression Results                                \n",
      "=======================================================================================\n",
      "Dep. Variable:                    NIM   R-squared (uncentered):                   0.997\n",
      "Model:                            OLS   Adj. R-squared (uncentered):              0.997\n",
      "Method:                 Least Squares   F-statistic:                              3415.\n",
      "Date:                Sun, 28 Apr 2024   Prob (F-statistic):                    7.65e-69\n",
      "Time:                        20:59:06   Log-Likelihood:                          415.10\n",
      "No. Observations:                  61   AIC:                                     -818.2\n",
      "Df Residuals:                      55   BIC:                                     -805.5\n",
      "Df Model:                           6                                                  \n",
      "Covariance Type:            nonrobust                                                  \n",
      "==============================================================================\n",
      "                 coef    std err          t      P>|t|      [0.025      0.975]\n",
      "------------------------------------------------------------------------------\n",
      "LAS            0.0103      0.002      6.103      0.000       0.007       0.014\n",
      "NIA            0.0045      0.001      7.644      0.000       0.003       0.006\n",
      "OE             0.2086      0.052      4.007      0.000       0.104       0.313\n",
      "PR          3.202e-05   6.96e-06      4.603      0.000    1.81e-05     4.6e-05\n",
      "ROA            0.3221      0.037      8.654      0.000       0.247       0.397\n",
      "SIZE          -0.0002    1.8e-05    -12.971      0.000      -0.000      -0.000\n",
      "==============================================================================\n",
      "Omnibus:                       18.133   Durbin-Watson:                   1.323\n",
      "Prob(Omnibus):                  0.000   Jarque-Bera (JB):               22.619\n",
      "Skew:                          -1.233   Prob(JB):                     1.23e-05\n",
      "Kurtosis:                       4.678   Cond. No.                     4.00e+04\n",
      "==============================================================================\n",
      "\n",
      "Notes:\n",
      "[1] R² is computed without centering (uncentered) since the model does not contain a constant.\n",
      "[2] Standard Errors assume that the covariance matrix of the errors is correctly specified.\n",
      "[3] The condition number is large,  4e+04. This might indicate that there are\n",
      "strong multicollinearity or other numerical problems.\n"
     ]
    }
   ],
   "source": [
    "# def plot(file):\n",
    "#     df=pd.read_csv('./../data/composite_vars/' + file)\n",
    "#     df['date'] = pd.to_datetime(df['date'])\n",
    "#     df.set_index('date', inplace=True)\n",
    "#     plt.figure(figsize=(14, 7))\n",
    "#     plt.style.use('dark_background')\n",
    "#     plt.title(file)\n",
    "#     plt.plot(df.index, df[df.columns[0]])\n",
    "#     plt.show()\n",
    "\n",
    "df=pd.read_csv('./../data/composite_vars/NIM.csv')\n",
    "arr = ['LAS','NIA','OE','PR','ROA','SIZE']\n",
    "for name in arr:\n",
    "    gotten=pd.read_csv('./../data/composite_vars/'+name+\".csv\")\n",
    "    df[gotten.columns[1]]=gotten[gotten.columns[1]]\n",
    "# print(df)\n",
    "Y=df['NIM']\n",
    "X=df[arr]\n",
    "model = sm.OLS(Y, X).fit()\n",
    "\n",
    "print(model.summary())"
   ]
  }
 ],
 "metadata": {
  "kernelspec": {
   "display_name": "Python 3",
   "language": "python",
   "name": "python3"
  },
  "language_info": {
   "codemirror_mode": {
    "name": "ipython",
    "version": 3
   },
   "file_extension": ".py",
   "mimetype": "text/x-python",
   "name": "python",
   "nbconvert_exporter": "python",
   "pygments_lexer": "ipython3",
   "version": "3.10.5"
  }
 },
 "nbformat": 4,
 "nbformat_minor": 2
}
