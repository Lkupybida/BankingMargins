{
 "cells": [
  {
   "cell_type": "code",
   "execution_count": 61,
   "metadata": {
    "ExecuteTime": {
     "end_time": "2024-04-29T13:14:48.049348Z",
     "start_time": "2024-04-29T13:14:48.033377Z"
    }
   },
   "outputs": [],
   "source": [
    "import matplotlib.pyplot as plt\n",
    "import pandas as pd\n",
    "import os\n",
    "import statsmodels.api as sm\n",
    "import warnings"
   ]
  },
  {
   "cell_type": "code",
   "execution_count": 64,
   "metadata": {
    "ExecuteTime": {
     "end_time": "2024-04-29T13:16:49.847649Z",
     "start_time": "2024-04-29T13:16:49.825139Z"
    }
   },
   "outputs": [
    {
     "name": "stdout",
     "output_type": "stream",
     "text": [
      "                                 OLS Regression Results                                \n",
      "=======================================================================================\n",
      "Dep. Variable:                    NIM   R-squared (uncentered):                   0.998\n",
      "Model:                            OLS   Adj. R-squared (uncentered):              0.998\n",
      "Method:                 Least Squares   F-statistic:                              5253.\n",
      "Date:                Mon, 29 Apr 2024   Prob (F-statistic):                    1.21e-61\n",
      "Time:                        16:16:49   Log-Likelihood:                          352.03\n",
      "No. Observations:                  51   AIC:                                     -696.1\n",
      "Df Residuals:                      47   BIC:                                     -688.3\n",
      "Df Model:                           4                                                  \n",
      "Covariance Type:            nonrobust                                                  \n",
      "==============================================================================\n",
      "                 coef    std err          t      P>|t|      [0.025      0.975]\n",
      "------------------------------------------------------------------------------\n",
      "CR            -0.0059      0.001     -9.506      0.000      -0.007      -0.005\n",
      "LAS            0.0115      0.001      8.721      0.000       0.009       0.014\n",
      "PR          7.232e-05   5.28e-06     13.697      0.000    6.17e-05    8.29e-05\n",
      "SIZE           0.0002   3.07e-05      4.931      0.000    8.97e-05       0.000\n",
      "==============================================================================\n",
      "Omnibus:                        7.901   Durbin-Watson:                   1.461\n",
      "Prob(Omnibus):                  0.019   Jarque-Bera (JB):                7.220\n",
      "Skew:                          -0.719   Prob(JB):                       0.0270\n",
      "Kurtosis:                       4.153   Cond. No.                     1.03e+03\n",
      "==============================================================================\n",
      "\n",
      "Notes:\n",
      "[1] R² is computed without centering (uncentered) since the model does not contain a constant.\n",
      "[2] Standard Errors assume that the covariance matrix of the errors is correctly specified.\n",
      "[3] The condition number is large, 1.03e+03. This might indicate that there are\n",
      "strong multicollinearity or other numerical problems.\n"
     ]
    }
   ],
   "source": [
    "# def plot(file):\n",
    "#     df=pd.read_csv('./../data/composite_vars/' + file)\n",
    "#     df['date'] = pd.to_datetime(df['date'])\n",
    "#     df.set_index('date', inplace=True)\n",
    "#     plt.figure(figsize=(14, 7))\n",
    "#     plt.style.use('dark_background')\n",
    "#     plt.title(file)\n",
    "#     plt.plot(df.index, df[df.columns[0]])\n",
    "#     plt.show()\n",
    "\n",
    "df=pd.read_csv('./../data/positive_composite/NIM.csv')\n",
    "#arr = ['LAS','NIA','OE','PR','ROA','SIZE']\n",
    "arr = ['CR', 'LAS', 'PR', 'SIZE']\n",
    "# arr = ['CDR', 'CR','INF','LAS',\n",
    "#        'NIA','OE','PR', 'RA',\n",
    "#        'ROA','SCTA','SIZE']\n",
    "for name in arr:\n",
    "    gotten=pd.read_csv('./../data/positive_composite/'+name+\".csv\")\n",
    "    df[gotten.columns[1]]=gotten[gotten.columns[1]]\n",
    "# print(df)\n",
    "Y=df['NIM']\n",
    "X=df[arr]\n",
    "model = sm.OLS(Y, X).fit()\n",
    "\n",
    "print(model.summary())"
   ]
  }
 ],
 "metadata": {
  "kernelspec": {
   "display_name": "Python 3",
   "language": "python",
   "name": "python3"
  },
  "language_info": {
   "codemirror_mode": {
    "name": "ipython",
    "version": 3
   },
   "file_extension": ".py",
   "mimetype": "text/x-python",
   "name": "python",
   "nbconvert_exporter": "python",
   "pygments_lexer": "ipython3",
   "version": "3.10.5"
  }
 },
 "nbformat": 4,
 "nbformat_minor": 2
}
