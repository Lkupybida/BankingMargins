{
 "cells": [
  {
   "cell_type": "code",
   "execution_count": 73,
   "metadata": {
    "ExecuteTime": {
     "end_time": "2024-04-29T18:57:29.482925Z",
     "start_time": "2024-04-29T18:57:29.462778Z"
    }
   },
   "outputs": [],
   "source": [
    "import matplotlib.pyplot as plt\n",
    "import pandas as pd\n",
    "import os\n",
    "import statsmodels.api as sm\n",
    "import warnings"
   ]
  },
  {
   "cell_type": "code",
   "execution_count": 74,
   "metadata": {
    "ExecuteTime": {
     "end_time": "2024-04-29T18:57:29.493233Z",
     "start_time": "2024-04-29T18:57:29.467973Z"
    }
   },
   "outputs": [
    {
     "name": "stdout",
     "output_type": "stream",
     "text": [
      "                                 OLS Regression Results                                \n",
      "=======================================================================================\n",
      "Dep. Variable:                    NIM   R-squared (uncentered):                   0.998\n",
      "Model:                            OLS   Adj. R-squared (uncentered):              0.997\n",
      "Method:                 Least Squares   F-statistic:                              1671.\n",
      "Date:                Mon, 29 Apr 2024   Prob (F-statistic):                    3.40e-50\n",
      "Time:                        21:57:29   Log-Likelihood:                          349.67\n",
      "No. Observations:                  51   AIC:                                     -679.3\n",
      "Df Residuals:                      41   BIC:                                     -660.0\n",
      "Df Model:                          10                                                  \n",
      "Covariance Type:            nonrobust                                                  \n",
      "==============================================================================\n",
      "                 coef    std err          t      P>|t|      [0.025      0.975]\n",
      "------------------------------------------------------------------------------\n",
      "CDR           -0.0040      0.001     -5.283      0.000      -0.006      -0.002\n",
      "CR            -0.0083      0.001     -6.272      0.000      -0.011      -0.006\n",
      "INF        -1.443e-06   1.43e-05     -0.101      0.920   -3.03e-05    2.75e-05\n",
      "NIA            0.0005      0.000      1.129      0.265      -0.000       0.001\n",
      "OE             0.0368      0.071      0.516      0.609      -0.107       0.181\n",
      "PR          5.968e-05   1.36e-05      4.382      0.000    3.22e-05    8.72e-05\n",
      "RA            -0.0099      0.008     -1.270      0.211      -0.026       0.006\n",
      "ROA            0.0240      0.025      0.955      0.345      -0.027       0.075\n",
      "SCTA          -0.0040      0.016     -0.254      0.801      -0.035       0.028\n",
      "SIZE           0.0005   7.24e-05      6.752      0.000       0.000       0.001\n",
      "==============================================================================\n",
      "Omnibus:                        0.360   Durbin-Watson:                   1.324\n",
      "Prob(Omnibus):                  0.835   Jarque-Bera (JB):                0.126\n",
      "Skew:                           0.121   Prob(JB):                        0.939\n",
      "Kurtosis:                       3.021   Cond. No.                     5.17e+04\n",
      "==============================================================================\n",
      "\n",
      "Notes:\n",
      "[1] R² is computed without centering (uncentered) since the model does not contain a constant.\n",
      "[2] Standard Errors assume that the covariance matrix of the errors is correctly specified.\n",
      "[3] The condition number is large, 5.17e+04. This might indicate that there are\n",
      "strong multicollinearity or other numerical problems.\n"
     ]
    }
   ],
   "source": [
    "# def plot(file):\n",
    "#     df=pd.read_csv('./../data/composite_vars/' + file)\n",
    "#     df['date'] = pd.to_datetime(df['date'])\n",
    "#     df.set_index('date', inplace=True)\n",
    "#     plt.figure(figsize=(14, 7))\n",
    "#     plt.style.use('dark_background')\n",
    "#     plt.title(file)\n",
    "#     plt.plot(df.index, df[df.columns[0]])\n",
    "#     plt.show()\n",
    "\n",
    "df=pd.read_csv('./../data/positive_composite/NIM.csv')\n",
    "#arr = ['LAS','NIA','OE','PR','ROA','SIZE']\n",
    "# arr = ['LAS']\n",
    "arr = ['CDR', 'CR','INF',\n",
    "       'NIA','OE','PR', 'RA',\n",
    "       'ROA','SCTA','SIZE']\n",
    "for name in arr:\n",
    "    gotten=pd.read_csv('./../data/positive_composite/'+name+\".csv\")\n",
    "    df[gotten.columns[1]]=gotten[gotten.columns[1]]\n",
    "# print(df)\n",
    "Y=df['NIM']\n",
    "X=df[arr]\n",
    "model = sm.OLS(Y, X).fit()\n",
    "\n",
    "print(model.summary())"
   ]
  }
 ],
 "metadata": {
  "kernelspec": {
   "display_name": "Python 3",
   "language": "python",
   "name": "python3"
  },
  "language_info": {
   "codemirror_mode": {
    "name": "ipython",
    "version": 3
   },
   "file_extension": ".py",
   "mimetype": "text/x-python",
   "name": "python",
   "nbconvert_exporter": "python",
   "pygments_lexer": "ipython3",
   "version": "3.10.5"
  }
 },
 "nbformat": 4,
 "nbformat_minor": 2
}
