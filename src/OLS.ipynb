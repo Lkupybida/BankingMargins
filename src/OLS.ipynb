{
 "cells": [
  {
   "cell_type": "code",
   "execution_count": 5,
   "metadata": {
    "ExecuteTime": {
     "end_time": "2024-05-01T13:54:09.327861Z",
     "start_time": "2024-05-01T13:54:09.324532Z"
    }
   },
   "outputs": [],
   "source": [
    "import matplotlib.pyplot as plt\n",
    "import pandas as pd\n",
    "import os\n",
    "import statsmodels.api as sm\n",
    "import warnings"
   ]
  },
  {
   "cell_type": "code",
   "execution_count": 6,
   "metadata": {
    "ExecuteTime": {
     "end_time": "2024-05-01T13:54:09.357069Z",
     "start_time": "2024-05-01T13:54:09.330197Z"
    }
   },
   "outputs": [
    {
     "name": "stdout",
     "output_type": "stream",
     "text": [
      "                                 OLS Regression Results                                \n",
      "=======================================================================================\n",
      "Dep. Variable:                    NIM   R-squared (uncentered):                   0.337\n",
      "Model:                            OLS   Adj. R-squared (uncentered):              0.172\n",
      "Method:                 Least Squares   F-statistic:                              2.035\n",
      "Date:                Wed, 01 May 2024   Prob (F-statistic):                      0.0549\n",
      "Time:                        16:54:09   Log-Likelihood:                          75.567\n",
      "No. Observations:                  50   AIC:                                     -131.1\n",
      "Df Residuals:                      40   BIC:                                     -112.0\n",
      "Df Model:                          10                                                  \n",
      "Covariance Type:            nonrobust                                                  \n",
      "==============================================================================\n",
      "                 coef    std err          t      P>|t|      [0.025      0.975]\n",
      "------------------------------------------------------------------------------\n",
      "CDR           -0.1252      0.399     -0.313      0.756      -0.932       0.682\n",
      "CR            -0.0225      0.611     -0.037      0.971      -1.258       1.213\n",
      "INF            0.0719      0.084      0.852      0.400      -0.099       0.243\n",
      "NIA            0.0166      0.005      3.356      0.002       0.007       0.027\n",
      "OE            -0.0237      0.051     -0.464      0.645      -0.127       0.080\n",
      "PR            -0.0199      0.057     -0.348      0.730      -0.135       0.095\n",
      "RA             0.1477      0.190      0.775      0.443      -0.237       0.532\n",
      "ROA            0.0653      0.040      1.642      0.108      -0.015       0.146\n",
      "SCTA          -0.1429      0.087     -1.651      0.107      -0.318       0.032\n",
      "SIZE           1.9868     10.789      0.184      0.855     -19.818      23.792\n",
      "==============================================================================\n",
      "Omnibus:                        1.034   Durbin-Watson:                   2.755\n",
      "Prob(Omnibus):                  0.596   Jarque-Bera (JB):                0.753\n",
      "Skew:                          -0.300   Prob(JB):                        0.686\n",
      "Kurtosis:                       2.963   Cond. No.                     2.62e+03\n",
      "==============================================================================\n",
      "\n",
      "Notes:\n",
      "[1] R² is computed without centering (uncentered) since the model does not contain a constant.\n",
      "[2] Standard Errors assume that the covariance matrix of the errors is correctly specified.\n",
      "[3] The condition number is large, 2.62e+03. This might indicate that there are\n",
      "strong multicollinearity or other numerical problems.\n"
     ]
    }
   ],
   "source": [
    "def plot_graphs(path):\n",
    "    df=pd.read_csv(path+\"NIM.csv\")\n",
    "    df.dropna(axis = 0, how = 'any', inplace=True)\n",
    "    arr = ['CDR', 'CR','INF','NIA','OE','PR', 'RA', 'ROA','SCTA','SIZE']\n",
    "    # ['CDR', 'CR','INF','NIA','OE','PR', 'RA', 'ROA','SCTA','SIZE']\n",
    "    for name in arr:\n",
    "        gotten=pd.read_csv(path+name+\".csv\")\n",
    "        gotten.dropna(axis = 0, how = 'any', inplace = True)\n",
    "        df[gotten.columns[1]]=gotten[gotten.columns[1]]\n",
    "    Y=df['NIM']\n",
    "    X=df[arr]\n",
    "    model = sm.OLS(Y, X).fit()\n",
    "\n",
    "    print(model.summary())\n",
    "plot_graphs(\"./../data/9_c_detrend/pct/\")"
   ]
  },
  {
   "cell_type": "code",
   "execution_count": 7,
   "outputs": [
    {
     "name": "stdout",
     "output_type": "stream",
     "text": [
      "                                 OLS Regression Results                                \n",
      "=======================================================================================\n",
      "Dep. Variable:                    NIM   R-squared (uncentered):                   0.249\n",
      "Model:                            OLS   Adj. R-squared (uncentered):              0.066\n",
      "Method:                 Least Squares   F-statistic:                              1.358\n",
      "Date:                Wed, 01 May 2024   Prob (F-statistic):                       0.234\n",
      "Time:                        16:54:09   Log-Likelihood:                          372.72\n",
      "No. Observations:                  51   AIC:                                     -725.4\n",
      "Df Residuals:                      41   BIC:                                     -706.1\n",
      "Df Model:                          10                                                  \n",
      "Covariance Type:            nonrobust                                                  \n",
      "==============================================================================\n",
      "                 coef    std err          t      P>|t|      [0.025      0.975]\n",
      "------------------------------------------------------------------------------\n",
      "CDR           -0.0088      0.004     -1.976      0.055      -0.018       0.000\n",
      "CR             0.0012      0.006      0.218      0.828      -0.010       0.012\n",
      "INF        -5.201e-05   5.92e-05     -0.878      0.385      -0.000    6.76e-05\n",
      "NIA            0.0061      0.003      1.801      0.079      -0.001       0.013\n",
      "OE            -0.0393      0.067     -0.590      0.558      -0.174       0.095\n",
      "PR          3.663e-06   3.18e-05      0.115      0.909   -6.05e-05    6.78e-05\n",
      "RA             0.0145      0.009      1.689      0.099      -0.003       0.032\n",
      "ROA            0.0212      0.024      0.879      0.384      -0.027       0.070\n",
      "SCTA           0.0019      0.013      0.147      0.884      -0.025       0.029\n",
      "SIZE          -0.0012      0.003     -0.403      0.689      -0.007       0.005\n",
      "==============================================================================\n",
      "Omnibus:                        0.006   Durbin-Watson:                   2.796\n",
      "Prob(Omnibus):                  0.997   Jarque-Bera (JB):                0.151\n",
      "Skew:                          -0.008   Prob(JB):                        0.927\n",
      "Kurtosis:                       2.734   Cond. No.                     2.62e+03\n",
      "==============================================================================\n",
      "\n",
      "Notes:\n",
      "[1] R² is computed without centering (uncentered) since the model does not contain a constant.\n",
      "[2] Standard Errors assume that the covariance matrix of the errors is correctly specified.\n",
      "[3] The condition number is large, 2.62e+03. This might indicate that there are\n",
      "strong multicollinearity or other numerical problems.\n"
     ]
    }
   ],
   "source": [
    "plot_graphs(\"./../data/9_c_detrend/wavelet/\")"
   ],
   "metadata": {
    "collapsed": false,
    "ExecuteTime": {
     "end_time": "2024-05-01T13:54:09.374688Z",
     "start_time": "2024-05-01T13:54:09.355560Z"
    }
   }
  },
  {
   "cell_type": "code",
   "execution_count": 8,
   "outputs": [
    {
     "name": "stdout",
     "output_type": "stream",
     "text": [
      "                                 OLS Regression Results                                \n",
      "=======================================================================================\n",
      "Dep. Variable:                    NIM   R-squared (uncentered):                   0.191\n",
      "Model:                            OLS   Adj. R-squared (uncentered):             -0.088\n",
      "Method:                 Least Squares   F-statistic:                             0.6861\n",
      "Date:                Wed, 01 May 2024   Prob (F-statistic):                       0.729\n",
      "Time:                        16:54:09   Log-Likelihood:                          272.15\n",
      "No. Observations:                  39   AIC:                                     -524.3\n",
      "Df Residuals:                      29   BIC:                                     -507.7\n",
      "Df Model:                          10                                                  \n",
      "Covariance Type:            nonrobust                                                  \n",
      "==============================================================================\n",
      "                 coef    std err          t      P>|t|      [0.025      0.975]\n",
      "------------------------------------------------------------------------------\n",
      "CDR            0.0007      0.004      0.187      0.853      -0.007       0.009\n",
      "CR             0.0016      0.004      0.371      0.713      -0.007       0.010\n",
      "INF         3.352e-05   4.23e-05      0.793      0.434    -5.3e-05       0.000\n",
      "NIA            0.0022      0.004      0.540      0.593      -0.006       0.011\n",
      "OE             0.0437      0.094      0.464      0.646      -0.149       0.236\n",
      "PR         -4.601e-06   2.69e-05     -0.171      0.866   -5.97e-05    5.05e-05\n",
      "RA             0.0051      0.011      0.475      0.638      -0.017       0.027\n",
      "ROA            0.0252      0.033      0.771      0.447      -0.042       0.092\n",
      "SCTA           0.0352      0.020      1.723      0.095      -0.007       0.077\n",
      "SIZE           0.0001      0.003      0.044      0.965      -0.006       0.007\n",
      "==============================================================================\n",
      "Omnibus:                        0.699   Durbin-Watson:                   1.863\n",
      "Prob(Omnibus):                  0.705   Jarque-Bera (JB):                0.240\n",
      "Skew:                          -0.181   Prob(JB):                        0.887\n",
      "Kurtosis:                       3.132   Cond. No.                     6.57e+03\n",
      "==============================================================================\n",
      "\n",
      "Notes:\n",
      "[1] R² is computed without centering (uncentered) since the model does not contain a constant.\n",
      "[2] Standard Errors assume that the covariance matrix of the errors is correctly specified.\n",
      "[3] The condition number is large, 6.57e+03. This might indicate that there are\n",
      "strong multicollinearity or other numerical problems.\n"
     ]
    }
   ],
   "source": [
    "plot_graphs(\"./../data/9_c_detrend/decomposition/detrended/\")"
   ],
   "metadata": {
    "collapsed": false,
    "ExecuteTime": {
     "end_time": "2024-05-01T13:54:09.391736Z",
     "start_time": "2024-05-01T13:54:09.373689Z"
    }
   }
  },
  {
   "cell_type": "code",
   "execution_count": 9,
   "outputs": [
    {
     "name": "stdout",
     "output_type": "stream",
     "text": [
      "                                 OLS Regression Results                                \n",
      "=======================================================================================\n",
      "Dep. Variable:                    NIM   R-squared (uncentered):                   0.331\n",
      "Model:                            OLS   Adj. R-squared (uncentered):              0.101\n",
      "Method:                 Least Squares   F-statistic:                              1.438\n",
      "Date:                Wed, 01 May 2024   Prob (F-statistic):                       0.214\n",
      "Time:                        16:54:09   Log-Likelihood:                          286.44\n",
      "No. Observations:                  39   AIC:                                     -552.9\n",
      "Df Residuals:                      29   BIC:                                     -536.2\n",
      "Df Model:                          10                                                  \n",
      "Covariance Type:            nonrobust                                                  \n",
      "==============================================================================\n",
      "                 coef    std err          t      P>|t|      [0.025      0.975]\n",
      "------------------------------------------------------------------------------\n",
      "CDR           -0.0028      0.003     -0.817      0.421      -0.010       0.004\n",
      "CR            -0.0065      0.004     -1.505      0.143      -0.015       0.002\n",
      "INF         5.147e-06   3.21e-05      0.161      0.874   -6.04e-05    7.07e-05\n",
      "NIA            0.0027      0.004      0.661      0.514      -0.006       0.011\n",
      "OE             0.1187      0.088      1.344      0.189      -0.062       0.299\n",
      "PR          3.043e-05   2.28e-05      1.334      0.193   -1.62e-05    7.71e-05\n",
      "RA             0.0038      0.009      0.411      0.684      -0.015       0.023\n",
      "ROA           -0.0224      0.030     -0.754      0.457      -0.083       0.038\n",
      "SCTA           0.0160      0.020      0.789      0.437      -0.025       0.057\n",
      "SIZE           0.0012      0.003      0.422      0.676      -0.005       0.007\n",
      "==============================================================================\n",
      "Omnibus:                        0.923   Durbin-Watson:                   1.839\n",
      "Prob(Omnibus):                  0.630   Jarque-Bera (JB):                0.904\n",
      "Skew:                           0.187   Prob(JB):                        0.636\n",
      "Kurtosis:                       2.355   Cond. No.                     8.04e+03\n",
      "==============================================================================\n",
      "\n",
      "Notes:\n",
      "[1] R² is computed without centering (uncentered) since the model does not contain a constant.\n",
      "[2] Standard Errors assume that the covariance matrix of the errors is correctly specified.\n",
      "[3] The condition number is large, 8.04e+03. This might indicate that there are\n",
      "strong multicollinearity or other numerical problems.\n"
     ]
    }
   ],
   "source": [
    "plot_graphs(\"./../data/9_c_detrend/decomposition/deseasoned/\")"
   ],
   "metadata": {
    "collapsed": false,
    "ExecuteTime": {
     "end_time": "2024-05-01T13:54:09.407143Z",
     "start_time": "2024-05-01T13:54:09.391380Z"
    }
   }
  }
 ],
 "metadata": {
  "kernelspec": {
   "display_name": "Python 3",
   "language": "python",
   "name": "python3"
  },
  "language_info": {
   "codemirror_mode": {
    "name": "ipython",
    "version": 3
   },
   "file_extension": ".py",
   "mimetype": "text/x-python",
   "name": "python",
   "nbconvert_exporter": "python",
   "pygments_lexer": "ipython3",
   "version": "3.10.5"
  }
 },
 "nbformat": 4,
 "nbformat_minor": 2
}
