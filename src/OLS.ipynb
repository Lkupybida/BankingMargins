{
 "cells": [
  {
   "cell_type": "code",
   "execution_count": 1,
   "metadata": {
    "ExecuteTime": {
     "end_time": "2024-04-29T18:57:29.482925Z",
     "start_time": "2024-04-29T18:57:29.462778Z"
    }
   },
   "outputs": [],
   "source": [
    "import matplotlib.pyplot as plt\n",
    "import pandas as pd\n",
    "import os\n",
    "import statsmodels.api as sm\n",
    "import warnings"
   ]
  },
  {
   "cell_type": "code",
   "execution_count": 59,
   "metadata": {
    "ExecuteTime": {
     "end_time": "2024-04-29T18:57:29.493233Z",
     "start_time": "2024-04-29T18:57:29.467973Z"
    }
   },
   "outputs": [
    {
     "name": "stdout",
     "output_type": "stream",
     "text": [
      "                                 OLS Regression Results                                \n",
      "=======================================================================================\n",
      "Dep. Variable:                    NIM   R-squared (uncentered):                   0.337\n",
      "Model:                            OLS   Adj. R-squared (uncentered):              0.172\n",
      "Method:                 Least Squares   F-statistic:                              2.035\n",
      "Date:                Wed, 01 May 2024   Prob (F-statistic):                      0.0549\n",
      "Time:                        14:36:29   Log-Likelihood:                          75.567\n",
      "No. Observations:                  50   AIC:                                     -131.1\n",
      "Df Residuals:                      40   BIC:                                     -112.0\n",
      "Df Model:                          10                                                  \n",
      "Covariance Type:            nonrobust                                                  \n",
      "==============================================================================\n",
      "                 coef    std err          t      P>|t|      [0.025      0.975]\n",
      "------------------------------------------------------------------------------\n",
      "CDR           -0.1252      0.399     -0.313      0.756      -0.932       0.682\n",
      "CR            -0.0225      0.611     -0.037      0.971      -1.258       1.213\n",
      "INF            0.0719      0.084      0.852      0.400      -0.099       0.243\n",
      "NIA            0.0166      0.005      3.356      0.002       0.007       0.027\n",
      "OE            -0.0237      0.051     -0.464      0.645      -0.127       0.080\n",
      "PR            -0.0199      0.057     -0.348      0.730      -0.135       0.095\n",
      "RA             0.1477      0.190      0.775      0.443      -0.237       0.532\n",
      "ROA            0.0653      0.040      1.642      0.108      -0.015       0.146\n",
      "SCTA          -0.1429      0.087     -1.651      0.107      -0.318       0.032\n",
      "SIZE           1.9868     10.789      0.184      0.855     -19.818      23.792\n",
      "==============================================================================\n",
      "Omnibus:                        1.034   Durbin-Watson:                   2.755\n",
      "Prob(Omnibus):                  0.596   Jarque-Bera (JB):                0.753\n",
      "Skew:                          -0.300   Prob(JB):                        0.686\n",
      "Kurtosis:                       2.963   Cond. No.                     2.62e+03\n",
      "==============================================================================\n",
      "\n",
      "Notes:\n",
      "[1] R² is computed without centering (uncentered) since the model does not contain a constant.\n",
      "[2] Standard Errors assume that the covariance matrix of the errors is correctly specified.\n",
      "[3] The condition number is large, 2.62e+03. This might indicate that there are\n",
      "strong multicollinearity or other numerical problems.\n",
      "                                 OLS Regression Results                                \n",
      "=======================================================================================\n",
      "Dep. Variable:                    NIM   R-squared (uncentered):                   0.249\n",
      "Model:                            OLS   Adj. R-squared (uncentered):              0.066\n",
      "Method:                 Least Squares   F-statistic:                              1.358\n",
      "Date:                Wed, 01 May 2024   Prob (F-statistic):                       0.234\n",
      "Time:                        14:36:29   Log-Likelihood:                          372.72\n",
      "No. Observations:                  51   AIC:                                     -725.4\n",
      "Df Residuals:                      41   BIC:                                     -706.1\n",
      "Df Model:                          10                                                  \n",
      "Covariance Type:            nonrobust                                                  \n",
      "==============================================================================\n",
      "                 coef    std err          t      P>|t|      [0.025      0.975]\n",
      "------------------------------------------------------------------------------\n",
      "CDR           -0.0088      0.004     -1.976      0.055      -0.018       0.000\n",
      "CR             0.0012      0.006      0.218      0.828      -0.010       0.012\n",
      "INF        -5.201e-05   5.92e-05     -0.878      0.385      -0.000    6.76e-05\n",
      "NIA            0.0061      0.003      1.801      0.079      -0.001       0.013\n",
      "OE            -0.0393      0.067     -0.590      0.558      -0.174       0.095\n",
      "PR          3.663e-06   3.18e-05      0.115      0.909   -6.05e-05    6.78e-05\n",
      "RA             0.0145      0.009      1.689      0.099      -0.003       0.032\n",
      "ROA            0.0212      0.024      0.879      0.384      -0.027       0.070\n",
      "SCTA           0.0019      0.013      0.147      0.884      -0.025       0.029\n",
      "SIZE          -0.0012      0.003     -0.403      0.689      -0.007       0.005\n",
      "==============================================================================\n",
      "Omnibus:                        0.006   Durbin-Watson:                   2.796\n",
      "Prob(Omnibus):                  0.997   Jarque-Bera (JB):                0.151\n",
      "Skew:                          -0.008   Prob(JB):                        0.927\n",
      "Kurtosis:                       2.734   Cond. No.                     2.62e+03\n",
      "==============================================================================\n",
      "\n",
      "Notes:\n",
      "[1] R² is computed without centering (uncentered) since the model does not contain a constant.\n",
      "[2] Standard Errors assume that the covariance matrix of the errors is correctly specified.\n",
      "[3] The condition number is large, 2.62e+03. This might indicate that there are\n",
      "strong multicollinearity or other numerical problems.\n"
     ]
    }
   ],
   "source": [
    "def plot_graphs(path):\n",
    "    df=pd.read_csv(path+\"NIM.csv\")\n",
    "    df.dropna(axis = 0, how = 'any', inplace=True)\n",
    "    arr = ['CDR', 'CR','INF','NIA','OE','PR', 'RA', 'ROA','SCTA','SIZE']\n",
    "    # ['CDR', 'CR','INF','NIA','OE','PR', 'RA', 'ROA','SCTA','SIZE']\n",
    "    for name in arr:\n",
    "        gotten=pd.read_csv(path+name+\".csv\")\n",
    "        gotten.dropna(axis = 0, how = 'any', inplace = True)\n",
    "        df[gotten.columns[1]]=gotten[gotten.columns[1]]\n",
    "    Y=df['NIM']\n",
    "    X=df[arr]\n",
    "    model = sm.OLS(Y, X).fit()\n",
    "\n",
    "    print(model.summary())\n",
    "plot_graphs(\"./../data/9_c_detrend/pct/\")\n",
    "plot_graphs(\"./../data/9_c_detrend/wavelet/\")\n",
    "# plot_graphs(\"./../data/9_c_detrend/decomposition/detrended/\")"
   ]
  }
 ],
 "metadata": {
  "kernelspec": {
   "display_name": "Python 3",
   "language": "python",
   "name": "python3"
  },
  "language_info": {
   "codemirror_mode": {
    "name": "ipython",
    "version": 3
   },
   "file_extension": ".py",
   "mimetype": "text/x-python",
   "name": "python",
   "nbconvert_exporter": "python",
   "pygments_lexer": "ipython3",
   "version": "3.10.5"
  }
 },
 "nbformat": 4,
 "nbformat_minor": 2
}
