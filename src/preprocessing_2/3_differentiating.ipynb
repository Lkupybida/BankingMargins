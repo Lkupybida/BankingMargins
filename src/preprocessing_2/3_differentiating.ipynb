{
 "cells": [
  {
   "cell_type": "code",
   "execution_count": 61,
   "metadata": {},
   "outputs": [],
   "source": [
    "import pandas as pd\n",
    "import os\n",
    "import shutil\n",
    "from datetime import datetime"
   ]
  },
  {
   "cell_type": "markdown",
   "metadata": {},
   "source": [
    "Differentiate"
   ]
  },
  {
   "cell_type": "code",
   "execution_count": 72,
   "metadata": {},
   "outputs": [],
   "source": [
    "sel_dir =  \"./../../data/2_selected_banks/\"\n",
    "dif_dir = \"./../../data/3_differentiate/\"\n",
    "\n",
    "def remove_rolling_sum(file_path, out_path):\n",
    "    df = pd.read_csv(file_path, index_col=0)\n",
    "    df_diff = df.diff(axis=0)\n",
    "    for idx in df.index:\n",
    "        if datetime.strptime(idx, '%Y/%m/%d').month == 2:\n",
    "            df_diff.loc[idx] = df.loc[idx]\n",
    "    df_diff.to_csv(out_path)"
   ]
  },
  {
   "cell_type": "code",
   "execution_count": 76,
   "metadata": {},
   "outputs": [],
   "source": [
    "rolling_lst = [\"AE.csv\", \"NI.csv\", \"NII.csv\", \"TI.csv\"]\n",
    "\n",
    "for var in rolling_lst:\n",
    "    d = remove_rolling_sum(sel_dir + var, dif_dir + var)\n",
    "\n",
    "for var in os.listdir(sel_dir):\n",
    "    if var not in rolling_lst:\n",
    "        shutil.copy(sel_dir + var, dif_dir + var)"
   ]
  }
 ],
 "metadata": {
  "kernelspec": {
   "display_name": "Python 3",
   "language": "python",
   "name": "python3"
  },
  "language_info": {
   "codemirror_mode": {
    "name": "ipython",
    "version": 3
   },
   "file_extension": ".py",
   "mimetype": "text/x-python",
   "name": "python",
   "nbconvert_exporter": "python",
   "pygments_lexer": "ipython3",
   "version": "3.12.3"
  }
 },
 "nbformat": 4,
 "nbformat_minor": 2
}
