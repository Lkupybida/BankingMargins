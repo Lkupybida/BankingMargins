{
 "cells": [
  {
   "cell_type": "code",
   "execution_count": 1,
   "metadata": {},
   "outputs": [],
   "source": [
    "import pandas as pd\n",
    "import os\n",
    "import shutil"
   ]
  },
  {
   "cell_type": "code",
   "execution_count": 5,
   "metadata": {},
   "outputs": [],
   "source": [
    "rem_i_dir = \"./../../data/5_remove_invalid/\"\n",
    "comp_dir = \"./../../data/6_comp_time_series/\""
   ]
  },
  {
   "cell_type": "code",
   "execution_count": 14,
   "metadata": {},
   "outputs": [],
   "source": [
    "banks_data = [i for i in os.listdir(rem_i_dir) if i[:-4] not in [\"INF\", \"PR\"]]\n",
    "for var in banks_data:\n",
    "    df = pd.read_csv(rem_i_dir + var, index_col=0)\n",
    "    column_names = df.columns\n",
    "    df[var[:-4]] = df[column_names].sum(axis=1)\n",
    "    df_1 = df.loc[:, df.columns.str.startswith(var[:-4])]\n",
    "    df_1.to_csv(comp_dir + var)"
   ]
  },
  {
   "cell_type": "code",
   "execution_count": 15,
   "metadata": {},
   "outputs": [],
   "source": [
    "for var in [\"INF.csv\", \"PR.csv\"]:\n",
    "    shutil.copy(rem_i_dir + var, comp_dir + var)"
   ]
  }
 ],
 "metadata": {
  "kernelspec": {
   "display_name": "Python 3",
   "language": "python",
   "name": "python3"
  },
  "language_info": {
   "codemirror_mode": {
    "name": "ipython",
    "version": 3
   },
   "file_extension": ".py",
   "mimetype": "text/x-python",
   "name": "python",
   "nbconvert_exporter": "python",
   "pygments_lexer": "ipython3",
   "version": "3.12.3"
  }
 },
 "nbformat": 4,
 "nbformat_minor": 2
}
