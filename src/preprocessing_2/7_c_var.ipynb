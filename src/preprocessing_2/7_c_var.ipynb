{
 "cells": [
  {
   "cell_type": "code",
   "execution_count": 2,
   "metadata": {},
   "outputs": [],
   "source": [
    "import pandas as pd\n",
    "import os\n",
    "import shutil\n",
    "import numpy as np"
   ]
  },
  {
   "cell_type": "code",
   "execution_count": 3,
   "metadata": {},
   "outputs": [],
   "source": [
    "all_banks = [['cb privatbank', 'lime'], ['credit agricole bank', 'cyan'], ['fuib', 'red'], ['kredobank', 'orange'], ['oschadbank', 'black'], ['otp bank', 'green'], ['pivdennyi bank', 'magenta'], ['raiffeisen bank', 'yellow'], ['sense bank', 'blue'], ['ukrsibbank', 'darkred'], ['universal bank', 'indigo']]\n",
    "\n",
    "df_ta = pd.read_csv(\"./../../data/5_remove_invalid/TA.csv\", index_col=0)\n",
    "df_inf = pd.read_csv(\"./../../data/5_remove_invalid/INF.csv\", index_col=0)\n",
    "for bank in all_banks:\n",
    "    df_ta[bank[0]] = np.log(df_ta[bank[0]] * 100 / (100 + df_inf['INF']))\n",
    "\n",
    "var_dir = \"./../../data/8_variables/\"\n",
    "df_ta.to_csv(var_dir + \"SIZE.csv\")"
   ]
  },
  {
   "cell_type": "code",
   "execution_count": 4,
   "metadata": {},
   "outputs": [],
   "source": [
    "gl_dir = \"./../../data/6_comp_time_series/\"\n",
    "\n",
    "all_banks = [['TA', \"\"]]\n",
    "df_ta = pd.read_csv(gl_dir + \"TA.csv\", index_col=0)\n",
    "df_inf = pd.read_csv(gl_dir + \"INF.csv\", index_col=0)\n",
    "for bank in all_banks:\n",
    "    df_ta[bank[0]] = np.log(df_ta[bank[0]] * 100 / (100 + df_inf['INF']))\n",
    "\n",
    "var_dir = \"./../../data/7_c_variables/\"\n",
    "df_ta.to_csv(var_dir + \"SIZE.csv\")"
   ]
  }
 ],
 "metadata": {
  "kernelspec": {
   "display_name": "Python 3",
   "language": "python",
   "name": "python3"
  },
  "language_info": {
   "codemirror_mode": {
    "name": "ipython",
    "version": 3
   },
   "file_extension": ".py",
   "mimetype": "text/x-python",
   "name": "python",
   "nbconvert_exporter": "python",
   "pygments_lexer": "ipython3",
   "version": "3.12.3"
  }
 },
 "nbformat": 4,
 "nbformat_minor": 2
}
