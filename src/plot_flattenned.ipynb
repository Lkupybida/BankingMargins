{
 "cells": [
  {
   "cell_type": "code",
   "execution_count": null,
   "id": "initial_id",
   "metadata": {
    "collapsed": true,
    "is_executing": true
   },
   "outputs": [],
   "source": [
    "import pandas as pd\n",
    "import os\n",
    "import matplotlib.pyplot as plt\n",
    "import warnings"
   ]
  },
  {
   "cell_type": "code",
   "execution_count": null,
   "outputs": [],
   "source": [
    "def remove_all_rows_exept(df, row_to_keep, column_num):\n",
    "    return df[df.iloc[:, column_num] == row_to_keep]"
   ],
   "metadata": {
    "collapsed": false,
    "is_executing": true
   },
   "id": "ae94574966d3a9e0"
  },
  {
   "cell_type": "code",
   "execution_count": null,
   "outputs": [],
   "source": [
    "def plot(bank, data, path, method, detrending, deseasoning):\n",
    "    if method == '':\n",
    "        df = pd.read_csv(path + '.csv')\n",
    "    else:\n",
    "        if method == 'decomposition':\n",
    "            if deseasoning == 'deseasoned':\n",
    "               df = pd.read_csv(path + '_' + method + '_' + detrending + '_and_' + deseasoning + '.csv')\n",
    "            else:\n",
    "                df = pd.read_csv(path + '_' + method + '_' + detrending + '.csv')\n",
    "        else:\n",
    "            df = pd.read_csv(path + '_' + method + '.csv')\n",
    "    df['Date'] = pd.to_datetime(df['Date'])\n",
    "    df = remove_all_rows_exept(df, bank, 1)\n",
    "    plt.figure(figsize=(14, 7))\n",
    "    plt.style.use('_mpl-gallery')\n",
    "    plt.title(bank + '`s ' + data + ' ' + detrending + ' ' + deseasoning + ' using ' + method)\n",
    "    plt.plot(df['Date'], df[data])\n",
    "    plt.show()"
   ],
   "metadata": {
    "collapsed": false,
    "is_executing": true
   },
   "id": "a3446862034f1260"
  },
  {
   "cell_type": "code",
   "execution_count": null,
   "outputs": [],
   "source": [
    "for bank in [\"Privat_Bank\", \"Credit_Agricole\", \n",
    "             \"FUIB\", \"Kredobank\", \"Oschadbank\",\n",
    "             \"OTP\", \"Pivdennyi\", \"Raiffeisen\",\n",
    "             \"Sense\", \"Ukrsibbank\", \"Universal\"]:\n",
    "    for variable in [\"CDR\", \"CR\", \"INF\", \n",
    "                     \"LAS\", \"NIA\", \"NIM\",\n",
    "                     \"OE\", \"PR\", \"RA\",\n",
    "                     \"ROA\", \"SCTA\", \"SIZE\"]:\n",
    "        print(bank)\n",
    "        plot(bank, variable, './../data/11_flattenned/flatten_variables', '', '', '')\n",
    "        plot(bank, variable, './../data/11_flattenned/flatten_variables', 'pct', 'detrended', '')\n",
    "        plot(bank, variable, './../data/11_flattenned/flatten_variables', 'wavelet', 'detrended', '')\n",
    "        plot(bank, variable, './../data/11_flattenned/flatten_variables', 'decomposition', 'detrended', '')\n",
    "        plot(bank, variable, './../data/11_flattenned/flatten_variables', 'decomposition', 'detrended', 'deseasoned')\n",
    "warnings.simplefilter(action='ignore')"
   ],
   "metadata": {
    "collapsed": false,
    "is_executing": true
   },
   "id": "e8f6caf187a6403a"
  }
 ],
 "metadata": {
  "kernelspec": {
   "display_name": "Python 3",
   "language": "python",
   "name": "python3"
  },
  "language_info": {
   "codemirror_mode": {
    "name": "ipython",
    "version": 2
   },
   "file_extension": ".py",
   "mimetype": "text/x-python",
   "name": "python",
   "nbconvert_exporter": "python",
   "pygments_lexer": "ipython2",
   "version": "2.7.6"
  }
 },
 "nbformat": 4,
 "nbformat_minor": 5
}
